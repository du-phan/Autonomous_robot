{
 "cells": [
  {
   "cell_type": "code",
   "execution_count": 1,
   "metadata": {
    "collapsed": true
   },
   "outputs": [],
   "source": [
    "# -*- coding: utf-8 -*-\n",
    "import re\n",
    "import time\n",
    "import datetime \n",
    "import operator\n",
    "import numpy as np\n",
    "import pandas as pd \n",
    "import collections\n",
    "import unicodedata\n",
    "import collections\n",
    "import seaborn as sns\n",
    "import collections\n",
    "import matplotlib.pylab as pylab\n",
    "import matplotlib.pyplot as plt\n",
    "\n",
    "from tqdm import tqdm\n",
    "from collections import Counter\n",
    "from datetime import datetime, date, timedelta\n",
    "from IPython.display import Image\n",
    "\n",
    "\n",
    "%matplotlib inline\n",
    "\n",
    "pylab.rcParams['figure.figsize'] = 10,8\n",
    "\n",
    "plt.style.use('bmh')\n",
    "colors = ['#348ABD', '#A60628', '#7A68A6', '#467821', '#D55E00', \n",
    "          '#CC79A7', '#56B4E9', '#009E73', '#F0E442', '#0072B2']"
   ]
  },
  {
   "cell_type": "code",
   "execution_count": 2,
   "metadata": {
    "collapsed": false
   },
   "outputs": [],
   "source": [
    "reward_table = [\n",
    "    [ -250 , -15000, -405 , -15000],\n",
    "    [-309 , -15000, -400 , 405  ],\n",
    "    [-262 , -15000, -255 , 400  ],\n",
    "    [-231 , -15000, -77  , 255  ],\n",
    "    [-61  , -15000, 0    , 77   ],\n",
    "    [0    , -15000, 0    , 0    ],\n",
    "    [0    , -15000, -15000, 0    ],\n",
    "    [-325 , 250  , -452 , -15000],\n",
    "    [-270 , 309  , -325 , 452  ],\n",
    "    [-200 , 262  , -190 , 325  ],\n",
    "    [-125 , 231  , -10  , 190  ],\n",
    "    [-2   , 61   , 0    , 10   ],\n",
    "    [0    , 0    , 0    , 0    ],\n",
    "    [0    , 0    , -15000, 0    ],\n",
    "    [-192 , 325  , -390 , -15000],\n",
    "    [-169 , 270  , -285 , -390 ],\n",
    "    [-105 , 200  , -132 , 285  ],\n",
    "    [-10  , 125  , -5   , 132  ],\n",
    "    [0    , 2    , 0    , 5    ],\n",
    "    [0    , 0    , 0    , 0    ],\n",
    "    [0    , 0    , -15000, 0    ],\n",
    "    [-117 , 192  , -350 , -15000],\n",
    "    [-67  , 169  , -235 , 350  ],\n",
    "    [-8   , 105  , -26  , 235  ],\n",
    "    [0    , 10   , 0    , 26   ],\n",
    "    [0    , 0    , 0    , 0    ],\n",
    "    [0    , 0    , 0    , 0    ],\n",
    "    [0    , 0    , -15000, 0    ],\n",
    "    [-38  , 117  , -250 , -15000],\n",
    "    [0    , 67   , -148 , 250  ],\n",
    "    [0    , 8    , -3   , 148  ],\n",
    "    [0    , 0    , 0    , 3    ],\n",
    "    [0    , 0    , 0    , 0    ],\n",
    "    [0    , 0    , 0    , 0    ],\n",
    "    [0    , 0    , -15000, 0    ],\n",
    "    [0    , 38   , -195 , -15000],\n",
    "    [0    , 0    , -193 , 195  ],\n",
    "    [0    , 0    , -5   , 193  ],\n",
    "    [0    , 0    , 0    , 5    ],\n",
    "    [0    , 0    , 0    , 0    ],\n",
    "    [0    , 0    , 0    , 0    ],\n",
    "    [0    , 0    , -15000, 0    ],\n",
    "    [-15000, 0    , -255 , -15000],\n",
    "    [-15000, 0    , -190 , 255  ],\n",
    "    [-15000, 0    , -8   , 190  ],\n",
    "    [-15000, 0    , 0    , 8   ],\n",
    "    [-15000, 0    , 0    , 0    ],\n",
    "    [-15000, 0    , 0    , 0    ],\n",
    "    [-15000, 0    , -15000, 0    ]\n",
    "]; "
   ]
  },
  {
   "cell_type": "code",
   "execution_count": 3,
   "metadata": {
    "collapsed": false
   },
   "outputs": [],
   "source": [
    "def softmax(f):\n",
    "    f = f - np.max(f)\n",
    "    p = np.exp(f) / np.sum(np.exp(f))\n",
    "    return p"
   ]
  },
  {
   "cell_type": "code",
   "execution_count": 4,
   "metadata": {
    "collapsed": false,
    "scrolled": true
   },
   "outputs": [],
   "source": [
    "softmax_reward_table = np.apply_along_axis(softmax, 1, reward_table)"
   ]
  },
  {
   "cell_type": "code",
   "execution_count": 5,
   "metadata": {
    "collapsed": true
   },
   "outputs": [],
   "source": [
    "def action_is_allowed(learner, state, action):\n",
    "\n",
    "    if (action == 0 and not(state > learner.num_states - learner.servo_num_states - 1)):\n",
    "        return True\n",
    "    elif (action == 1 and not(state < learner.servo_num_states)):\n",
    "        return True\n",
    "    elif (action == 2 and not((state%learner.servo_num_states) == (learner.servo_num_states-1))):\n",
    "        return True\n",
    "    elif (action == 3 and not(state%learner.servo_num_states==0)):\n",
    "        return True\n",
    "    else:\n",
    "        return False"
   ]
  },
  {
   "cell_type": "code",
   "execution_count": 153,
   "metadata": {
    "collapsed": false
   },
   "outputs": [],
   "source": [
    "class QLearner(object):\n",
    "    def __init__(self, \n",
    "                 servo_num_states, \n",
    "                 num_actions, \n",
    "                 alpha, \n",
    "                 gamma, \n",
    "                 random_action_rate,\n",
    "                 random_action_decay_rate, \n",
    "                 warm_up_period, \n",
    "                 action_penalty,\n",
    "                 negative_reward_coef,\n",
    "                 interest_zone_reward_coef,\n",
    "                 initial_state):\n",
    "        \n",
    "        self.servo_num_states = servo_num_states\n",
    "        self.num_states = servo_num_states**2\n",
    "        self.num_actions = num_actions\n",
    "        self.alpha = alpha\n",
    "        self.gamma = gamma\n",
    "        self.random_action_rate = random_action_rate\n",
    "        self.random_action_decay_rate = random_action_decay_rate\n",
    "        self.warm_up_period = warm_up_period\n",
    "        self.state = initial_state\n",
    "        self.action = 0\n",
    "        self.action_penalty = action_penalty\n",
    "        #self.qtable = np.random.uniform(low=-1, high=1, size=(self.num_states, self.num_actions))\n",
    "        self.qtable = np.zeros((self.num_states, self.num_actions))\n",
    "        self.num_iteration = 0\n",
    "        self.last_reward = 0\n",
    "        self.negative_reward_coef = negative_reward_coef\n",
    "        self.interest_zone_reward_coef = interest_zone_reward_coef\n",
    "        self.scaling_factor = 1\n",
    "        \n",
    "    def set_initial_state(self, action):\n",
    "        \"\"\"\n",
    "        @summary: Sets the initial state and returns an action\n",
    "        @param state: The initial state\n",
    "        @returns: The selected action\n",
    "        \"\"\"\n",
    "        self.state = int(self.num_states/2)\n",
    "        self.action = action #self.qtable[state].argsort()[-1]\n",
    "        \n",
    "    def get_next_state(self):\n",
    "        \n",
    "        next_state = None\n",
    "        \n",
    "        if (self.action == 0 and action_is_allowed(self, self.state, self.action)): \n",
    "            next_state = self.state + self.servo_num_states\n",
    "        elif (self.action == 1 and action_is_allowed(self, self.state, self.action)):\n",
    "            next_state = self.state - self.servo_num_states\n",
    "        elif (self.action == 2 and action_is_allowed(self, self.state, self.action)):\n",
    "            next_state = self.state + 1\n",
    "        elif (self.action == 3 and action_is_allowed(self, self.state, self.action)):\n",
    "            next_state = self.state - 1 \n",
    "        else:\n",
    "            next_state = self.state;\n",
    "            \n",
    "        return next_state\n",
    "        \n",
    "    def move(self, state_prime, reward):\n",
    "        \"\"\"\n",
    "        @summary: Moves to the given state with given reward and returns action\n",
    "        @param state_prime: The new state\n",
    "        @param reward: The reward\n",
    "        @returns: The selected action\n",
    "        \"\"\"\n",
    "        alpha = self.alpha\n",
    "        gamma = self.gamma\n",
    "        state = self.state\n",
    "        action = self.action\n",
    "        qtable = self.qtable\n",
    "        action_prime = -1\n",
    "        \n",
    "#         if self.state == state_prime: \n",
    "\n",
    "#             while not self.action_is_allowed(action_prime):\n",
    "#                 action_prime = np.random.randint(0, self.num_actions)\n",
    "            \n",
    "#             self.action = action_prime\n",
    "            \n",
    "        if False:\n",
    "            print 'yo'\n",
    "            \n",
    "        else: \n",
    "            \n",
    "            choose_random_action = (1 - self.random_action_rate) <= np.random.uniform(0, 1)\n",
    "\n",
    "            if choose_random_action:\n",
    "#                 while not(action_is_allowed(self, state_prime, action_prime)): \n",
    "                action_prime = np.random.randint(0, self.num_actions)\n",
    "            else:\n",
    "                ordered_action_list = self.qtable[state_prime].argsort()\n",
    "                best_choice_index = -1\n",
    "#                 while not(action_is_allowed(self, state_prime, action_prime)):\n",
    "                action_prime = ordered_action_list[best_choice_index]\n",
    "#                     best_choice_index -= 1\n",
    "\n",
    "            if self.num_iteration > self.warm_up_period: # warm up period is over\n",
    "                self.random_action_rate *= self.random_action_decay_rate\n",
    "                    \n",
    "            \n",
    "            if reward < 0 and np.abs(reward) < 15000:\n",
    "                reward = reward * self.negative_reward_coef\n",
    "            \n",
    "            if self.num_iteration % 50 == 0:\n",
    "                qtable *= self.scaling_factor\n",
    "                \n",
    "            \n",
    "            qtable[state, action] = qtable[state, action] + alpha * (reward + gamma * qtable[state_prime, action_prime] - qtable[state, action])\n",
    "\n",
    "            self.state = state_prime\n",
    "            self.action = action_prime    \n",
    "            self.qtable = qtable"
   ]
  },
  {
   "cell_type": "code",
   "execution_count": 148,
   "metadata": {
    "collapsed": true
   },
   "outputs": [],
   "source": [
    "def get_final_reward(learner, reward_table, training_iteration):\n",
    "    \n",
    "    reward_list = []\n",
    "    \n",
    "    for iteration_step in xrange(training_iteration):\n",
    "\n",
    "        reward = reward_table[learner.state][learner.action] - learner.action_penalty\n",
    "\n",
    "        if learner.state % learner.servo_num_states > 2 and learner.state < 30:\n",
    "            reward = reward * learner.interest_zone_reward_coef if reward > 0 else reward\n",
    "            \n",
    "        if reward < 0:\n",
    "            reward *= learner.negative_reward_coef\n",
    "        \n",
    "        next_state = learner.get_next_state()\n",
    "\n",
    "        learner.move(next_state, reward)\n",
    "        \n",
    "        learner.num_iteration += 1 \n",
    "\n",
    "        reward_list.append(np.mean(reward))\n",
    "        \n",
    "    return np.mean(reward_list)\n",
    "    \n",
    "    "
   ]
  },
  {
   "cell_type": "code",
   "execution_count": 222,
   "metadata": {
    "collapsed": false
   },
   "outputs": [],
   "source": [
    "from hyperopt import hp, fmin, tpe, hp, STATUS_OK, Trials\n",
    "import datetime\n",
    "\n",
    "best_score = np.inf\n",
    "\n",
    "def score(params):\n",
    "    \n",
    "    global best_score    \n",
    "    \n",
    "    num_iteration = 2\n",
    "    \n",
    "    loss_vector = []\n",
    "    \n",
    "    for i in xrange(num_iteration):\n",
    "    \n",
    "        learner = QLearner(servo_num_states = 7,\n",
    "                           num_actions=4,\n",
    "                           alpha=float(params['alpha']),\n",
    "                           gamma=float(params['gamma']),\n",
    "                           random_action_rate=float(params['random_action_rate']),\n",
    "                           random_action_decay_rate=float(params['random_action_decay_rate']),\n",
    "                           warm_up_period=int(params['warm_up_period']),\n",
    "                           action_penalty=50,\n",
    "                           negative_reward_coef=1, #float(params['negative_reward_coef']),\n",
    "                           interest_zone_reward_coef =1, #float(params['interest_zone_reward_coef']),\n",
    "                           initial_state=24)#int(params['initial_state'])) #float(params['action_penalty']))\n",
    "        #learner.set_initial_state(action=0)\n",
    "\n",
    "        temp_loss = - get_final_reward(learner, reward_table, training_iteration=50000) # negative because we want to minimize loss\n",
    "        loss_vector.append(temp_loss)\n",
    "        \n",
    "    loss = np.mean(loss_vector)\n",
    "    \n",
    "    if loss < best_score: \n",
    "        print \"Searching...\", \n",
    "        print \"New best score: {0:.6f}\".format(-loss), \n",
    "        print params \n",
    "        print datetime.datetime.now().time()\n",
    "        print\n",
    "        best_score = loss\n",
    "\n",
    "    return {'loss': loss, 'status': STATUS_OK}\n",
    "    \n",
    "def optimize(trials):\n",
    "        \n",
    "    space = {\n",
    "             'alpha': hp.uniform('alpha', 0.1, 1),\n",
    "             'gamma': hp.uniform('gamma', 0.1, 1),\n",
    "             'random_action_rate': hp.uniform('random_action_rate', 0.1,1), \n",
    "             'random_action_decay_rate': hp.uniform('random_action_decay_rate', 0.1, 1),\n",
    "             'warm_up_period': hp.quniform('warm_up_period', 0, 50, 1)\n",
    "#              'initial_state': hp.quniform('initial_state', 0, 47, 1)\n",
    "#              'negative_reward_coef': hp.uniform('negative_reward_coef', 1, 1.5),\n",
    "#              'interest_zone_reward_coef': hp.uniform('interest_zone_reward_coef', 1, 1.5)\n",
    "            }\n",
    "\n",
    "    best = fmin(score, space, algo=tpe.suggest, trials=trials, max_evals=500)\n",
    "\n",
    "    print '------------------------' \n",
    "    print \"Done.\"\n",
    "    print \"Best parameter setting:\", best\n",
    "    return best"
   ]
  },
  {
   "cell_type": "code",
   "execution_count": 223,
   "metadata": {
    "collapsed": false,
    "scrolled": false
   },
   "outputs": [
    {
     "name": "stdout",
     "output_type": "stream",
     "text": [
      "Searching... New best score: -54.033230 {'random_action_rate': 0.5932182468439383, 'warm_up_period': 18.0, 'gamma': 0.9076247919054737, 'random_action_decay_rate': 0.9627554365415967, 'alpha': 0.27031053808280464}\n",
      "17:24:04.566655\n",
      "\n",
      "Searching... New best score: -53.742400 {'random_action_rate': 0.2942254782758122, 'warm_up_period': 31.0, 'gamma': 0.19769316709691204, 'random_action_decay_rate': 0.7866836786669388, 'alpha': 0.2647812653804158}\n",
      "17:24:11.853936\n",
      "\n",
      "Searching... New best score: -52.542280 {'random_action_rate': 0.7009944029877727, 'warm_up_period': 17.0, 'gamma': 0.7280447375987511, 'random_action_decay_rate': 0.6288218749572573, 'alpha': 0.5732708531604611}\n",
      "17:24:22.759437\n",
      "\n",
      "Searching... New best score: -51.488520 {'random_action_rate': 0.6971195639784412, 'warm_up_period': 35.0, 'gamma': 0.4922456690325856, 'random_action_decay_rate': 0.884151244614023, 'alpha': 0.42342305392704693}\n",
      "17:24:26.350238\n",
      "\n",
      "Searching... New best score: -36.359900 {'random_action_rate': 0.9943732853137817, 'warm_up_period': 34.0, 'gamma': 0.9848296961148684, 'random_action_decay_rate': 0.5513347280847156, 'alpha': 0.426402234221428}\n",
      "17:25:42.724750\n",
      "\n",
      "Searching... New best score: -32.839660 {'random_action_rate': 0.3019595582543259, 'warm_up_period': 46.0, 'gamma': 0.9758541654964458, 'random_action_decay_rate': 0.4885980315144308, 'alpha': 0.7155591636155634}\n",
      "17:26:24.768307\n",
      "\n"
     ]
    },
    {
     "ename": "KeyboardInterrupt",
     "evalue": "",
     "output_type": "error",
     "traceback": [
      "\u001b[0;31m---------------------------------------------------------------------------\u001b[0m",
      "\u001b[0;31mKeyboardInterrupt\u001b[0m                         Traceback (most recent call last)",
      "\u001b[0;32m<ipython-input-223-a5c8481f0eb5>\u001b[0m in \u001b[0;36m<module>\u001b[0;34m()\u001b[0m\n\u001b[0;32m----> 1\u001b[0;31m \u001b[0mget_ipython\u001b[0m\u001b[0;34m(\u001b[0m\u001b[0;34m)\u001b[0m\u001b[0;34m.\u001b[0m\u001b[0mrun_cell_magic\u001b[0m\u001b[0;34m(\u001b[0m\u001b[0;34mu'time'\u001b[0m\u001b[0;34m,\u001b[0m \u001b[0;34mu''\u001b[0m\u001b[0;34m,\u001b[0m \u001b[0;34mu'\\n#Trials object where the history of search will be stored\\ntrials = Trials()\\n\\nbest_params = optimize(trials)'\u001b[0m\u001b[0;34m)\u001b[0m\u001b[0;34m\u001b[0m\u001b[0m\n\u001b[0m",
      "\u001b[0;32m/Users/admin/anaconda/lib/python2.7/site-packages/IPython/core/interactiveshell.pyc\u001b[0m in \u001b[0;36mrun_cell_magic\u001b[0;34m(self, magic_name, line, cell)\u001b[0m\n\u001b[1;32m   2118\u001b[0m             \u001b[0mmagic_arg_s\u001b[0m \u001b[0;34m=\u001b[0m \u001b[0mself\u001b[0m\u001b[0;34m.\u001b[0m\u001b[0mvar_expand\u001b[0m\u001b[0;34m(\u001b[0m\u001b[0mline\u001b[0m\u001b[0;34m,\u001b[0m \u001b[0mstack_depth\u001b[0m\u001b[0;34m)\u001b[0m\u001b[0;34m\u001b[0m\u001b[0m\n\u001b[1;32m   2119\u001b[0m             \u001b[0;32mwith\u001b[0m \u001b[0mself\u001b[0m\u001b[0;34m.\u001b[0m\u001b[0mbuiltin_trap\u001b[0m\u001b[0;34m:\u001b[0m\u001b[0;34m\u001b[0m\u001b[0m\n\u001b[0;32m-> 2120\u001b[0;31m                 \u001b[0mresult\u001b[0m \u001b[0;34m=\u001b[0m \u001b[0mfn\u001b[0m\u001b[0;34m(\u001b[0m\u001b[0mmagic_arg_s\u001b[0m\u001b[0;34m,\u001b[0m \u001b[0mcell\u001b[0m\u001b[0;34m)\u001b[0m\u001b[0;34m\u001b[0m\u001b[0m\n\u001b[0m\u001b[1;32m   2121\u001b[0m             \u001b[0;32mreturn\u001b[0m \u001b[0mresult\u001b[0m\u001b[0;34m\u001b[0m\u001b[0m\n\u001b[1;32m   2122\u001b[0m \u001b[0;34m\u001b[0m\u001b[0m\n",
      "\u001b[0;32m<decorator-gen-60>\u001b[0m in \u001b[0;36mtime\u001b[0;34m(self, line, cell, local_ns)\u001b[0m\n",
      "\u001b[0;32m/Users/admin/anaconda/lib/python2.7/site-packages/IPython/core/magic.pyc\u001b[0m in \u001b[0;36m<lambda>\u001b[0;34m(f, *a, **k)\u001b[0m\n\u001b[1;32m    191\u001b[0m     \u001b[0;31m# but it's overkill for just that one bit of state.\u001b[0m\u001b[0;34m\u001b[0m\u001b[0;34m\u001b[0m\u001b[0m\n\u001b[1;32m    192\u001b[0m     \u001b[0;32mdef\u001b[0m \u001b[0mmagic_deco\u001b[0m\u001b[0;34m(\u001b[0m\u001b[0marg\u001b[0m\u001b[0;34m)\u001b[0m\u001b[0;34m:\u001b[0m\u001b[0;34m\u001b[0m\u001b[0m\n\u001b[0;32m--> 193\u001b[0;31m         \u001b[0mcall\u001b[0m \u001b[0;34m=\u001b[0m \u001b[0;32mlambda\u001b[0m \u001b[0mf\u001b[0m\u001b[0;34m,\u001b[0m \u001b[0;34m*\u001b[0m\u001b[0ma\u001b[0m\u001b[0;34m,\u001b[0m \u001b[0;34m**\u001b[0m\u001b[0mk\u001b[0m\u001b[0;34m:\u001b[0m \u001b[0mf\u001b[0m\u001b[0;34m(\u001b[0m\u001b[0;34m*\u001b[0m\u001b[0ma\u001b[0m\u001b[0;34m,\u001b[0m \u001b[0;34m**\u001b[0m\u001b[0mk\u001b[0m\u001b[0;34m)\u001b[0m\u001b[0;34m\u001b[0m\u001b[0m\n\u001b[0m\u001b[1;32m    194\u001b[0m \u001b[0;34m\u001b[0m\u001b[0m\n\u001b[1;32m    195\u001b[0m         \u001b[0;32mif\u001b[0m \u001b[0mcallable\u001b[0m\u001b[0;34m(\u001b[0m\u001b[0marg\u001b[0m\u001b[0;34m)\u001b[0m\u001b[0;34m:\u001b[0m\u001b[0;34m\u001b[0m\u001b[0m\n",
      "\u001b[0;32m/Users/admin/anaconda/lib/python2.7/site-packages/IPython/core/magics/execution.pyc\u001b[0m in \u001b[0;36mtime\u001b[0;34m(self, line, cell, local_ns)\u001b[0m\n\u001b[1;32m   1175\u001b[0m         \u001b[0;32melse\u001b[0m\u001b[0;34m:\u001b[0m\u001b[0;34m\u001b[0m\u001b[0m\n\u001b[1;32m   1176\u001b[0m             \u001b[0mst\u001b[0m \u001b[0;34m=\u001b[0m \u001b[0mclock2\u001b[0m\u001b[0;34m(\u001b[0m\u001b[0;34m)\u001b[0m\u001b[0;34m\u001b[0m\u001b[0m\n\u001b[0;32m-> 1177\u001b[0;31m             \u001b[0;32mexec\u001b[0m\u001b[0;34m(\u001b[0m\u001b[0mcode\u001b[0m\u001b[0;34m,\u001b[0m \u001b[0mglob\u001b[0m\u001b[0;34m,\u001b[0m \u001b[0mlocal_ns\u001b[0m\u001b[0;34m)\u001b[0m\u001b[0;34m\u001b[0m\u001b[0m\n\u001b[0m\u001b[1;32m   1178\u001b[0m             \u001b[0mend\u001b[0m \u001b[0;34m=\u001b[0m \u001b[0mclock2\u001b[0m\u001b[0;34m(\u001b[0m\u001b[0;34m)\u001b[0m\u001b[0;34m\u001b[0m\u001b[0m\n\u001b[1;32m   1179\u001b[0m             \u001b[0mout\u001b[0m \u001b[0;34m=\u001b[0m \u001b[0mNone\u001b[0m\u001b[0;34m\u001b[0m\u001b[0m\n",
      "\u001b[0;32m<timed exec>\u001b[0m in \u001b[0;36m<module>\u001b[0;34m()\u001b[0m\n",
      "\u001b[0;32m<ipython-input-222-e3d98794101e>\u001b[0m in \u001b[0;36moptimize\u001b[0;34m(trials)\u001b[0m\n\u001b[1;32m     55\u001b[0m             }\n\u001b[1;32m     56\u001b[0m \u001b[0;34m\u001b[0m\u001b[0m\n\u001b[0;32m---> 57\u001b[0;31m     \u001b[0mbest\u001b[0m \u001b[0;34m=\u001b[0m \u001b[0mfmin\u001b[0m\u001b[0;34m(\u001b[0m\u001b[0mscore\u001b[0m\u001b[0;34m,\u001b[0m \u001b[0mspace\u001b[0m\u001b[0;34m,\u001b[0m \u001b[0malgo\u001b[0m\u001b[0;34m=\u001b[0m\u001b[0mtpe\u001b[0m\u001b[0;34m.\u001b[0m\u001b[0msuggest\u001b[0m\u001b[0;34m,\u001b[0m \u001b[0mtrials\u001b[0m\u001b[0;34m=\u001b[0m\u001b[0mtrials\u001b[0m\u001b[0;34m,\u001b[0m \u001b[0mmax_evals\u001b[0m\u001b[0;34m=\u001b[0m\u001b[0;36m500\u001b[0m\u001b[0;34m)\u001b[0m\u001b[0;34m\u001b[0m\u001b[0m\n\u001b[0m\u001b[1;32m     58\u001b[0m \u001b[0;34m\u001b[0m\u001b[0m\n\u001b[1;32m     59\u001b[0m     \u001b[0;32mprint\u001b[0m \u001b[0;34m'------------------------'\u001b[0m\u001b[0;34m\u001b[0m\u001b[0m\n",
      "\u001b[0;32m/Users/admin/anaconda/lib/python2.7/site-packages/hyperopt/fmin.pyc\u001b[0m in \u001b[0;36mfmin\u001b[0;34m(fn, space, algo, max_evals, trials, rstate, allow_trials_fmin, pass_expr_memo_ctrl, catch_eval_exceptions, verbose, return_argmin)\u001b[0m\n\u001b[1;32m    305\u001b[0m             \u001b[0mverbose\u001b[0m\u001b[0;34m=\u001b[0m\u001b[0mverbose\u001b[0m\u001b[0;34m,\u001b[0m\u001b[0;34m\u001b[0m\u001b[0m\n\u001b[1;32m    306\u001b[0m             \u001b[0mcatch_eval_exceptions\u001b[0m\u001b[0;34m=\u001b[0m\u001b[0mcatch_eval_exceptions\u001b[0m\u001b[0;34m,\u001b[0m\u001b[0;34m\u001b[0m\u001b[0m\n\u001b[0;32m--> 307\u001b[0;31m             \u001b[0mreturn_argmin\u001b[0m\u001b[0;34m=\u001b[0m\u001b[0mreturn_argmin\u001b[0m\u001b[0;34m,\u001b[0m\u001b[0;34m\u001b[0m\u001b[0m\n\u001b[0m\u001b[1;32m    308\u001b[0m         )\n\u001b[1;32m    309\u001b[0m \u001b[0;34m\u001b[0m\u001b[0m\n",
      "\u001b[0;32m/Users/admin/anaconda/lib/python2.7/site-packages/hyperopt/base.pyc\u001b[0m in \u001b[0;36mfmin\u001b[0;34m(self, fn, space, algo, max_evals, rstate, verbose, pass_expr_memo_ctrl, catch_eval_exceptions, return_argmin)\u001b[0m\n\u001b[1;32m    633\u001b[0m             \u001b[0mpass_expr_memo_ctrl\u001b[0m\u001b[0;34m=\u001b[0m\u001b[0mpass_expr_memo_ctrl\u001b[0m\u001b[0;34m,\u001b[0m\u001b[0;34m\u001b[0m\u001b[0m\n\u001b[1;32m    634\u001b[0m             \u001b[0mcatch_eval_exceptions\u001b[0m\u001b[0;34m=\u001b[0m\u001b[0mcatch_eval_exceptions\u001b[0m\u001b[0;34m,\u001b[0m\u001b[0;34m\u001b[0m\u001b[0m\n\u001b[0;32m--> 635\u001b[0;31m             return_argmin=return_argmin)\n\u001b[0m\u001b[1;32m    636\u001b[0m \u001b[0;34m\u001b[0m\u001b[0m\n\u001b[1;32m    637\u001b[0m \u001b[0;34m\u001b[0m\u001b[0m\n",
      "\u001b[0;32m/Users/admin/anaconda/lib/python2.7/site-packages/hyperopt/fmin.pyc\u001b[0m in \u001b[0;36mfmin\u001b[0;34m(fn, space, algo, max_evals, trials, rstate, allow_trials_fmin, pass_expr_memo_ctrl, catch_eval_exceptions, verbose, return_argmin)\u001b[0m\n\u001b[1;32m    318\u001b[0m                     verbose=verbose)\n\u001b[1;32m    319\u001b[0m     \u001b[0mrval\u001b[0m\u001b[0;34m.\u001b[0m\u001b[0mcatch_eval_exceptions\u001b[0m \u001b[0;34m=\u001b[0m \u001b[0mcatch_eval_exceptions\u001b[0m\u001b[0;34m\u001b[0m\u001b[0m\n\u001b[0;32m--> 320\u001b[0;31m     \u001b[0mrval\u001b[0m\u001b[0;34m.\u001b[0m\u001b[0mexhaust\u001b[0m\u001b[0;34m(\u001b[0m\u001b[0;34m)\u001b[0m\u001b[0;34m\u001b[0m\u001b[0m\n\u001b[0m\u001b[1;32m    321\u001b[0m     \u001b[0;32mif\u001b[0m \u001b[0mreturn_argmin\u001b[0m\u001b[0;34m:\u001b[0m\u001b[0;34m\u001b[0m\u001b[0m\n\u001b[1;32m    322\u001b[0m         \u001b[0;32mreturn\u001b[0m \u001b[0mtrials\u001b[0m\u001b[0;34m.\u001b[0m\u001b[0margmin\u001b[0m\u001b[0;34m\u001b[0m\u001b[0m\n",
      "\u001b[0;32m/Users/admin/anaconda/lib/python2.7/site-packages/hyperopt/fmin.pyc\u001b[0m in \u001b[0;36mexhaust\u001b[0;34m(self)\u001b[0m\n\u001b[1;32m    197\u001b[0m     \u001b[0;32mdef\u001b[0m \u001b[0mexhaust\u001b[0m\u001b[0;34m(\u001b[0m\u001b[0mself\u001b[0m\u001b[0;34m)\u001b[0m\u001b[0;34m:\u001b[0m\u001b[0;34m\u001b[0m\u001b[0m\n\u001b[1;32m    198\u001b[0m         \u001b[0mn_done\u001b[0m \u001b[0;34m=\u001b[0m \u001b[0mlen\u001b[0m\u001b[0;34m(\u001b[0m\u001b[0mself\u001b[0m\u001b[0;34m.\u001b[0m\u001b[0mtrials\u001b[0m\u001b[0;34m)\u001b[0m\u001b[0;34m\u001b[0m\u001b[0m\n\u001b[0;32m--> 199\u001b[0;31m         \u001b[0mself\u001b[0m\u001b[0;34m.\u001b[0m\u001b[0mrun\u001b[0m\u001b[0;34m(\u001b[0m\u001b[0mself\u001b[0m\u001b[0;34m.\u001b[0m\u001b[0mmax_evals\u001b[0m \u001b[0;34m-\u001b[0m \u001b[0mn_done\u001b[0m\u001b[0;34m,\u001b[0m \u001b[0mblock_until_done\u001b[0m\u001b[0;34m=\u001b[0m\u001b[0mself\u001b[0m\u001b[0;34m.\u001b[0m\u001b[0masync\u001b[0m\u001b[0;34m)\u001b[0m\u001b[0;34m\u001b[0m\u001b[0m\n\u001b[0m\u001b[1;32m    200\u001b[0m         \u001b[0mself\u001b[0m\u001b[0;34m.\u001b[0m\u001b[0mtrials\u001b[0m\u001b[0;34m.\u001b[0m\u001b[0mrefresh\u001b[0m\u001b[0;34m(\u001b[0m\u001b[0;34m)\u001b[0m\u001b[0;34m\u001b[0m\u001b[0m\n\u001b[1;32m    201\u001b[0m         \u001b[0;32mreturn\u001b[0m \u001b[0mself\u001b[0m\u001b[0;34m\u001b[0m\u001b[0m\n",
      "\u001b[0;32m/Users/admin/anaconda/lib/python2.7/site-packages/hyperopt/fmin.pyc\u001b[0m in \u001b[0;36mrun\u001b[0;34m(self, N, block_until_done)\u001b[0m\n\u001b[1;32m    171\u001b[0m             \u001b[0;32melse\u001b[0m\u001b[0;34m:\u001b[0m\u001b[0;34m\u001b[0m\u001b[0m\n\u001b[1;32m    172\u001b[0m                 \u001b[0;31m# -- loop over trials and do the jobs directly\u001b[0m\u001b[0;34m\u001b[0m\u001b[0;34m\u001b[0m\u001b[0m\n\u001b[0;32m--> 173\u001b[0;31m                 \u001b[0mself\u001b[0m\u001b[0;34m.\u001b[0m\u001b[0mserial_evaluate\u001b[0m\u001b[0;34m(\u001b[0m\u001b[0;34m)\u001b[0m\u001b[0;34m\u001b[0m\u001b[0m\n\u001b[0m\u001b[1;32m    174\u001b[0m \u001b[0;34m\u001b[0m\u001b[0m\n\u001b[1;32m    175\u001b[0m             \u001b[0;32mif\u001b[0m \u001b[0mstopped\u001b[0m\u001b[0;34m:\u001b[0m\u001b[0;34m\u001b[0m\u001b[0m\n",
      "\u001b[0;32m/Users/admin/anaconda/lib/python2.7/site-packages/hyperopt/fmin.pyc\u001b[0m in \u001b[0;36mserial_evaluate\u001b[0;34m(self, N)\u001b[0m\n\u001b[1;32m     90\u001b[0m                 \u001b[0mctrl\u001b[0m \u001b[0;34m=\u001b[0m \u001b[0mbase\u001b[0m\u001b[0;34m.\u001b[0m\u001b[0mCtrl\u001b[0m\u001b[0;34m(\u001b[0m\u001b[0mself\u001b[0m\u001b[0;34m.\u001b[0m\u001b[0mtrials\u001b[0m\u001b[0;34m,\u001b[0m \u001b[0mcurrent_trial\u001b[0m\u001b[0;34m=\u001b[0m\u001b[0mtrial\u001b[0m\u001b[0;34m)\u001b[0m\u001b[0;34m\u001b[0m\u001b[0m\n\u001b[1;32m     91\u001b[0m                 \u001b[0;32mtry\u001b[0m\u001b[0;34m:\u001b[0m\u001b[0;34m\u001b[0m\u001b[0m\n\u001b[0;32m---> 92\u001b[0;31m                     \u001b[0mresult\u001b[0m \u001b[0;34m=\u001b[0m \u001b[0mself\u001b[0m\u001b[0;34m.\u001b[0m\u001b[0mdomain\u001b[0m\u001b[0;34m.\u001b[0m\u001b[0mevaluate\u001b[0m\u001b[0;34m(\u001b[0m\u001b[0mspec\u001b[0m\u001b[0;34m,\u001b[0m \u001b[0mctrl\u001b[0m\u001b[0;34m)\u001b[0m\u001b[0;34m\u001b[0m\u001b[0m\n\u001b[0m\u001b[1;32m     93\u001b[0m                 \u001b[0;32mexcept\u001b[0m \u001b[0mException\u001b[0m \u001b[0;32mas\u001b[0m \u001b[0me\u001b[0m\u001b[0;34m:\u001b[0m\u001b[0;34m\u001b[0m\u001b[0m\n\u001b[1;32m     94\u001b[0m                     \u001b[0mlogger\u001b[0m\u001b[0;34m.\u001b[0m\u001b[0minfo\u001b[0m\u001b[0;34m(\u001b[0m\u001b[0;34m'job exception: %s'\u001b[0m \u001b[0;34m%\u001b[0m \u001b[0mstr\u001b[0m\u001b[0;34m(\u001b[0m\u001b[0me\u001b[0m\u001b[0;34m)\u001b[0m\u001b[0;34m)\u001b[0m\u001b[0;34m\u001b[0m\u001b[0m\n",
      "\u001b[0;32m/Users/admin/anaconda/lib/python2.7/site-packages/hyperopt/base.pyc\u001b[0m in \u001b[0;36mevaluate\u001b[0;34m(self, config, ctrl, attach_attachments)\u001b[0m\n\u001b[1;32m    838\u001b[0m                 \u001b[0mmemo\u001b[0m\u001b[0;34m=\u001b[0m\u001b[0mmemo\u001b[0m\u001b[0;34m,\u001b[0m\u001b[0;34m\u001b[0m\u001b[0m\n\u001b[1;32m    839\u001b[0m                 print_node_on_error=self.rec_eval_print_node_on_error)\n\u001b[0;32m--> 840\u001b[0;31m             \u001b[0mrval\u001b[0m \u001b[0;34m=\u001b[0m \u001b[0mself\u001b[0m\u001b[0;34m.\u001b[0m\u001b[0mfn\u001b[0m\u001b[0;34m(\u001b[0m\u001b[0mpyll_rval\u001b[0m\u001b[0;34m)\u001b[0m\u001b[0;34m\u001b[0m\u001b[0m\n\u001b[0m\u001b[1;32m    841\u001b[0m \u001b[0;34m\u001b[0m\u001b[0m\n\u001b[1;32m    842\u001b[0m         \u001b[0;32mif\u001b[0m \u001b[0misinstance\u001b[0m\u001b[0;34m(\u001b[0m\u001b[0mrval\u001b[0m\u001b[0;34m,\u001b[0m \u001b[0;34m(\u001b[0m\u001b[0mfloat\u001b[0m\u001b[0;34m,\u001b[0m \u001b[0mint\u001b[0m\u001b[0;34m,\u001b[0m \u001b[0mnp\u001b[0m\u001b[0;34m.\u001b[0m\u001b[0mnumber\u001b[0m\u001b[0;34m)\u001b[0m\u001b[0;34m)\u001b[0m\u001b[0;34m:\u001b[0m\u001b[0;34m\u001b[0m\u001b[0m\n",
      "\u001b[0;32m<ipython-input-222-e3d98794101e>\u001b[0m in \u001b[0;36mscore\u001b[0;34m(params)\u001b[0m\n\u001b[1;32m     27\u001b[0m         \u001b[0;31m#learner.set_initial_state(action=0)\u001b[0m\u001b[0;34m\u001b[0m\u001b[0;34m\u001b[0m\u001b[0m\n\u001b[1;32m     28\u001b[0m \u001b[0;34m\u001b[0m\u001b[0m\n\u001b[0;32m---> 29\u001b[0;31m         \u001b[0mtemp_loss\u001b[0m \u001b[0;34m=\u001b[0m \u001b[0;34m-\u001b[0m \u001b[0mget_final_reward\u001b[0m\u001b[0;34m(\u001b[0m\u001b[0mlearner\u001b[0m\u001b[0;34m,\u001b[0m \u001b[0mreward_table\u001b[0m\u001b[0;34m,\u001b[0m \u001b[0mtraining_iteration\u001b[0m\u001b[0;34m=\u001b[0m\u001b[0;36m50000\u001b[0m\u001b[0;34m)\u001b[0m \u001b[0;31m# negative because we want to minimize loss\u001b[0m\u001b[0;34m\u001b[0m\u001b[0m\n\u001b[0m\u001b[1;32m     30\u001b[0m         \u001b[0mloss_vector\u001b[0m\u001b[0;34m.\u001b[0m\u001b[0mappend\u001b[0m\u001b[0;34m(\u001b[0m\u001b[0mtemp_loss\u001b[0m\u001b[0;34m)\u001b[0m\u001b[0;34m\u001b[0m\u001b[0m\n\u001b[1;32m     31\u001b[0m \u001b[0;34m\u001b[0m\u001b[0m\n",
      "\u001b[0;32m<ipython-input-148-65a9ffa05169>\u001b[0m in \u001b[0;36mget_final_reward\u001b[0;34m(learner, reward_table, training_iteration)\u001b[0m\n\u001b[1;32m     19\u001b[0m         \u001b[0mlearner\u001b[0m\u001b[0;34m.\u001b[0m\u001b[0mnum_iteration\u001b[0m \u001b[0;34m+=\u001b[0m \u001b[0;36m1\u001b[0m\u001b[0;34m\u001b[0m\u001b[0m\n\u001b[1;32m     20\u001b[0m \u001b[0;34m\u001b[0m\u001b[0m\n\u001b[0;32m---> 21\u001b[0;31m         \u001b[0mreward_list\u001b[0m\u001b[0;34m.\u001b[0m\u001b[0mappend\u001b[0m\u001b[0;34m(\u001b[0m\u001b[0mnp\u001b[0m\u001b[0;34m.\u001b[0m\u001b[0mmean\u001b[0m\u001b[0;34m(\u001b[0m\u001b[0mreward\u001b[0m\u001b[0;34m)\u001b[0m\u001b[0;34m)\u001b[0m\u001b[0;34m\u001b[0m\u001b[0m\n\u001b[0m\u001b[1;32m     22\u001b[0m \u001b[0;34m\u001b[0m\u001b[0m\n\u001b[1;32m     23\u001b[0m     \u001b[0;32mreturn\u001b[0m \u001b[0mnp\u001b[0m\u001b[0;34m.\u001b[0m\u001b[0mmean\u001b[0m\u001b[0;34m(\u001b[0m\u001b[0mreward_list\u001b[0m\u001b[0;34m)\u001b[0m\u001b[0;34m\u001b[0m\u001b[0m\n",
      "\u001b[0;32m/Users/admin/anaconda/lib/python2.7/site-packages/numpy/core/fromnumeric.pyc\u001b[0m in \u001b[0;36mmean\u001b[0;34m(a, axis, dtype, out, keepdims)\u001b[0m\n\u001b[1;32m   2940\u001b[0m \u001b[0;34m\u001b[0m\u001b[0m\n\u001b[1;32m   2941\u001b[0m     return _methods._mean(a, axis=axis, dtype=dtype,\n\u001b[0;32m-> 2942\u001b[0;31m                             out=out, **kwargs)\n\u001b[0m\u001b[1;32m   2943\u001b[0m \u001b[0;34m\u001b[0m\u001b[0m\n\u001b[1;32m   2944\u001b[0m \u001b[0;34m\u001b[0m\u001b[0m\n",
      "\u001b[0;32m/Users/admin/anaconda/lib/python2.7/site-packages/numpy/core/_methods.pyc\u001b[0m in \u001b[0;36m_mean\u001b[0;34m(a, axis, dtype, out, keepdims)\u001b[0m\n\u001b[1;32m     63\u001b[0m         \u001b[0mdtype\u001b[0m \u001b[0;34m=\u001b[0m \u001b[0mmu\u001b[0m\u001b[0;34m.\u001b[0m\u001b[0mdtype\u001b[0m\u001b[0;34m(\u001b[0m\u001b[0;34m'f8'\u001b[0m\u001b[0;34m)\u001b[0m\u001b[0;34m\u001b[0m\u001b[0m\n\u001b[1;32m     64\u001b[0m \u001b[0;34m\u001b[0m\u001b[0m\n\u001b[0;32m---> 65\u001b[0;31m     \u001b[0mret\u001b[0m \u001b[0;34m=\u001b[0m \u001b[0mumr_sum\u001b[0m\u001b[0;34m(\u001b[0m\u001b[0marr\u001b[0m\u001b[0;34m,\u001b[0m \u001b[0maxis\u001b[0m\u001b[0;34m,\u001b[0m \u001b[0mdtype\u001b[0m\u001b[0;34m,\u001b[0m \u001b[0mout\u001b[0m\u001b[0;34m,\u001b[0m \u001b[0mkeepdims\u001b[0m\u001b[0;34m)\u001b[0m\u001b[0;34m\u001b[0m\u001b[0m\n\u001b[0m\u001b[1;32m     66\u001b[0m     \u001b[0;32mif\u001b[0m \u001b[0misinstance\u001b[0m\u001b[0;34m(\u001b[0m\u001b[0mret\u001b[0m\u001b[0;34m,\u001b[0m \u001b[0mmu\u001b[0m\u001b[0;34m.\u001b[0m\u001b[0mndarray\u001b[0m\u001b[0;34m)\u001b[0m\u001b[0;34m:\u001b[0m\u001b[0;34m\u001b[0m\u001b[0m\n\u001b[1;32m     67\u001b[0m         ret = um.true_divide(\n",
      "\u001b[0;31mKeyboardInterrupt\u001b[0m: "
     ]
    }
   ],
   "source": [
    "%%time\n",
    "\n",
    "#Trials object where the history of search will be stored\n",
    "trials = Trials()\n",
    "\n",
    "best_params = optimize(trials)"
   ]
  },
  {
   "cell_type": "code",
   "execution_count": null,
   "metadata": {
    "collapsed": true
   },
   "outputs": [],
   "source": []
  },
  {
   "cell_type": "code",
   "execution_count": 276,
   "metadata": {
    "collapsed": false
   },
   "outputs": [
    {
     "data": {
      "text/plain": [
       "400.0"
      ]
     },
     "execution_count": 276,
     "metadata": {},
     "output_type": "execute_result"
    }
   ],
   "source": [
    "1600*.25"
   ]
  },
  {
   "cell_type": "code",
   "execution_count": 277,
   "metadata": {
    "collapsed": false
   },
   "outputs": [
    {
     "data": {
      "text/plain": [
       "6.666666666666667"
      ]
     },
     "execution_count": 277,
     "metadata": {},
     "output_type": "execute_result"
    }
   ],
   "source": [
    "400/60."
   ]
  },
  {
   "cell_type": "code",
   "execution_count": 385,
   "metadata": {
    "collapsed": false,
    "scrolled": false
   },
   "outputs": [
    {
     "name": "stderr",
     "output_type": "stream",
     "text": [
      "100%|██████████| 2/2 [00:00<00:00, 10.98it/s]\n"
     ]
    },
    {
     "name": "stdout",
     "output_type": "stream",
     "text": [
      "3\n",
      "4\n",
      "11\n",
      "18\n",
      "17\n",
      "10\n",
      "3\n",
      "4\n",
      "11\n",
      "18\n",
      "17\n",
      "10\n",
      "3\n",
      "4\n",
      "11\n",
      "18\n",
      "17\n",
      "10\n",
      "3\n",
      "4\n",
      "11\n",
      "18\n",
      "17\n",
      "10\n",
      "3\n",
      "4\n",
      "11\n",
      "18\n",
      "17\n",
      "\n",
      "Reward per action:  -176.51034606\n"
     ]
    },
    {
     "data": {
      "image/png": "[encoded data removed]",
      "text/plain": [
       "<matplotlib.figure.Figure at 0x11ac0f7d0>"
      ]
     },
     "metadata": {},
     "output_type": "display_data"
    }
   ],
   "source": [
    "def crawling_simulation(params, reward_table, training_iteration = 5000, num_simulation = 2):\n",
    "    \n",
    "    state_vector = np.zeros(49)\n",
    "    action_vector = np.zeros(4)\n",
    "    reward_vector = []\n",
    "    \n",
    "    for simulation in tqdm(xrange(num_simulation)):\n",
    "        \n",
    "        temp_reward = []\n",
    "        \n",
    "#         learner = QLearner(servo_num_states = 7,\n",
    "#                            num_actions=4,\n",
    "#                            alpha=float(params['alpha']),\n",
    "#                            gamma=float(params['gamma']),\n",
    "#                            random_action_rate=float(params['random_action_rate']),\n",
    "#                            random_action_decay_rate=float(params['random_action_decay_rate']),\n",
    "#                            warm_up_period=int(params['warm_up_period']),\n",
    "#                            action_penalty=50,\n",
    "#                            negative_reward_coef= flaot,\n",
    "#                            interest_zone_reward_coef = 1.1,\n",
    "#                            initial_state=int(params['initial_state'])) #float(params['action_penalty']))\n",
    "        \n",
    "        learner = QLearner(servo_num_states = 7,\n",
    "                   num_actions=4,\n",
    "                   alpha=float(params['alpha']),\n",
    "                   gamma=float(params['gamma']),\n",
    "                   random_action_rate=float(params['random_action_rate']),\n",
    "                   random_action_decay_rate=float(params['random_action_decay_rate']),\n",
    "                   warm_up_period=int(params['warm_up_period']),\n",
    "                   action_penalty=50,\n",
    "                   negative_reward_coef=1.,#float(params['negative_reward_coef']),\n",
    "                   interest_zone_reward_coef = 1.32, #float(params['interest_zone_reward_coef']),\n",
    "                   initial_state=24)#int(params['initial_state'])) #float(params['action_penalty']))\n",
    "\n",
    "#         learner.set_initial_state(action=0)\n",
    "\n",
    "        stop = False\n",
    "    \n",
    "        for iteration_step in xrange(training_iteration):\n",
    "            \n",
    "#             if learner.num_iteration == 1000:\n",
    "#                 print learner.qtable[0]\n",
    "\n",
    "            \n",
    "            state_vector[learner.state] += 1\n",
    "            action_vector[learner.action] += 1 \n",
    "            \n",
    "#             if iteration_step - 1 == learner.warm_up_period and simulation == 0:\n",
    "#                 #print learner.state, learner.action, learner.qtable[learner.state]\n",
    "#                 print learner.qtable\n",
    "                \n",
    "#             if iteration_step == 9980  and simulation == 0:\n",
    "#                 #print learner.state, learner.action, learner.qtable[learner.state]\n",
    "#                 print learner.qtable\n",
    "                \n",
    "#             if iteration_step > 3000 and iteration_step < 3020:\n",
    "#                 print learner.state\n",
    "    \n",
    "            if iteration_step > training_iteration-30 and simulation == num_simulation-1:\n",
    "                print learner.state \n",
    "#                 print learner.qtable\n",
    " \n",
    "                            \n",
    "\n",
    "                \n",
    "            reward = reward_table[learner.state][learner.action]*np.random.uniform(.5,1.5) - learner.action_penalty\n",
    "            \n",
    "            if learner.state % learner.servo_num_states > 2 and learner.state < 30:\n",
    "                reward = reward * learner.interest_zone_reward_coef if reward > 0 else reward * learner.negative_reward_coef\n",
    "            \n",
    "#             if reward < 0:\n",
    "#                 reward *= learner.negative_reward_coef\n",
    "            \n",
    "            temp_reward.append(reward)\n",
    "            \n",
    "            next_state = learner.get_next_state()\n",
    "            \n",
    "#             dup = False\n",
    "#             if next_state == learner.state:\n",
    "#                 dup = True\n",
    "#                 print iteration_step, next_state, learner.action, reward, \n",
    "\n",
    "            learner.move(next_state, reward)\n",
    "            learner.num_iteration += 1 \n",
    "#             if dup:\n",
    "#                 print next_state\n",
    "#                 print learner.qtable[next_state]\n",
    "#                 print '----'\n",
    "        reward_vector.append(np.mean(temp_reward))\n",
    "        \n",
    "    normalize_state_vector = (state_vector/np.sum(state_vector)) * 100.\n",
    "    state_map = pd.DataFrame(normalize_state_vector.reshape(learner.servo_num_states, -1))\n",
    "    sns.heatmap(state_map, linewidths=1, annot=True)\n",
    "    plt.title('State map after {} simulations in %'.format(num_simulation))\n",
    "    \n",
    "    normalize_action_vector = (action_vector/np.sum(action_vector)) * 100.\n",
    "    \n",
    "    #print len(reward_vector)\n",
    "    print \"\\nReward per action: \",np.mean(reward_vector)\n",
    "    #print normalize_action_vector\n",
    "    \n",
    "    return learner\n",
    "\n",
    "\n",
    "# best_params = {'alpha': 0.40619963352672517, \n",
    "#                'random_action_decay_rate': 0.8189717113594237, \n",
    "#                'gamma': 0.9760578814233064, \n",
    "#                'warm_up_period': 341.0}\n",
    "# best_params = {'warm_up_period': 363.0, \n",
    "#                'negative_reward_coef': 1.657585408801534, \n",
    "#                'gamma': 0.9744212450698116, \n",
    "#                'random_action_decay_rate': 0.7206861521993938, \n",
    "#                'alpha': 0.7199800066939188}\n",
    "# best_params = {'alpha': 0.9613645426995369, \n",
    "#                'random_action_decay_rate': 0.6862739427670339, \n",
    "#                'gamma': 0.9680926035857673, \n",
    "#                'warm_up_period': 65.0}\n",
    "\n",
    "\n",
    "# best_params = {'warm_up_period': 5.0, \n",
    "#                'random_action_decay_rate': 0.5541460471345169, \n",
    "#                'alpha': 0.7506149332042706, \n",
    "#                'initial_state': 12.0, \n",
    "#                'random_action_rate': 0.8708637956794232, \n",
    "#                'gamma': 0.9791556652375034} \n",
    "\n",
    "\n",
    "best_params = {'random_action_rate': 0.3019595582543259, 'warm_up_period': 46.0, 'gamma': 0.9758541654964458, 'random_action_decay_rate': 0.4885980315144308, 'alpha': 0.7155591636155634}\n",
    "learner = crawling_simulation(best_params, reward_table)"
   ]
  },
  {
   "cell_type": "code",
   "execution_count": null,
   "metadata": {
    "collapsed": true
   },
   "outputs": [],
   "source": []
  },
  {
   "cell_type": "code",
   "execution_count": 318,
   "metadata": {
    "collapsed": false
   },
   "outputs": [
    {
     "data": {
      "text/plain": [
       "0.8384998419585881"
      ]
     },
     "execution_count": 318,
     "metadata": {},
     "output_type": "execute_result"
    }
   ],
   "source": [
    "np.random.uniform(.7,1.3)"
   ]
  },
  {
   "cell_type": "code",
   "execution_count": null,
   "metadata": {
    "collapsed": true
   },
   "outputs": [],
   "source": []
  },
  {
   "cell_type": "code",
   "execution_count": null,
   "metadata": {
    "collapsed": true
   },
   "outputs": [],
   "source": []
  },
  {
   "cell_type": "code",
   "execution_count": null,
   "metadata": {
    "collapsed": true
   },
   "outputs": [],
   "source": []
  },
  {
   "cell_type": "code",
   "execution_count": null,
   "metadata": {
    "collapsed": true
   },
   "outputs": [],
   "source": []
  },
  {
   "cell_type": "code",
   "execution_count": null,
   "metadata": {
    "collapsed": true
   },
   "outputs": [],
   "source": []
  },
  {
   "cell_type": "code",
   "execution_count": null,
   "metadata": {
    "collapsed": true
   },
   "outputs": [],
   "source": []
  },
  {
   "cell_type": "code",
   "execution_count": null,
   "metadata": {
    "collapsed": true
   },
   "outputs": [],
   "source": []
  },
  {
   "cell_type": "code",
   "execution_count": null,
   "metadata": {
    "collapsed": true
   },
   "outputs": [],
   "source": []
  },
  {
   "cell_type": "code",
   "execution_count": null,
   "metadata": {
    "collapsed": true
   },
   "outputs": [],
   "source": []
  },
  {
   "cell_type": "code",
   "execution_count": null,
   "metadata": {
    "collapsed": true
   },
   "outputs": [],
   "source": []
  },
  {
   "cell_type": "code",
   "execution_count": null,
   "metadata": {
    "collapsed": true
   },
   "outputs": [],
   "source": []
  }
 ],
 "metadata": {
  "anaconda-cloud": {},
  "kernelspec": {
   "display_name": "Python [Root]",
   "language": "python",
   "name": "Python [Root]"
  },
  "language_info": {
   "codemirror_mode": {
    "name": "ipython",
    "version": 2
   },
   "file_extension": ".py",
   "mimetype": "text/x-python",
   "name": "python",
   "nbconvert_exporter": "python",
   "pygments_lexer": "ipython2",
   "version": "2.7.12"
  }
 },
 "nbformat": 4,
 "nbformat_minor": 0
}
