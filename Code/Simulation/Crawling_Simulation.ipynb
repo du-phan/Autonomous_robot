{
 "cells": [
  {
   "cell_type": "code",
   "execution_count": 1,
   "metadata": {
    "collapsed": true
   },
   "outputs": [],
   "source": [
    "# -*- coding: utf-8 -*-\n",
    "import re\n",
    "import time\n",
    "import datetime \n",
    "import operator\n",
    "import numpy as np\n",
    "import pandas as pd \n",
    "import collections\n",
    "import unicodedata\n",
    "import collections\n",
    "import seaborn as sns\n",
    "import collections\n",
    "import matplotlib.pylab as pylab\n",
    "import matplotlib.pyplot as plt\n",
    "\n",
    "from tqdm import tqdm\n",
    "from collections import Counter\n",
    "from datetime import datetime, date, timedelta\n",
    "from IPython.display import Image\n",
    "\n",
    "\n",
    "%matplotlib inline\n",
    "\n",
    "pylab.rcParams['figure.figsize'] = 10,8\n",
    "\n",
    "plt.style.use('bmh')\n",
    "colors = ['#348ABD', '#A60628', '#7A68A6', '#467821', '#D55E00', \n",
    "          '#CC79A7', '#56B4E9', '#009E73', '#F0E442', '#0072B2']"
   ]
  },
  {
   "cell_type": "code",
   "execution_count": 2,
   "metadata": {
    "collapsed": false
   },
   "outputs": [],
   "source": [
    "reward_table = [\n",
    "    [ -250 , -15000, -405 , -15000],\n",
    "    [-309 , -15000, -400 , 405  ],\n",
    "    [-262 , -15000, -255 , 400  ],\n",
    "    [-231 , -15000, -77  , 255  ],\n",
    "    [-61  , -15000, 0    , 77   ],\n",
    "    [0    , -15000, 0    , 0    ],\n",
    "    [0    , -15000, -15000, 0    ],\n",
    "    [-325 , 250  , -452 , -15000],\n",
    "    [-270 , 309  , -325 , 452  ],\n",
    "    [-200 , 262  , -190 , 325  ],\n",
    "    [-125 , 231  , -10  , 190  ],\n",
    "    [-2   , 61   , 0    , 10   ],\n",
    "    [0    , 0    , 0    , 0    ],\n",
    "    [0    , 0    , -15000, 0    ],\n",
    "    [-192 , 325  , -390 , -15000],\n",
    "    [-169 , 270  , -285 , -390 ],\n",
    "    [-105 , 200  , -132 , 285  ],\n",
    "    [-10  , 125  , -5   , 132  ],\n",
    "    [0    , 2    , 0    , 5    ],\n",
    "    [0    , 0    , 0    , 0    ],\n",
    "    [0    , 0    , -15000, 0    ],\n",
    "    [-117 , 192  , -350 , -15000],\n",
    "    [-67  , 169  , -235 , 350  ],\n",
    "    [-8   , 105  , -26  , 235  ],\n",
    "    [0    , 10   , 0    , 26   ],\n",
    "    [0    , 0    , 0    , 0    ],\n",
    "    [0    , 0    , 0    , 0    ],\n",
    "    [0    , 0    , -15000, 0    ],\n",
    "    [-38  , 117  , -250 , -15000],\n",
    "    [0    , 67   , -148 , 250  ],\n",
    "    [0    , 8    , -3   , 148  ],\n",
    "    [0    , 0    , 0    , 3    ],\n",
    "    [0    , 0    , 0    , 0    ],\n",
    "    [0    , 0    , 0    , 0    ],\n",
    "    [0    , 0    , -15000, 0    ],\n",
    "    [0    , 38   , -195 , -15000],\n",
    "    [0    , 0    , -193 , 195  ],\n",
    "    [0    , 0    , -5   , 193  ],\n",
    "    [0    , 0    , 0    , 5    ],\n",
    "    [0    , 0    , 0    , 0    ],\n",
    "    [0    , 0    , 0    , 0    ],\n",
    "    [0    , 0    , -15000, 0    ],\n",
    "    [-15000, 0    , -255 , -15000],\n",
    "    [-15000, 0    , -190 , 255  ],\n",
    "    [-15000, 0    , -8   , 190  ],\n",
    "    [-15000, 0    , 0    , 8   ],\n",
    "    [-15000, 0    , 0    , 0    ],\n",
    "    [-15000, 0    , 0    , 0    ],\n",
    "    [-15000, 0    , -15000, 0    ]\n",
    "]; "
   ]
  },
  {
   "cell_type": "code",
   "execution_count": 3,
   "metadata": {
    "collapsed": false
   },
   "outputs": [],
   "source": [
    "def softmax(f):\n",
    "    f = f - np.max(f)\n",
    "    p = np.exp(f) / np.sum(np.exp(f))\n",
    "    return p"
   ]
  },
  {
   "cell_type": "code",
   "execution_count": 4,
   "metadata": {
    "collapsed": false,
    "scrolled": true
   },
   "outputs": [],
   "source": [
    "softmax_reward_table = np.apply_along_axis(softmax, 1, reward_table)"
   ]
  },
  {
   "cell_type": "code",
   "execution_count": 5,
   "metadata": {
    "collapsed": true
   },
   "outputs": [],
   "source": [
    "def action_is_allowed(learner, state, action):\n",
    "\n",
    "    if (action == 0 and not(state > learner.num_states - learner.servo_num_states - 1)):\n",
    "        return True\n",
    "    elif (action == 1 and not(state < learner.servo_num_states)):\n",
    "        return True\n",
    "    elif (action == 2 and not((state%learner.servo_num_states) == (learner.servo_num_states-1))):\n",
    "        return True\n",
    "    elif (action == 3 and not(state%learner.servo_num_states==0)):\n",
    "        return True\n",
    "    else:\n",
    "        return False"
   ]
  },
  {
   "cell_type": "code",
   "execution_count": 6,
   "metadata": {
    "collapsed": false
   },
   "outputs": [],
   "source": [
    "class QLearner(object):\n",
    "    def __init__(self, \n",
    "                 servo_num_states, \n",
    "                 num_actions, \n",
    "                 alpha, \n",
    "                 gamma, \n",
    "                 random_action_rate,\n",
    "                 random_action_decay_rate, \n",
    "                 warm_up_period, \n",
    "                 action_penalty,\n",
    "                 negative_reward_coef,\n",
    "                 interest_zone_reward_coef,\n",
    "                 initial_state,\n",
    "                 scaling_point, \n",
    "                 scaling_factor):\n",
    "        \n",
    "        self.servo_num_states = servo_num_states\n",
    "        self.num_states = servo_num_states**2\n",
    "        self.num_actions = num_actions\n",
    "        self.alpha = alpha\n",
    "        self.gamma = gamma\n",
    "        self.random_action_rate = random_action_rate\n",
    "        self.random_action_decay_rate = random_action_decay_rate\n",
    "        self.warm_up_period = warm_up_period\n",
    "        self.state = initial_state\n",
    "        self.action = 0\n",
    "        self.action_penalty = action_penalty\n",
    "#         self.qtable = np.random.uniform(low=-1, high=1, size=(self.num_states, self.num_actions))\n",
    "#         self.qtable = np.zeros((self.num_states, self.num_actions))\n",
    "        self.qtable = np.ones((self.num_states, self.num_actions)) * 0\n",
    "        self.num_iteration = 0\n",
    "        self.last_reward = 0\n",
    "        self.negative_reward_coef = negative_reward_coef\n",
    "        self.interest_zone_reward_coef = interest_zone_reward_coef\n",
    "        self.scaling_point = scaling_point\n",
    "        self.scaling_factor = scaling_factor\n",
    "        \n",
    "    def set_initial_state(self, action):\n",
    "        \"\"\"\n",
    "        @summary: Sets the initial state and returns an action\n",
    "        @param state: The initial state\n",
    "        @returns: The selected action\n",
    "        \"\"\"\n",
    "        self.state = int(self.num_states/2)\n",
    "        self.action = action #self.qtable[state].argsort()[-1]\n",
    "        \n",
    "    def get_next_state(self):\n",
    "        \n",
    "        next_state = None\n",
    "        \n",
    "        if (self.action == 0 and action_is_allowed(self, self.state, self.action)): \n",
    "            next_state = self.state + self.servo_num_states\n",
    "        elif (self.action == 1 and action_is_allowed(self, self.state, self.action)):\n",
    "            next_state = self.state - self.servo_num_states\n",
    "        elif (self.action == 2 and action_is_allowed(self, self.state, self.action)):\n",
    "            next_state = self.state + 1\n",
    "        elif (self.action == 3 and action_is_allowed(self, self.state, self.action)):\n",
    "            next_state = self.state - 1 \n",
    "        else:\n",
    "            next_state = self.state;\n",
    "            \n",
    "        return next_state\n",
    "        \n",
    "    def move(self, state_prime, reward):\n",
    "        \"\"\"\n",
    "        @summary: Moves to the given state with given reward and returns action\n",
    "        @param state_prime: The new state\n",
    "        @param reward: The reward\n",
    "        @returns: The selected action\n",
    "        \"\"\"\n",
    "        alpha = self.alpha\n",
    "        gamma = self.gamma\n",
    "        state = self.state\n",
    "        action = self.action\n",
    "        qtable = self.qtable\n",
    "        action_prime = -1\n",
    "        \n",
    "#         if self.state == state_prime: \n",
    "\n",
    "#             while not self.action_is_allowed(action_prime):\n",
    "#                 action_prime = np.random.randint(0, self.num_actions)\n",
    "            \n",
    "#             self.action = action_prime\n",
    "            \n",
    "        if False:\n",
    "            print 'yo'\n",
    "            \n",
    "        else: \n",
    "            \n",
    "            choose_random_action = (1 - self.random_action_rate) <= np.random.uniform(0, 1)\n",
    "\n",
    "            if choose_random_action:\n",
    "#                 while not(action_is_allowed(self, state_prime, action_prime)): \n",
    "                action_prime = np.random.randint(0, self.num_actions)\n",
    "            else:\n",
    "                ordered_action_list = self.qtable[state_prime].argsort()\n",
    "                best_choice_index = -1\n",
    "#                 while not(action_is_allowed(self, state_prime, action_prime)):\n",
    "                action_prime = ordered_action_list[best_choice_index]\n",
    "#                     best_choice_index -= 1\n",
    "\n",
    "            if self.num_iteration > self.warm_up_period: # warm up period is over\n",
    "                self.random_action_rate *= self.random_action_decay_rate\n",
    "                    \n",
    "            \n",
    "#             if reward < 0 and np.abs(reward) < 15000:\n",
    "#                 reward = reward * self.negative_reward_coef\n",
    "            \n",
    "#             if self.num_iteration % 50 == 0:\n",
    "#                 qtable *= self.scaling_factor\n",
    "                \n",
    "            \n",
    "            qtable[state, action] = qtable[state, action] + alpha * (reward + gamma * qtable[state_prime, action_prime] - qtable[state, action])\n",
    "\n",
    "            self.state = state_prime\n",
    "            self.action = action_prime    \n",
    "            self.qtable = qtable"
   ]
  },
  {
   "cell_type": "code",
   "execution_count": 124,
   "metadata": {
    "collapsed": false
   },
   "outputs": [],
   "source": [
    "def get_final_reward(learner, reward_table, training_iteration):\n",
    "    \n",
    "    reward_list = []\n",
    "    \n",
    "    learned_reward_table = np.zeros((learner.num_states, learner.num_actions))\n",
    "    \n",
    "    num_exploration_step = 1000\n",
    "    \n",
    "    verbose = True\n",
    "    \n",
    "    for iteration_step in xrange(training_iteration):\n",
    "\n",
    "#         reward = reward_table[learner.state][learner.action] - learner.action_penalty\n",
    "\n",
    "#         if learner.state % learner.servo_num_states > 2 and learner.state < 30:\n",
    "#             reward = reward * learner.interest_zone_reward_coef if reward > 0 else reward\n",
    "            \n",
    "        if iteration_step < num_exploration_step: \n",
    "            \n",
    "            ideal_reward = reward_table[learner.state][learner.action] \n",
    "            random_noise = np.random.normal(0, np.abs(ideal_reward)*.25) if ideal_reward != 0 else 0 \n",
    "            noisy_reward = ideal_reward + random_noise - learner.action_penalty\n",
    "\n",
    "            if learner.state % learner.servo_num_states > 2 and learner.state < 30:\n",
    "                reward = noisy_reward * learner.interest_zone_reward_coef if noisy_reward > 0 else noisy_reward * learner.negative_reward_coef\n",
    "            else:\n",
    "                reward = noisy_reward\n",
    "\n",
    "            if learned_reward_table[learner.state][learner.action] != 0:\n",
    "                learned_reward_table[learner.state][learner.action] = .5*(learned_reward_table[learner.state][learner.action] + reward)\n",
    "            else:\n",
    "                learned_reward_table[learner.state][learner.action] = noisy_reward\n",
    "\n",
    "\n",
    "            next_state = learner.get_next_state()\n",
    "\n",
    "            learner.move(next_state, learned_reward_table[learner.state][learner.action])\n",
    "\n",
    "            learner.num_iteration += 1 \n",
    "\n",
    "            if learner.num_iteration % learner.scaling_point == 0: learner.qtable *= learner.scaling_factor\n",
    "\n",
    "            reward_list.append(learned_reward_table[learner.state][learner.action])\n",
    "        \n",
    "        else:\n",
    "            \n",
    "#             if verbose:\n",
    "#                 print \"Begin simulation\"\n",
    "                \n",
    "#             verbose = False\n",
    "            \n",
    "            reward = learned_reward_table[learner.state][learner.action]\n",
    "            reward_list.append(learned_reward_table[learner.state][learner.action])\n",
    "\n",
    "\n",
    "            next_state = learner.get_next_state()\n",
    "            learner.move(next_state, learned_reward_table[learner.state][learner.action])\n",
    "            learner.num_iteration += 1 \n",
    "\n",
    "            if learner.num_iteration % learner.scaling_point == 0: \n",
    "                learner.qtable *= learner.scaling_factor\n",
    "        \n",
    "    return np.mean(reward_list)\n",
    "    \n",
    "    "
   ]
  },
  {
   "cell_type": "code",
   "execution_count": 127,
   "metadata": {
    "collapsed": false
   },
   "outputs": [],
   "source": [
    "from hyperopt import hp, fmin, tpe, hp, STATUS_OK, Trials\n",
    "import datetime\n",
    "\n",
    "best_score = np.inf\n",
    "\n",
    "def score(params):\n",
    "    \n",
    "    global best_score    \n",
    "    \n",
    "    num_iteration = 2\n",
    "    \n",
    "    loss_vector = []\n",
    "    \n",
    "    for i in xrange(num_iteration):\n",
    "    \n",
    "        learner = QLearner(servo_num_states = 7,\n",
    "                           num_actions=4,\n",
    "                           alpha=float(params['alpha']),\n",
    "                           gamma=float(params['gamma']),\n",
    "                           random_action_rate=float(params['random_action_rate']),\n",
    "                           random_action_decay_rate=float(params['random_action_decay_rate']),\n",
    "                           warm_up_period=int(params['warm_up_period']),\n",
    "                           action_penalty=50,\n",
    "                           negative_reward_coef=1, #float(params['negative_reward_coef']),\n",
    "                           interest_zone_reward_coef = 1, #float(params['interest_zone_reward_coef']),\n",
    "                           initial_state=10,\n",
    "                           scaling_point = int(params['scaling_point']),\n",
    "                           scaling_factor = float(params['scaling_factor']))#int(params['initial_state'])) #float(params['action_penalty']))\n",
    "        #learner.set_initial_state(action=0)\n",
    "\n",
    "        temp_loss = - get_final_reward(learner, reward_table, training_iteration=50000) # negative because we want to minimize loss\n",
    "        loss_vector.append(temp_loss)\n",
    "        \n",
    "    loss = np.mean(loss_vector)\n",
    "    \n",
    "    if loss < best_score: \n",
    "        print \"Searching...\", \n",
    "        print \"New best score: {0:.6f}\".format(-loss), \n",
    "        print params \n",
    "        print datetime.datetime.now().time()\n",
    "        print\n",
    "        best_score = loss\n",
    "\n",
    "    return {'loss': loss, 'status': STATUS_OK}\n",
    "    \n",
    "def optimize(trials):\n",
    "        \n",
    "    space = {\n",
    "             'alpha': hp.uniform('alpha', 0.1, 1),\n",
    "             'gamma': hp.uniform('gamma', 0.1, 1),\n",
    "             'random_action_rate': hp.uniform('random_action_rate', 0.8,1), \n",
    "             'random_action_decay_rate': hp.uniform('random_action_decay_rate', 0.1, 1),\n",
    "             'warm_up_period': hp.quniform('warm_up_period', 50, 300, 10),\n",
    "             'scaling_point': hp.choice('scaling_point', np.arange(5,300, 5)),\n",
    "             'scaling_factor': hp.uniform('scaling_factor', 1., 5.)\n",
    "#              'initial_state': hp.quniform('initial_state', 0, 47, 1)\n",
    "#              'negative_reward_coef': hp.uniform('negative_reward_coef', 1, 1.5),\n",
    "#              'interest_zone_reward_coef': hp.uniform('interest_zone_reward_coef', 1, 1.5)\n",
    "            }\n",
    "\n",
    "    best = fmin(score, space, algo=tpe.suggest, trials=trials, max_evals=400)\n",
    "\n",
    "    print '------------------------' \n",
    "    print \"Done.\"\n",
    "    print \"Best parameter setting:\", best\n",
    "    return best"
   ]
  },
  {
   "cell_type": "code",
   "execution_count": 128,
   "metadata": {
    "collapsed": false,
    "scrolled": false
   },
   "outputs": [
    {
     "name": "stdout",
     "output_type": "stream",
     "text": [
      "Searching... New best score: -35.352493 {'warm_up_period': 260.0, 'random_action_decay_rate': 0.142426083737119, 'scaling_factor': 1.3220198858172334, 'alpha': 0.5504661437202416, 'scaling_point': 170, 'gamma': 0.9457926799722469, 'random_action_rate': 0.8809362474632062}\n",
      "16:43:42.255444\n",
      "\n",
      "Searching... New best score: -9.286013 {'warm_up_period': 210.0, 'random_action_decay_rate': 0.632120451193053, 'scaling_factor': 1.0814874299050259, 'alpha': 0.5576989281907332, 'scaling_point': 100, 'gamma': 0.2505316293729903, 'random_action_rate': 0.8679148899000352}\n",
      "16:43:52.237360\n",
      "\n",
      "Searching... New best score: -7.930535 {'warm_up_period': 190.0, 'random_action_decay_rate': 0.5892996273746175, 'scaling_factor': 2.472819039005773, 'alpha': 0.7138669068673575, 'scaling_point': 255, 'gamma': 0.6701417050510539, 'random_action_rate': 0.842782858471514}\n",
      "16:44:43.994269\n",
      "\n",
      "Searching... New best score: 7.297269 {'warm_up_period': 60.0, 'random_action_decay_rate': 0.1835397681253017, 'scaling_factor': 2.979865536581502, 'alpha': 0.5851947066928254, 'scaling_point': 5, 'gamma': 0.4091624061994062, 'random_action_rate': 0.8936676490321234}\n",
      "16:45:19.106313\n",
      "\n",
      "Searching... New best score: 22.268678 {'warm_up_period': 100.0, 'random_action_decay_rate': 0.7710372836930308, 'scaling_factor': 3.1426155023340514, 'alpha': 0.5085043463618016, 'scaling_point': 145, 'gamma': 0.39419916878234634, 'random_action_rate': 0.8576662931979959}\n",
      "16:49:57.091124\n",
      "\n",
      "Searching... New best score: 37.673468 {'warm_up_period': 90.0, 'random_action_decay_rate': 0.824709435216204, 'scaling_factor': 3.6044006257743333, 'alpha': 0.3092353715331193, 'scaling_point': 275, 'gamma': 0.37419656297319936, 'random_action_rate': 0.834614308862227}\n",
      "16:50:33.988117\n",
      "\n",
      "------------------------\n",
      "Done.\n",
      "Best parameter setting: {'warm_up_period': 90.0, 'scaling_factor': 3.6044006257743333, 'random_action_decay_rate': 0.824709435216204, 'random_action_rate': 0.834614308862227, 'alpha': 0.3092353715331193, 'scaling_point': 54, 'gamma': 0.37419656297319936}\n",
      "CPU times: user 8min 43s, sys: 1.65 s, total: 8min 44s\n",
      "Wall time: 8min 45s\n"
     ]
    }
   ],
   "source": [
    "%%time\n",
    "\n",
    "#Trials object where the history of search will be stored\n",
    "trials = Trials()\n",
    "\n",
    "best_params = optimize(trials)"
   ]
  },
  {
   "cell_type": "code",
   "execution_count": 9,
   "metadata": {
    "collapsed": true
   },
   "outputs": [],
   "source": [
    "def get_next_state_temp(learner, state, action):\n",
    "    \n",
    "    next_state = None\n",
    "\n",
    "    if (action == 0 and action_is_allowed(learner, state, action)): \n",
    "        next_state = state + learner.servo_num_states\n",
    "    elif (action == 1 and action_is_allowed(learner, state, action)):\n",
    "        next_state = state - learner.servo_num_states\n",
    "    elif (action == 2 and action_is_allowed(learner, state, action)):\n",
    "        next_state = state + 1\n",
    "    elif (action == 3 and action_is_allowed(learner, state, action)):\n",
    "        next_state = state - 1 \n",
    "    else:\n",
    "        next_state = state;\n",
    "\n",
    "    return next_state"
   ]
  },
  {
   "cell_type": "code",
   "execution_count": null,
   "metadata": {
    "collapsed": true
   },
   "outputs": [],
   "source": []
  },
  {
   "cell_type": "code",
   "execution_count": null,
   "metadata": {
    "collapsed": true
   },
   "outputs": [],
   "source": []
  },
  {
   "cell_type": "code",
   "execution_count": 364,
   "metadata": {
    "collapsed": true
   },
   "outputs": [],
   "source": [
    "reward_bins = pd.cut([-800, 800], bins=500, retbins=True)[1][1:-1]"
   ]
  },
  {
   "cell_type": "code",
   "execution_count": 365,
   "metadata": {
    "collapsed": true
   },
   "outputs": [],
   "source": [
    "def to_bin(value, bins):\n",
    "        return np.digitize(x=[value], bins=bins)[0]"
   ]
  },
  {
   "cell_type": "code",
   "execution_count": 367,
   "metadata": {
    "collapsed": false,
    "scrolled": false
   },
   "outputs": [
    {
     "name": "stderr",
     "output_type": "stream",
     "text": [
      "  0%|          | 0/2 [00:00<?, ?it/s]/Users/admin/anaconda/lib/python2.7/site-packages/ipykernel/__main__.py:55: VisibleDeprecationWarning: using a non-integer number instead of an integer will result in an error in the future\n",
      "100%|██████████| 2/2 [00:00<00:00, 13.97it/s]\n"
     ]
    },
    {
     "name": "stdout",
     "output_type": "stream",
     "text": [
      "27\n",
      "26\n",
      "27\n",
      "26\n",
      "27\n",
      "26\n",
      "27\n",
      "26\n",
      "27\n",
      "26\n",
      "27\n",
      "26\n",
      "27\n",
      "26\n",
      "27\n",
      "26\n",
      "27\n",
      "26\n",
      "27\n",
      "26\n",
      "27\n",
      "26\n",
      "27\n",
      "26\n",
      "27\n",
      "26\n",
      "27\n",
      "26\n",
      "27\n",
      "\n",
      "Reward per action:  46.60825\n"
     ]
    },
    {
     "data": {
      "image/png": "[encoded data removed]",
      "text/plain": [
       "<matplotlib.figure.Figure at 0x11a98e110>"
      ]
     },
     "metadata": {},
     "output_type": "display_data"
    }
   ],
   "source": [
    "def crawling_simulation(params, reward_table, training_iteration = 2000, num_simulation = 2):\n",
    "    \n",
    "    state_vector = np.zeros(49)\n",
    "    action_vector = np.zeros(4)\n",
    "    reward_vector = []\n",
    "    reward_bins = pd.cut([-800, 800], bins=200, retbins=True)[1][1:-1]\n",
    "\n",
    "    for simulation in tqdm(xrange(num_simulation)):\n",
    "        \n",
    "        temp_reward = []\n",
    "\n",
    "        learner = QLearner(servo_num_states = 7,\n",
    "                   num_actions=4,\n",
    "                   alpha=float(params['alpha']),\n",
    "                   gamma=float(params['gamma']),\n",
    "                   random_action_rate=float(params['random_action_rate']),\n",
    "                   random_action_decay_rate=float(params['random_action_decay_rate']),\n",
    "                   warm_up_period=int(params['warm_up_period']),\n",
    "                   action_penalty=50,\n",
    "                   negative_reward_coef=1.,#float(params['negative_reward_coef']),\n",
    "                   interest_zone_reward_coef = 1, #1.32, #float(params['interest_zone_reward_coef']),\n",
    "                   initial_state=24,\n",
    "                   scaling_point = params['scaling_point'],\n",
    "                   scaling_factor = params['scaling_factor'])#int(params['initial_state'])) #float(params['action_penalty']))\n",
    "\n",
    "        learned_reward_table = np.zeros((learner.num_states, learner.num_actions))\n",
    "    \n",
    "        for iteration_step in xrange(training_iteration):\n",
    "            \n",
    "            state_vector[learner.state] += 1\n",
    "            action_vector[learner.action] += 1 \n",
    "    \n",
    "            if iteration_step > training_iteration-30 and simulation == num_simulation-1:\n",
    "                print learner.state \n",
    "#                 print reward_table[1]\n",
    "#                 print learned_reward_table[1]\n",
    "               \n",
    "    \n",
    "#             if iteration_step % 500 == 0:\n",
    "#                 print np.mean(np.abs(learned_reward_table - reward_table))\n",
    "            \n",
    "            \n",
    "    \n",
    "            ideal_reward = reward_table[learner.state][learner.action] \n",
    "            random_noise = np.random.normal(0, np.abs(ideal_reward)*.25) if ideal_reward != 0 else 0 \n",
    "            noisy_reward = ideal_reward + random_noise - learner.action_penalty\n",
    "            \n",
    "            \n",
    "            if learner.state % learner.servo_num_states > 2 and learner.state < 30:\n",
    "                noisy_reward = noisy_reward * learner.interest_zone_reward_coef if noisy_reward > 0 else noisy_reward * learner.negative_reward_coef\n",
    "                  \n",
    "    \n",
    "#             noisy_reward = to_bin(noisy_reward, reward_bins)\n",
    "            \n",
    "            temp_bin_value = .5*(reward_bins[learned_reward_table[learner.state][learner.action]] + noisy_reward)\n",
    "\n",
    "            learned_reward_table[learner.state][learner.action] = to_bin(temp_bin_value, reward_bins)\n",
    "#             print noisy_reward\n",
    "            \n",
    "#             if learned_reward_table[learner.state][learner.action] != 0:\n",
    "#                 learned_reward_table[learner.state][learner.action] = .5*(learned_reward_table[learner.state][learner.action] + noisy_reward)\n",
    "#             else:\n",
    "#                 learned_reward_table[learner.state][learner.action] = noisy_reward\n",
    "                \n",
    "            \n",
    "            \n",
    "            temp_reward.append(learned_reward_table[learner.state][learner.action])\n",
    "            \n",
    "            next_state = learner.get_next_state()\n",
    "            \n",
    "            learner.move(next_state, learned_reward_table[learner.state][learner.action])\n",
    "            \n",
    "            learner.num_iteration += 1 \n",
    "        \n",
    "            if learner.num_iteration % learner.scaling_point == 0: \n",
    "                learner.qtable *= learner.scaling_factor\n",
    "            \n",
    "            \n",
    "#             for s in xrange(0, learner.num_states):\n",
    "#                 for a in xrange (0, learner.num_actions):\n",
    "#                     if s != learner.state or a != learner.action:\n",
    "                        \n",
    "#                         next_state_temp = get_next_state_temp(learner, s, a)\n",
    "                        \n",
    "#                         temp_r = learned_reward_table[s][a] - learner.action_penalty\n",
    "                        \n",
    "#                         choose_random_action = (1 - learner.random_action_rate) <= np.random.uniform(0, 1)\n",
    "\n",
    "#                         if choose_random_action:\n",
    "#                             action_prime_temp = np.random.randint(0, learner.num_actions)\n",
    "#                         else:\n",
    "#                             action_prime_temp = learner.qtable[next_state_temp].argsort()[-1]\n",
    "\n",
    "\n",
    "#                         learner.qtable[s, a] += learner.alpha * (temp_r + learner.gamma * learner.qtable[next_state_temp, action_prime_temp] - learner.qtable[s, a])\n",
    "                    \n",
    "            \n",
    "    \n",
    "        reward_vector.append(np.mean(temp_reward))\n",
    "    \n",
    "            \n",
    "        \n",
    "    normalize_state_vector = (state_vector/np.sum(state_vector)) * 100.\n",
    "    state_map = pd.DataFrame(normalize_state_vector.reshape(learner.servo_num_states, -1))\n",
    "    sns.heatmap(state_map, linewidths=1, annot=True)\n",
    "    plt.title('State map after {} simulations in %'.format(num_simulation))\n",
    "    \n",
    "    normalize_action_vector = (action_vector/np.sum(action_vector)) * 100.\n",
    "    \n",
    "    #print len(reward_vector)\n",
    "    print \"\\nReward per action: \",np.mean(reward_vector)\n",
    "    #print normalize_action_vector\n",
    "    \n",
    "    return learner, learned_reward_table\n",
    "\n",
    "\n",
    "\n",
    "\n",
    "best_params = {'warm_up_period': 44.0, \n",
    "               'scaling_factor': 1.0372293641209551, \n",
    "               'random_action_decay_rate': 0.5900692779721906, \n",
    "               'random_action_rate': 0.18634870253656852, \n",
    "               'alpha': 0.9764032895801622, \n",
    "               'scaling_point': 16, \n",
    "               'gamma': 0.964381829500279}\n",
    "\n",
    "best_params = {'warm_up_period': 38.0, \n",
    "               'scaling_factor': 1.1130568801499376, \n",
    "               'random_action_decay_rate': 0.9505348646463121, \n",
    "               'random_action_rate': 0.19293344201527163, \n",
    "               'alpha': 0.7680484211161775, \n",
    "               'scaling_point': 300,\n",
    "               'gamma': 0.9527683563414476}\n",
    "\n",
    "best_params = {'warm_up_period': 38.0, \n",
    "               'scaling_factor': 1.1130568801499376, \n",
    "               'random_action_decay_rate': 0.9505348646463121, \n",
    "               'random_action_rate': 0.19293344201527163, \n",
    "               'alpha': 0.7680484211161775, \n",
    "               'scaling_point': 300, \n",
    "               'gamma': 0.9527683563414476}\n",
    "\n",
    "best_params = {'warm_up_period': 15.0, \n",
    "               'scaling_factor': 1.1669767007065206, \n",
    "               'random_action_decay_rate': 0.283102086404449, \n",
    "               'random_action_rate': 0.3881361927595925, \n",
    "               'alpha': 0.7480711423078713, \n",
    "               'scaling_point': 155, \n",
    "               'gamma': 0.9846208655721159}\n",
    "\n",
    "best_params = {'warm_up_period': 96.0, \n",
    "               'scaling_factor': 1.6944560688012607, \n",
    "               'random_action_decay_rate': 0.545267375797949, \n",
    "               'random_action_rate': 0.10056735562002306, \n",
    "               'alpha': 0.6227095466939823, \n",
    "               'scaling_point': 190, \n",
    "               'gamma': 0.932459803334474}\n",
    "\n",
    "best_params =  {'warm_up_period': 14.0, 'scaling_factor': 1.1129161749445728, 'random_action_decay_rate': 0.6320229427611553, 'random_action_rate': 0.955872080367004, 'alpha': 0.6029734543946844, 'scaling_point': 30, 'gamma': 0.9565818726183515}\n",
    "\n",
    "learner, learned_reward_table = crawling_simulation(best_params, reward_table)"
   ]
  },
  {
   "cell_type": "code",
   "execution_count": null,
   "metadata": {
    "collapsed": true
   },
   "outputs": [],
   "source": []
  },
  {
   "cell_type": "code",
   "execution_count": null,
   "metadata": {
    "collapsed": true
   },
   "outputs": [],
   "source": []
  },
  {
   "cell_type": "code",
   "execution_count": null,
   "metadata": {
    "collapsed": true
   },
   "outputs": [],
   "source": []
  },
  {
   "cell_type": "code",
   "execution_count": 333,
   "metadata": {
    "collapsed": false
   },
   "outputs": [
    {
     "data": {
      "text/plain": [
       "array([-792., -784., -776., -768., -760., -752., -744., -736., -728.,\n",
       "       -720., -712., -704., -696., -688., -680., -672., -664., -656.,\n",
       "       -648., -640., -632., -624., -616., -608., -600., -592., -584.,\n",
       "       -576., -568., -560., -552., -544., -536., -528., -520., -512.,\n",
       "       -504., -496., -488., -480., -472., -464., -456., -448., -440.,\n",
       "       -432., -424., -416., -408., -400., -392., -384., -376., -368.,\n",
       "       -360., -352., -344., -336., -328., -320., -312., -304., -296.,\n",
       "       -288., -280., -272., -264., -256., -248., -240., -232., -224.,\n",
       "       -216., -208., -200., -192., -184., -176., -168., -160., -152.,\n",
       "       -144., -136., -128., -120., -112., -104.,  -96.,  -88.,  -80.,\n",
       "        -72.,  -64.,  -56.,  -48.,  -40.,  -32.,  -24.,  -16.,   -8.,\n",
       "          0.,    8.,   16.,   24.,   32.,   40.,   48.,   56.,   64.,\n",
       "         72.,   80.,   88.,   96.,  104.,  112.,  120.,  128.,  136.,\n",
       "        144.,  152.,  160.,  168.,  176.,  184.,  192.,  200.,  208.,\n",
       "        216.,  224.,  232.,  240.,  248.,  256.,  264.,  272.,  280.,\n",
       "        288.,  296.,  304.,  312.,  320.,  328.,  336.,  344.,  352.,\n",
       "        360.,  368.,  376.,  384.,  392.,  400.,  408.,  416.,  424.,\n",
       "        432.,  440.,  448.,  456.,  464.,  472.,  480.,  488.,  496.,\n",
       "        504.,  512.,  520.,  528.,  536.,  544.,  552.,  560.,  568.,\n",
       "        576.,  584.,  592.,  600.,  608.,  616.,  624.,  632.,  640.,\n",
       "        648.,  656.,  664.,  672.,  680.,  688.,  696.,  704.,  712.,\n",
       "        720.,  728.,  736.,  744.,  752.,  760.,  768.,  776.,  784.,  792.])"
      ]
     },
     "execution_count": 333,
     "metadata": {},
     "output_type": "execute_result"
    }
   ],
   "source": [
    "reward_bins = pd.cut([-800, 800], bins=200, retbins=True)[1][1:-1]\n",
    "\n",
    "reward_bins"
   ]
  },
  {
   "cell_type": "code",
   "execution_count": 327,
   "metadata": {
    "collapsed": false
   },
   "outputs": [
    {
     "data": {
      "text/plain": [
       "9"
      ]
     },
     "execution_count": 327,
     "metadata": {},
     "output_type": "execute_result"
    }
   ],
   "source": [
    "to_bin(150, reward_bins)"
   ]
  },
  {
   "cell_type": "code",
   "execution_count": null,
   "metadata": {
    "collapsed": true
   },
   "outputs": [],
   "source": []
  },
  {
   "cell_type": "code",
   "execution_count": null,
   "metadata": {
    "collapsed": true
   },
   "outputs": [],
   "source": []
  },
  {
   "cell_type": "code",
   "execution_count": 315,
   "metadata": {
    "collapsed": false,
    "scrolled": false
   },
   "outputs": [
    {
     "name": "stderr",
     "output_type": "stream",
     "text": [
      "100%|██████████| 1/1 [00:01<00:00,  1.18s/it]"
     ]
    },
    {
     "name": "stdout",
     "output_type": "stream",
     "text": [
      "7\n",
      "0\n",
      "7\n",
      "0\n",
      "7\n",
      "0\n",
      "7\n",
      "0\n",
      "7\n",
      "0\n",
      "7\n",
      "0\n",
      "7\n",
      "0\n",
      "7\n",
      "0\n",
      "7\n",
      "0\n",
      "7\n",
      "0\n",
      "7\n",
      "0\n",
      "7\n",
      "0\n",
      "7\n",
      "0\n",
      "7\n",
      "0\n",
      "7\n",
      "\n",
      "Reward per action:  -0.0008675\n"
     ]
    },
    {
     "name": "stderr",
     "output_type": "stream",
     "text": [
      "\n"
     ]
    },
    {
     "data": {
      "image/png": "[encoded data removed]",
      "text/plain": [
       "<matplotlib.figure.Figure at 0x1199462d0>"
      ]
     },
     "metadata": {},
     "output_type": "display_data"
    }
   ],
   "source": [
    "def crawling_simulation(params, reward_table, training_iteration = 50000, num_simulation = 1):\n",
    "    \n",
    "    state_vector = np.zeros(49)\n",
    "    action_vector = np.zeros(4)\n",
    "    reward_vector = []\n",
    "    \n",
    "    for simulation in tqdm(xrange(num_simulation)):\n",
    "        \n",
    "        temp_reward = []\n",
    "\n",
    "        learner = QLearner(servo_num_states = 7,\n",
    "                   num_actions=4,\n",
    "                   alpha=float(params['alpha']),\n",
    "                   gamma=float(params['gamma']),\n",
    "                   random_action_rate=float(params['random_action_rate']),\n",
    "                   random_action_decay_rate=float(params['random_action_decay_rate']),\n",
    "                   warm_up_period=int(params['warm_up_period']),\n",
    "                   action_penalty=50,\n",
    "                   negative_reward_coef=1.,#float(params['negative_reward_coef']),\n",
    "                   interest_zone_reward_coef = 1, #1.32, #float(params['interest_zone_reward_coef']),\n",
    "                   initial_state=24,\n",
    "                   scaling_point = params['scaling_point'],\n",
    "                   scaling_factor = params['scaling_factor'])#int(params['initial_state'])) #float(params['action_penalty']))\n",
    "\n",
    "        \n",
    "        num_exploration_step = 50000\n",
    "        \n",
    "        learned_reward_table = np.zeros((learner.num_states, learner.num_actions))\n",
    "    \n",
    "        for iteration_step in xrange(training_iteration):\n",
    "            \n",
    "            state_vector[learner.state] += 1\n",
    "            action_vector[learner.action] += 1 \n",
    "    \n",
    "            if iteration_step > training_iteration-30 and simulation == num_simulation-1:\n",
    "                print learner.state \n",
    "            \n",
    "            if iteration_step < num_exploration_step:\n",
    "            \n",
    "                ideal_reward = reward_table[learner.state][learner.action] \n",
    "                random_noise = np.random.normal(0, np.abs(ideal_reward)*.25) if ideal_reward != 0 else 0 \n",
    "                noisy_reward = ideal_reward + random_noise - learner.action_penalty\n",
    "\n",
    "                if learner.state % learner.servo_num_states > 2 and learner.state < 30:\n",
    "                    reward = noisy_reward * learner.interest_zone_reward_coef if noisy_reward > 0 else noisy_reward * learner.negative_reward_coef\n",
    "                else:\n",
    "                    reward = noisy_reward\n",
    "\n",
    "                if noisy_reward > 0:\n",
    "                    noisy_reward = 1\n",
    "                elif noisy_reward < 0:\n",
    "                    noisy_reward = -1 \n",
    "                    \n",
    "#                 if learned_reward_table[learner.state][learner.action] != 0:\n",
    "#                     learned_reward_table[learner.state][learner.action] = .5*(learned_reward_table[learner.state][learner.action] + noisy_reward)\n",
    "#                 else:\n",
    "#                     learned_reward_table[learner.state][learner.action] = noisy_reward\n",
    "\n",
    "\n",
    "                learned_reward_table[learner.state][learner.action] = .5*(learned_reward_table[learner.state][learner.action] + noisy_reward)\n",
    "\n",
    "\n",
    "                temp_reward.append(learned_reward_table[learner.state][learner.action])\n",
    "\n",
    "                next_state = learner.get_next_state()\n",
    "\n",
    "                learner.move(next_state, learned_reward_table[learner.state][learner.action])\n",
    "\n",
    "                learner.num_iteration += 1 \n",
    "\n",
    "                if learner.num_iteration % learner.scaling_point == 0: \n",
    "                    learner.qtable *= learner.scaling_factor\n",
    "\n",
    "            else:\n",
    "                \n",
    "                reward = learned_reward_table[learner.state][learner.action]\n",
    "                temp_reward.append(learned_reward_table[learner.state][learner.action])\n",
    "\n",
    "                if noisy_reward >= 0:\n",
    "                    noisy_reward = 1\n",
    "                else: \n",
    "                    noisy_reward = -1 \n",
    "                \n",
    "                next_state = learner.get_next_state()\n",
    "                learner.move(next_state, learned_reward_table[learner.state][learner.action])\n",
    "                learner.num_iteration += 1 \n",
    "\n",
    "                if learner.num_iteration % learner.scaling_point == 0: \n",
    "                    learner.qtable *= learner.scaling_factor\n",
    "                \n",
    "                    \n",
    "        reward_vector.append(np.mean(temp_reward))\n",
    "    \n",
    "            \n",
    "        \n",
    "    normalize_state_vector = (state_vector/np.sum(state_vector)) * 100.\n",
    "    state_map = pd.DataFrame(normalize_state_vector.reshape(learner.servo_num_states, -1))\n",
    "    sns.heatmap(state_map, linewidths=1, annot=True)\n",
    "    plt.title('State map after {} simulations in %'.format(num_simulation))\n",
    "    \n",
    "    normalize_action_vector = (action_vector/np.sum(action_vector)) * 100.\n",
    "    \n",
    "    #print len(reward_vector)\n",
    "    print \"\\nReward per action: \",np.mean(reward_vector)\n",
    "    #print normalize_action_vector\n",
    "    \n",
    "    return learner, learned_reward_table\n",
    "\n",
    "\n",
    "\n",
    "best_params = {'warm_up_period': 96.0, \n",
    "               'scaling_factor': 1.6944560688012607, \n",
    "               'random_action_decay_rate': 0.545267375797949, \n",
    "               'random_action_rate': 0.10056735562002306, \n",
    "               'alpha': 0.6227095466939823, \n",
    "               'scaling_point': 190, \n",
    "               'gamma': 0.932459803334474}\n",
    "\n",
    "best_params =   {'warm_up_period': 90.0, \n",
    "                 'scaling_factor': 3.6044006257743333, \n",
    "                 'random_action_decay_rate': 0.824709435216204, \n",
    "                 'random_action_rate': 0.834614308862227, \n",
    "                 'alpha': 0.3092353715331193, \n",
    "                 'scaling_point': 275, \n",
    "                 'gamma': 0.37419656297319936}\n",
    "\n",
    "best_params =  {'warm_up_period': 14.0, 'scaling_factor': 1.1129161749445728, 'random_action_decay_rate': 0.6320229427611553, 'random_action_rate': 0.955872080367004, 'alpha': 0.6029734543946844, 'scaling_point': 30, 'gamma': 0.9565818726183515}\n",
    "\n",
    "\n",
    "learner, learned_reward_table = crawling_simulation(best_params, reward_table)"
   ]
  },
  {
   "cell_type": "code",
   "execution_count": null,
   "metadata": {
    "collapsed": true
   },
   "outputs": [],
   "source": []
  },
  {
   "cell_type": "code",
   "execution_count": 318,
   "metadata": {
    "collapsed": false
   },
   "outputs": [
    {
     "data": {
      "text/plain": [
       "array([[-1.  , -0.75, -0.75, -0.75],\n",
       "       [ 0.  ,  0.  ,  0.  ,  0.75],\n",
       "       [ 0.  ,  0.  ,  0.  ,  0.  ],\n",
       "       [ 0.  ,  0.  ,  0.  ,  0.  ],\n",
       "       [ 0.  ,  0.  ,  0.  ,  0.  ],\n",
       "       [ 0.  ,  0.  ,  0.  ,  0.  ],\n",
       "       [ 0.  ,  0.  ,  0.  ,  0.  ],\n",
       "       [-0.5 ,  1.  , -0.5 , -0.75],\n",
       "       [ 0.  ,  0.  ,  0.  ,  0.75],\n",
       "       [ 0.  ,  0.  ,  0.  ,  0.  ],\n",
       "       [ 0.  ,  0.  ,  0.  ,  0.  ],\n",
       "       [ 0.  ,  0.  ,  0.  ,  0.  ],\n",
       "       [ 0.  ,  0.  ,  0.  ,  0.  ],\n",
       "       [ 0.  ,  0.  ,  0.  ,  0.  ],\n",
       "       [ 0.  ,  0.5 , -0.5 , -0.75],\n",
       "       [-0.75,  0.5 , -0.5 , -0.5 ],\n",
       "       [-0.5 ,  0.  ,  0.  ,  0.5 ],\n",
       "       [ 0.  ,  0.  ,  0.  ,  0.5 ],\n",
       "       [ 0.  ,  0.  ,  0.  ,  0.  ],\n",
       "       [ 0.  ,  0.  ,  0.  ,  0.  ]])"
      ]
     },
     "execution_count": 318,
     "metadata": {},
     "output_type": "execute_result"
    }
   ],
   "source": [
    "learned_reward_table[:20]"
   ]
  },
  {
   "cell_type": "code",
   "execution_count": 207,
   "metadata": {
    "collapsed": false
   },
   "outputs": [
    {
     "data": {
      "text/plain": [
       "[-250, -15000, -405, -15000]"
      ]
     },
     "execution_count": 207,
     "metadata": {},
     "output_type": "execute_result"
    }
   ],
   "source": [
    "reward_table[0]"
   ]
  },
  {
   "cell_type": "code",
   "execution_count": 195,
   "metadata": {
    "collapsed": false
   },
   "outputs": [
    {
     "data": {
      "text/plain": [
       "1463.8918091224812"
      ]
     },
     "execution_count": 195,
     "metadata": {},
     "output_type": "execute_result"
    }
   ],
   "source": [
    "np.mean(np.abs(learned_reward_table[0] - reward_table[0]))"
   ]
  },
  {
   "cell_type": "code",
   "execution_count": 201,
   "metadata": {
    "collapsed": false
   },
   "outputs": [
    {
     "name": "stdout",
     "output_type": "stream",
     "text": [
      "[   79.81510783   702.65369531    81.77455242  4991.32388093]\n",
      "[   56.99132307  2516.69572685    69.13761699    91.69393902]\n",
      "[   73.60074697  3001.40237076    52.92744526    82.21528799]\n",
      "[   231.          15000.             77.             64.74299803]\n",
      "[    61.  15000.      0.     77.]\n",
      "[     0.  15000.      0.      0.]\n",
      "[     0.  15000.  15000.      0.]\n",
      "[  149.10894403    43.5815364      4.25129222  2097.36118516]\n",
      "[  63.95155894   87.03765296  170.47768212  102.63808143]\n",
      "[ 200.            3.53525224   64.71355204   85.94717312]\n",
      "[  90.37762556  231.           10.           44.14309636]\n",
      "[  2.  61.   0.  10.]\n",
      "[ 0.  0.  0.  0.]\n",
      "[     0.      0.  15000.      0.]\n",
      "[   66.44445243   135.58474784    45.79202003  4278.3198053 ]\n"
     ]
    }
   ],
   "source": [
    "x = 3\n",
    "for x in xrange(15):\n",
    "    print np.abs(learned_reward_table[x] - reward_table[x])"
   ]
  },
  {
   "cell_type": "code",
   "execution_count": null,
   "metadata": {
    "collapsed": true
   },
   "outputs": [],
   "source": []
  },
  {
   "cell_type": "code",
   "execution_count": null,
   "metadata": {
    "collapsed": true
   },
   "outputs": [],
   "source": []
  },
  {
   "cell_type": "code",
   "execution_count": null,
   "metadata": {
    "collapsed": true
   },
   "outputs": [],
   "source": []
  },
  {
   "cell_type": "code",
   "execution_count": null,
   "metadata": {
    "collapsed": true
   },
   "outputs": [],
   "source": []
  },
  {
   "cell_type": "code",
   "execution_count": null,
   "metadata": {
    "collapsed": true
   },
   "outputs": [],
   "source": []
  },
  {
   "cell_type": "code",
   "execution_count": null,
   "metadata": {
    "collapsed": true
   },
   "outputs": [],
   "source": []
  },
  {
   "cell_type": "code",
   "execution_count": null,
   "metadata": {
    "collapsed": true
   },
   "outputs": [],
   "source": []
  },
  {
   "cell_type": "code",
   "execution_count": null,
   "metadata": {
    "collapsed": true
   },
   "outputs": [],
   "source": []
  },
  {
   "cell_type": "code",
   "execution_count": null,
   "metadata": {
    "collapsed": true
   },
   "outputs": [],
   "source": []
  },
  {
   "cell_type": "code",
   "execution_count": null,
   "metadata": {
    "collapsed": true
   },
   "outputs": [],
   "source": []
  },
  {
   "cell_type": "code",
   "execution_count": null,
   "metadata": {
    "collapsed": true
   },
   "outputs": [],
   "source": []
  },
  {
   "cell_type": "code",
   "execution_count": null,
   "metadata": {
    "collapsed": true
   },
   "outputs": [],
   "source": []
  }
 ],
 "metadata": {
  "anaconda-cloud": {},
  "kernelspec": {
   "display_name": "Python [Root]",
   "language": "python",
   "name": "Python [Root]"
  },
  "language_info": {
   "codemirror_mode": {
    "name": "ipython",
    "version": 2
   },
   "file_extension": ".py",
   "mimetype": "text/x-python",
   "name": "python",
   "nbconvert_exporter": "python",
   "pygments_lexer": "ipython2",
   "version": "2.7.12"
  }
 },
 "nbformat": 4,
 "nbformat_minor": 0
}
