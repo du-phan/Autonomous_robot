{
 "cells": [
  {
   "cell_type": "code",
   "execution_count": 1,
   "metadata": {
    "collapsed": true
   },
   "outputs": [],
   "source": [
    "# -*- coding: utf-8 -*-\n",
    "import re\n",
    "import time\n",
    "import datetime \n",
    "import operator\n",
    "import numpy as np\n",
    "import pandas as pd \n",
    "import collections\n",
    "import unicodedata\n",
    "import collections\n",
    "import seaborn as sns\n",
    "import collections\n",
    "import matplotlib.pylab as pylab\n",
    "import matplotlib.pyplot as plt\n",
    "\n",
    "from tqdm import tqdm\n",
    "from collections import Counter\n",
    "from datetime import datetime, date, timedelta\n",
    "from IPython.display import Image\n",
    "\n",
    "\n",
    "%matplotlib inline\n",
    "\n",
    "pylab.rcParams['figure.figsize'] = 10,8\n",
    "\n",
    "plt.style.use('bmh')\n",
    "colors = ['#348ABD', '#A60628', '#7A68A6', '#467821', '#D55E00', \n",
    "          '#CC79A7', '#56B4E9', '#009E73', '#F0E442', '#0072B2']"
   ]
  },
  {
   "cell_type": "code",
   "execution_count": 2,
   "metadata": {
    "collapsed": false
   },
   "outputs": [],
   "source": [
    "reward_table = [\n",
    "    [ -250 , -8888, -405 , -8888],\n",
    "    [-309 , -8888, -400 , 405  ],\n",
    "    [-262 , -8888, -255 , 400  ],\n",
    "    [-231 , -8888, -77  , 255  ],\n",
    "    [-61  , -8888, 0    , 77   ],\n",
    "    [0    , -8888, 0    , 0    ],\n",
    "    [0    , -8888, -8888, 0    ],\n",
    "    [-325 , 250  , -452 , -8888],\n",
    "    [-270 , 309  , -325 , 452  ],\n",
    "    [-200 , 262  , -190 , 325  ],\n",
    "    [-125 , 231  , -10  , 190  ],\n",
    "    [-2   , 61   , 0    , 10   ],\n",
    "    [0    , 0    , 0    , 0    ],\n",
    "    [0    , 0    , -8888, 0    ],\n",
    "    [-192 , 325  , -390 , -8888],\n",
    "    [-169 , 270  , -285 , -390 ],\n",
    "    [-105 , 200  , -132 , 285  ],\n",
    "    [-10  , 125  , -5   , 132  ],\n",
    "    [0    , 2    , 0    , 5    ],\n",
    "    [0    , 0    , 0    , 0    ],\n",
    "    [0    , 0    , -8888, 0    ],\n",
    "    [-117 , 192  , -350 , -8888],\n",
    "    [-67  , 169  , -235 , 350  ],\n",
    "    [-8   , 105  , -26  , 235  ],\n",
    "    [0    , 10   , 0    , 26   ],\n",
    "    [0    , 0    , 0    , 0    ],\n",
    "    [0    , 0    , 0    , 0    ],\n",
    "    [0    , 0    , -8888, 0    ],\n",
    "    [-38  , 117  , -250 , -8888],\n",
    "    [0    , 67   , -148 , 250  ],\n",
    "    [0    , 8    , -3   , 148  ],\n",
    "    [0    , 0    , 0    , 3    ],\n",
    "    [0    , 0    , 0    , 0    ],\n",
    "    [0    , 0    , 0    , 0    ],\n",
    "    [0    , 0    , -8888, 0    ],\n",
    "    [0    , 38   , -195 , -8888],\n",
    "    [0    , 0    , -193 , 195  ],\n",
    "    [0    , 0    , -5   , 193  ],\n",
    "    [0    , 0    , 0    , 5    ],\n",
    "    [0    , 0    , 0    , 0    ],\n",
    "    [0    , 0    , 0    , 0    ],\n",
    "    [0    , 0    , -8888, 0    ],\n",
    "    [-8888, 0    , -255 , -8888],\n",
    "    [-8888, 0    , -190 , 255  ],\n",
    "    [-8888, 0    , -8   , 190  ],\n",
    "    [-8888, 0    , 0    , 8   ],\n",
    "    [-8888, 0    , 0    , 0    ],\n",
    "    [-8888, 0    , 0    , 0    ],\n",
    "    [-8888, 0    , -8888, 0    ]\n",
    "]; "
   ]
  },
  {
   "cell_type": "code",
   "execution_count": 3,
   "metadata": {
    "collapsed": true
   },
   "outputs": [],
   "source": [
    "def action_is_allowed(learner, state, action):\n",
    "\n",
    "    if (action == 0 and not(state > learner.num_states - learner.servo_num_states - 1)):\n",
    "        return True\n",
    "    elif (action == 1 and not(state < learner.servo_num_states)):\n",
    "        return True\n",
    "    elif (action == 2 and not((state%learner.servo_num_states) == (learner.servo_num_states-1))):\n",
    "        return True\n",
    "    elif (action == 3 and not(state%learner.servo_num_states==0)):\n",
    "        return True\n",
    "    else:\n",
    "        return False"
   ]
  },
  {
   "cell_type": "code",
   "execution_count": 4,
   "metadata": {
    "collapsed": false
   },
   "outputs": [],
   "source": [
    "class QLearner(object):\n",
    "    def __init__(self, servo_num_states, num_actions, alpha, gamma, random_action_rate, random_action_decay_rate, warm_up_period):\n",
    "        \n",
    "        self.servo_num_states = servo_num_states\n",
    "        self.num_states = servo_num_states**2\n",
    "        self.num_actions = num_actions\n",
    "        self.alpha = alpha\n",
    "        self.gamma = gamma\n",
    "        self.random_action_rate = random_action_rate\n",
    "        self.random_action_decay_rate = random_action_decay_rate\n",
    "        self.warm_up_period = warm_up_period\n",
    "        self.state = 0\n",
    "        self.action = 0\n",
    "        #self.qtable = np.random.uniform(low=-1, high=1, size=(self.num_states, self.num_actions))\n",
    "        self.qtable = np.zeros((self.num_states, self.num_actions))\n",
    "        self.num_iteration = 0\n",
    "    def set_initial_state(self, action):\n",
    "        \"\"\"\n",
    "        @summary: Sets the initial state and returns an action\n",
    "        @param state: The initial state\n",
    "        @returns: The selected action\n",
    "        \"\"\"\n",
    "        self.state = int(self.num_states/2)\n",
    "        self.action = action #self.qtable[state].argsort()[-1]\n",
    "        \n",
    "    def get_next_state(self):\n",
    "        \n",
    "        next_state = None\n",
    "        \n",
    "        if (self.action == 0 and action_is_allowed(self, self.state, self.action)): \n",
    "            next_state = self.state + self.servo_num_states\n",
    "        elif (self.action == 1 and action_is_allowed(self, self.state, self.action)):\n",
    "            next_state = self.state - self.servo_num_states\n",
    "        elif (self.action == 2 and action_is_allowed(self, self.state, self.action)):\n",
    "            next_state = self.state + 1\n",
    "        elif (self.action == 3 and action_is_allowed(self, self.state, self.action)):\n",
    "            next_state = self.state - 1 \n",
    "        else:\n",
    "            next_state = self.state;\n",
    "            \n",
    "        return next_state\n",
    "        \n",
    "    def move(self, state_prime, reward):\n",
    "        \"\"\"\n",
    "        @summary: Moves to the given state with given reward and returns action\n",
    "        @param state_prime: The new state\n",
    "        @param reward: The reward\n",
    "        @returns: The selected action\n",
    "        \"\"\"\n",
    "        alpha = self.alpha\n",
    "        gamma = self.gamma\n",
    "        state = self.state\n",
    "        action = self.action\n",
    "        qtable = self.qtable\n",
    "        action_prime = -1\n",
    "        \n",
    "#         if self.state == state_prime: \n",
    "\n",
    "#             while not self.action_is_allowed(action_prime):\n",
    "#                 action_prime = np.random.randint(0, self.num_actions)\n",
    "            \n",
    "#             self.action = action_prime\n",
    "            \n",
    "        if False:\n",
    "            print 'yo'\n",
    "            \n",
    "        else: \n",
    "            \n",
    "            choose_random_action = (1 - self.random_action_rate) <= np.random.uniform(0, 1)\n",
    "\n",
    "            if choose_random_action:\n",
    "#                 while not(action_is_allowed(self, state_prime, action_prime)): \n",
    "                action_prime = np.random.randint(0, self.num_actions)\n",
    "            else:\n",
    "                ordered_action_list = self.qtable[state_prime].argsort()\n",
    "                best_choice_index = -1\n",
    "#                 while not(action_is_allowed(self, state_prime, action_prime)):\n",
    "                action_prime = ordered_action_list[best_choice_index]\n",
    "#                     best_choice_index -= 1\n",
    "\n",
    "            if self.num_iteration > self.warm_up_period: # warm up period is over\n",
    "                self.random_action_rate *= self.random_action_decay_rate\n",
    "            \n",
    "#             if reward > 0 :\n",
    "#                 reward = reward * 2\n",
    "                \n",
    "            qtable[state, action] = qtable[state, action] + alpha * (reward + gamma * qtable[state_prime, action_prime] - qtable[state, action])\n",
    "\n",
    "            self.state = state_prime\n",
    "            self.action = action_prime    \n",
    "            self.qtable = qtable"
   ]
  },
  {
   "cell_type": "code",
   "execution_count": 6,
   "metadata": {
    "collapsed": true
   },
   "outputs": [],
   "source": [
    "def get_final_reward(learner, reward_table, training_iteration, num_simulation):\n",
    "    \n",
    "    reward_list = []\n",
    "    \n",
    "    for simulation in xrange(num_simulation):\n",
    "        \n",
    "        temp_reward_list = []\n",
    "    \n",
    "        for iteration_step in xrange(training_iteration):\n",
    "\n",
    "            reward = reward_table[learner.state][learner.action] - 10\n",
    "\n",
    "            temp_reward_list.append(reward)\n",
    "\n",
    "            next_state = learner.get_next_state()\n",
    "\n",
    "\n",
    "            learner.move(next_state, reward)\n",
    "            learner.num_iteration += 1 \n",
    "\n",
    "        reward_list.append(np.sum(temp_reward_list))\n",
    "\n",
    "    return np.mean(reward_list)\n",
    "    \n",
    "    "
   ]
  },
  {
   "cell_type": "code",
   "execution_count": 7,
   "metadata": {
    "collapsed": true
   },
   "outputs": [],
   "source": [
    "from hyperopt import hp, fmin, tpe, hp, STATUS_OK, Trials\n",
    "\n",
    "best_score = np.inf\n",
    "\n",
    "def score(params):\n",
    "    \n",
    "    global best_score    \n",
    "\n",
    "    learner = QLearner(servo_num_states=7,\n",
    "                       num_actions=4,\n",
    "                       alpha=float(params['alpha']),\n",
    "                       gamma=float(params['gamma']),\n",
    "                       random_action_rate=float(params['random_action_rate']),\n",
    "                       random_action_decay_rate=float(params['random_action_decay_rate']),\n",
    "                       warm_up_period=int(params['warm_up_period']))\n",
    "\n",
    "    learner.set_initial_state(action=0)\n",
    "\n",
    "    loss = - get_final_reward(learner, reward_table, training_iteration=10000, num_simulation=100) # negative because we want to minimize loss\n",
    "    \n",
    "    if loss < best_score: \n",
    "        print \"Searching...\", \n",
    "        print \"New best score: {0:.2f}\".format(loss), \n",
    "        print params \n",
    "        print \n",
    "        best_score = loss\n",
    "\n",
    "    return {'loss': loss, 'status': STATUS_OK}\n",
    "    \n",
    "def optimize(trials):\n",
    "        \n",
    "    space = {\n",
    "             'alpha': hp.uniform('alpha', 0, 1),\n",
    "             'gamma': hp.uniform('gamma', 0, 1),\n",
    "             'random_action_rate': hp.uniform('random_action_rate', 0.8, 1), \n",
    "             'random_action_decay_rate': hp.uniform('random_action_decay_rate', 0.1, 1),\n",
    "             'warm_up_period': hp.quniform('warm_up_period', 1, 2000, 1)\n",
    "             }\n",
    "\n",
    "    best = fmin(score, space, algo=tpe.suggest, trials=trials, max_evals=100)\n",
    "\n",
    "    print '------------------------' \n",
    "    print \"Done.\"\n",
    "    print \"Best parameter setting:\", best\n",
    "    return best"
   ]
  },
  {
   "cell_type": "code",
   "execution_count": 8,
   "metadata": {
    "collapsed": false
   },
   "outputs": [
    {
     "name": "stdout",
     "output_type": "stream",
     "text": [
      "Searching... New best score: -114575.80 {'random_action_rate': 0.8408710004050584, 'warm_up_period': 894.0, 'gamma': 0.9539628710394158, 'random_action_decay_rate': 0.10262091235770437, 'alpha': 0.41866858155212605}\n",
      "\n",
      "Searching... New best score: -152128.83 {'random_action_rate': 0.9194790752773793, 'warm_up_period': 411.0, 'gamma': 0.9983428855456454, 'random_action_decay_rate': 0.4645789085705596, 'alpha': 0.7375311896663116}\n",
      "\n",
      "Searching... New best score: -166520.65 {'random_action_rate': 0.9353890876785266, 'warm_up_period': 355.0, 'gamma': 0.9921270856048059, 'random_action_decay_rate': 0.24581687870776198, 'alpha': 0.6493734074100681}\n",
      "\n",
      "------------------------\n",
      "Done.\n",
      "Best parameter setting: {'warm_up_period': 355.0, 'random_action_decay_rate': 0.24581687870776198, 'random_action_rate': 0.9353890876785266, 'gamma': 0.9921270856048059, 'alpha': 0.6493734074100681}\n",
      "CPU times: user 18min 56s, sys: 7.48 s, total: 19min 4s\n",
      "Wall time: 19min 23s\n"
     ]
    }
   ],
   "source": [
    "%%time\n",
    "\n",
    "#Trials object where the history of search will be stored\n",
    "trials = Trials()\n",
    "\n",
    "best_params = optimize(trials)"
   ]
  },
  {
   "cell_type": "code",
   "execution_count": 9,
   "metadata": {
    "collapsed": false,
    "scrolled": false
   },
   "outputs": [
    {
     "name": "stderr",
     "output_type": "stream",
     "text": [
      "  1%|          | 11/1000 [00:01<02:13,  7.41it/s]"
     ]
    },
    {
     "name": "stdout",
     "output_type": "stream",
     "text": [
      "7 2 [-5245.40966894  -790.83005196  -705.45210176 -7804.08871188]\n",
      "8 2 [-334.43036552 -332.51962901 -245.38347449 -333.61152983]\n",
      "9 1 [-162.89288411   90.32818141 -129.87468148   -3.23272497]\n",
      "2 3 [ -255.97722663 -7804.08871188  -247.90002591  -162.95423395]\n",
      "1 3 [ -642.49986227 -7804.08871188  -645.63205386  -557.34162799]\n",
      "0 0 [ -959.89831687 -7912.8638526  -1044.59112318 -7804.08871188]\n",
      "7 2 [-5245.40966894  -790.83005196  -705.45177035 -7804.08871188]\n",
      "8 2 [-334.43036552 -332.51962901 -245.3831434  -333.61152983]\n",
      "9 1 [-162.89288411   90.32851218 -129.87468148   -3.23272497]\n",
      "2 3 [ -255.97722663 -7804.08871188  -247.90002591  -162.95390349]\n",
      "1 3 [ -642.49986227 -7804.08871188  -645.63205386  -557.34129785]\n",
      "0 0 [ -959.89798704 -7912.8638526  -1044.59112318 -7804.08871188]\n",
      "7 2 [-5245.40966894  -790.83005196  -705.45144084 -7804.08871188]\n",
      "8 2 [-334.43036552 -332.51962901 -245.38281421 -333.61152983]\n",
      "9 1 [-162.89288411   90.32884106 -129.87468148   -3.23272497]\n",
      "2 3 [ -255.97722663 -7804.08871188  -247.90002591  -162.95357493]\n",
      "1 3 [ -642.49986227 -7804.08871188  -645.63205386  -557.3409696 ]\n",
      "0 0 [ -959.8976591  -7912.8638526  -1044.59112318 -7804.08871188]\n",
      "7 2 [-5245.40966894  -790.83005196  -705.45111322 -7804.08871188]\n",
      "8 2 [-334.43036552 -332.51962901 -245.3824869  -333.61152983]\n"
     ]
    },
    {
     "name": "stderr",
     "output_type": "stream",
     "text": [
      "100%|██████████| 1000/1000 [02:11<00:00,  7.68it/s]\n"
     ]
    },
    {
     "name": "stdout",
     "output_type": "stream",
     "text": [
      "[ 23.35835  23.40797  26.5582   26.67548]\n"
     ]
    },
    {
     "data": {
      "image/png": "[encoded data removed]",
      "text/plain": [
       "<matplotlib.figure.Figure at 0x118538cd0>"
      ]
     },
     "metadata": {},
     "output_type": "display_data"
    }
   ],
   "source": [
    "def crawling_simulation(params, reward_table, training_iteration = 10000, num_simulation = 1000):\n",
    "    \n",
    "    state_vector = np.zeros(49)\n",
    "    action_vector = np.zeros(4)\n",
    "    \n",
    "    for simulation in tqdm(xrange(num_simulation)):\n",
    "        \n",
    "        learner = QLearner(servo_num_states = 7,\n",
    "                           num_actions = 4,\n",
    "                           alpha = params['alpha'],\n",
    "                           gamma = params['gamma'],\n",
    "                           random_action_rate = params['random_action_rate'],\n",
    "                           random_action_decay_rate = params['random_action_decay_rate'],\n",
    "                           warm_up_period = params['warm_up_period'])\n",
    "\n",
    "        learner.set_initial_state(action=0)\n",
    "\n",
    "        stop = False\n",
    "    \n",
    "        for iteration_step in xrange(training_iteration):\n",
    "            \n",
    "#             if learner.num_iteration == 1000:\n",
    "#                 print learner.qtable[0]\n",
    "\n",
    "            \n",
    "            state_vector[learner.state] += 1\n",
    "            action_vector[learner.action] += 1 \n",
    "            \n",
    "            if iteration_step >= 9980 and simulation == 9:\n",
    "                print learner.state, learner.action, learner.qtable[learner.state]\n",
    "\n",
    "            reward = reward_table[learner.state][learner.action] - 10\n",
    "            next_state = learner.get_next_state()\n",
    "            \n",
    "#             dup = False\n",
    "#             if next_state == learner.state:\n",
    "#                 dup = True\n",
    "#                 print iteration_step, next_state, learner.action, reward, \n",
    "\n",
    "            learner.move(next_state, reward)\n",
    "            learner.num_iteration += 1 \n",
    "#             if dup:\n",
    "#                 print next_state\n",
    "#                 print learner.qtable[next_state]\n",
    "#                 print '----'\n",
    "\n",
    "        \n",
    "    normalize_state_vector = (state_vector/np.sum(state_vector)) * 100.\n",
    "    state_map = pd.DataFrame(normalize_state_vector.reshape(learner.servo_num_states, -1))\n",
    "    sns.heatmap(state_map, linewidths=1, annot=True)\n",
    "    plt.title('State map after {} simulations in %'.format(num_simulation))\n",
    "    \n",
    "    normalize_action_vector = (action_vector/np.sum(action_vector)) * 100.\n",
    "    \n",
    "    print normalize_action_vector\n",
    "    \n",
    "    return learner\n",
    "\n",
    "learner = crawling_simulation(best_params, reward_table)"
   ]
  },
  {
   "cell_type": "code",
   "execution_count": null,
   "metadata": {
    "collapsed": true
   },
   "outputs": [],
   "source": []
  },
  {
   "cell_type": "code",
   "execution_count": null,
   "metadata": {
    "collapsed": true
   },
   "outputs": [],
   "source": []
  },
  {
   "cell_type": "code",
   "execution_count": null,
   "metadata": {
    "collapsed": true
   },
   "outputs": [],
   "source": []
  },
  {
   "cell_type": "code",
   "execution_count": null,
   "metadata": {
    "collapsed": true
   },
   "outputs": [],
   "source": []
  },
  {
   "cell_type": "code",
   "execution_count": null,
   "metadata": {
    "collapsed": true
   },
   "outputs": [],
   "source": []
  }
 ],
 "metadata": {
  "anaconda-cloud": {},
  "kernelspec": {
   "display_name": "Python [Root]",
   "language": "python",
   "name": "Python [Root]"
  },
  "language_info": {
   "codemirror_mode": {
    "name": "ipython",
    "version": 2
   },
   "file_extension": ".py",
   "mimetype": "text/x-python",
   "name": "python",
   "nbconvert_exporter": "python",
   "pygments_lexer": "ipython2",
   "version": "2.7.12"
  }
 },
 "nbformat": 4,
 "nbformat_minor": 0
}
