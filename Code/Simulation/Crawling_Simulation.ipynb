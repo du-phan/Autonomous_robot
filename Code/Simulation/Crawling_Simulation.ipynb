{
 "cells": [
  {
   "cell_type": "code",
   "execution_count": 1,
   "metadata": {
    "collapsed": true
   },
   "outputs": [],
   "source": [
    "# -*- coding: utf-8 -*-\n",
    "import re\n",
    "import time\n",
    "import datetime \n",
    "import operator\n",
    "import numpy as np\n",
    "import pandas as pd \n",
    "import collections\n",
    "import unicodedata\n",
    "import collections\n",
    "import seaborn as sns\n",
    "import collections\n",
    "import matplotlib.pylab as pylab\n",
    "import matplotlib.pyplot as plt\n",
    "\n",
    "from tqdm import tqdm\n",
    "from collections import Counter\n",
    "from datetime import datetime, date, timedelta\n",
    "from IPython.display import Image\n",
    "\n",
    "\n",
    "%matplotlib inline\n",
    "\n",
    "pylab.rcParams['figure.figsize'] = 10,8\n",
    "\n",
    "plt.style.use('bmh')\n",
    "colors = ['#348ABD', '#A60628', '#7A68A6', '#467821', '#D55E00', \n",
    "          '#CC79A7', '#56B4E9', '#009E73', '#F0E442', '#0072B2']"
   ]
  },
  {
   "cell_type": "code",
   "execution_count": 2,
   "metadata": {
    "collapsed": false
   },
   "outputs": [],
   "source": [
    "reward_table = [\n",
    "    [ -250 , -8888, -405 , -8888],\n",
    "    [-309 , -8888, -400 , 405  ],\n",
    "    [-262 , -8888, -255 , 400  ],\n",
    "    [-231 , -8888, -77  , 255  ],\n",
    "    [-61  , -8888, 0    , 77   ],\n",
    "    [0    , -8888, 0    , 0    ],\n",
    "    [0    , -8888, -8888, 0    ],\n",
    "    [-325 , 250  , -452 , -8888],\n",
    "    [-270 , 309  , -325 , 452  ],\n",
    "    [-200 , 262  , -190 , 325  ],\n",
    "    [-125 , 231  , -10  , 190  ],\n",
    "    [-2   , 61   , 0    , 10   ],\n",
    "    [0    , 0    , 0    , 0    ],\n",
    "    [0    , 0    , -8888, 0    ],\n",
    "    [-192 , 325  , -390 , -8888],\n",
    "    [-169 , 270  , -285 , -390 ],\n",
    "    [-105 , 200  , -132 , 285  ],\n",
    "    [-10  , 125  , -5   , 132  ],\n",
    "    [0    , 2    , 0    , 5    ],\n",
    "    [0    , 0    , 0    , 0    ],\n",
    "    [0    , 0    , -8888, 0    ],\n",
    "    [-117 , 192  , -350 , -8888],\n",
    "    [-67  , 169  , -235 , 350  ],\n",
    "    [-8   , 105  , -26  , 235  ],\n",
    "    [0    , 10   , 0    , 26   ],\n",
    "    [0    , 0    , 0    , 0    ],\n",
    "    [0    , 0    , 0    , 0    ],\n",
    "    [0    , 0    , -8888, 0    ],\n",
    "    [-38  , 117  , -250 , -8888],\n",
    "    [0    , 67   , -148 , 250  ],\n",
    "    [0    , 8    , -3   , 148  ],\n",
    "    [0    , 0    , 0    , 3    ],\n",
    "    [0    , 0    , 0    , 0    ],\n",
    "    [0    , 0    , 0    , 0    ],\n",
    "    [0    , 0    , -8888, 0    ],\n",
    "    [0    , 38   , -195 , -8888],\n",
    "    [0    , 0    , -193 , 195  ],\n",
    "    [0    , 0    , -5   , 193  ],\n",
    "    [0    , 0    , 0    , 5    ],\n",
    "    [0    , 0    , 0    , 0    ],\n",
    "    [0    , 0    , 0    , 0    ],\n",
    "    [0    , 0    , -8888, 0    ],\n",
    "    [-8888, 0    , -255 , -8888],\n",
    "    [-8888, 0    , -190 , 255  ],\n",
    "    [-8888, 0    , -8   , 190  ],\n",
    "    [-8888, 0    , 0    , 8   ],\n",
    "    [-8888, 0    , 0    , 0    ],\n",
    "    [-8888, 0    , 0    , 0    ],\n",
    "    [-8888, 0    , -8888, 0    ]\n",
    "]; "
   ]
  },
  {
   "cell_type": "code",
   "execution_count": 3,
   "metadata": {
    "collapsed": true
   },
   "outputs": [],
   "source": [
    "def action_is_allowed(learner, state, action):\n",
    "\n",
    "    if (action == 0 and not(state > learner.num_states - learner.servo_num_states - 1)):\n",
    "        return True\n",
    "    elif (action == 1 and not(state < learner.servo_num_states)):\n",
    "        return True\n",
    "    elif (action == 2 and not((state%learner.servo_num_states) == (learner.servo_num_states-1))):\n",
    "        return True\n",
    "    elif (action == 3 and not(state%learner.servo_num_states==0)):\n",
    "        return True\n",
    "    else:\n",
    "        return False"
   ]
  },
  {
   "cell_type": "code",
   "execution_count": 93,
   "metadata": {
    "collapsed": false
   },
   "outputs": [],
   "source": [
    "class QLearner(object):\n",
    "    def __init__(self, servo_num_states, num_actions, alpha, gamma, random_action_rate, random_action_decay_rate):\n",
    "        \n",
    "        self.servo_num_states = servo_num_states\n",
    "        self.num_states = servo_num_states**2\n",
    "        self.num_actions = num_actions\n",
    "        self.alpha = alpha\n",
    "        self.gamma = gamma\n",
    "        self.random_action_rate = random_action_rate\n",
    "        self.random_action_decay_rate = random_action_decay_rate\n",
    "        self.state = 0\n",
    "        self.action = 0\n",
    "        #self.qtable = np.random.uniform(low=-1, high=1, size=(self.num_states, self.num_actions))\n",
    "        self.qtable = np.zeros((self.num_states, self.num_actions))\n",
    "        self.num_iteration = 0\n",
    "    def set_initial_state(self, action):\n",
    "        \"\"\"\n",
    "        @summary: Sets the initial state and returns an action\n",
    "        @param state: The initial state\n",
    "        @returns: The selected action\n",
    "        \"\"\"\n",
    "        self.state = int(self.num_states/2)\n",
    "        self.action = action #self.qtable[state].argsort()[-1]\n",
    "\n",
    "#     def action_is_allowed(self, action):\n",
    "        \n",
    "#         if (action == 0 and not(self.state > self.num_states - self.servo_num_states - 1)):\n",
    "#             return True\n",
    "#         elif (action == 1 and not(self.state < self.servo_num_states)):\n",
    "#             return True\n",
    "#         elif (action == 2 and not((self.state%self.servo_num_states) == (self.servo_num_states-1))):\n",
    "#             return True\n",
    "#         elif (action ==3 and not(self.state%self.servo_num_states==0)):\n",
    "#             return True\n",
    "#         else:\n",
    "#             return False\n",
    "        \n",
    "    def get_next_state(self):\n",
    "        \n",
    "        next_state = None\n",
    "        \n",
    "        if (self.action == 0 and action_is_allowed(self, self.state, self.action)): \n",
    "            next_state = self.state + self.servo_num_states\n",
    "        elif (self.action == 1 and action_is_allowed(self, self.state, self.action)):\n",
    "            next_state = self.state - self.servo_num_states\n",
    "        elif (self.action == 2 and action_is_allowed(self, self.state, self.action)):\n",
    "            next_state = self.state + 1\n",
    "        elif (self.action == 3 and action_is_allowed(self, self.state, self.action)):\n",
    "            next_state = self.state - 1 \n",
    "        else:\n",
    "            next_state = self.state;\n",
    "            \n",
    "        return next_state\n",
    "        \n",
    "    def move(self, state_prime, reward):\n",
    "        \"\"\"\n",
    "        @summary: Moves to the given state with given reward and returns action\n",
    "        @param state_prime: The new state\n",
    "        @param reward: The reward\n",
    "        @returns: The selected action\n",
    "        \"\"\"\n",
    "        alpha = self.alpha\n",
    "        gamma = self.gamma\n",
    "        state = self.state\n",
    "        action = self.action\n",
    "        qtable = self.qtable\n",
    "        action_prime = -1\n",
    "        \n",
    "#         if self.state == state_prime: \n",
    "\n",
    "#             while not self.action_is_allowed(action_prime):\n",
    "#                 action_prime = np.random.randint(0, self.num_actions)\n",
    "            \n",
    "#             self.action = action_prime\n",
    "            \n",
    "        if False:\n",
    "            print 'yo'\n",
    "            \n",
    "        else: \n",
    "            \n",
    "            choose_random_action = (1 - self.random_action_rate) <= np.random.uniform(0, 1)\n",
    "\n",
    "            if choose_random_action:\n",
    "#                 while not(action_is_allowed(self, state_prime, action_prime)): \n",
    "                action_prime = np.random.randint(0, self.num_actions)\n",
    "            else:\n",
    "                ordered_action_list = self.qtable[state_prime].argsort()\n",
    "                best_choice_index = -1\n",
    "#                 while not(action_is_allowed(self, state_prime, action_prime)):\n",
    "                action_prime = ordered_action_list[best_choice_index]\n",
    "#                     best_choice_index -= 1\n",
    "\n",
    "            if self.num_iteration >1000: # warm up period is over\n",
    "                self.random_action_rate *= self.random_action_decay_rate\n",
    "            \n",
    "            if reward > 0 :\n",
    "                reward = reward * 2\n",
    "                \n",
    "            qtable[state, action] = (1 - alpha) * qtable[state, action] + alpha * (reward + gamma * qtable[state_prime, action_prime])\n",
    "\n",
    "            self.state = state_prime\n",
    "            self.action = action_prime    \n",
    "            self.qtable = qtable"
   ]
  },
  {
   "cell_type": "code",
   "execution_count": 97,
   "metadata": {
    "collapsed": false,
    "scrolled": false
   },
   "outputs": [
    {
     "name": "stderr",
     "output_type": "stream",
     "text": [
      " 11%|█         | 11/100 [00:01<00:11,  7.69it/s]"
     ]
    },
    {
     "name": "stdout",
     "output_type": "stream",
     "text": [
      "8 2 [ 306.54285143   69.6907259   541.66666667  190.05402762]\n",
      "9 3 [  670.70096529   435.68643468   415.73323816  1083.33333333]\n",
      "8 2 [ 306.54285143   69.6907259   541.66666667  190.05402762]\n",
      "9 3 [  670.70096529   435.68643468   415.73323816  1083.33333333]\n",
      "8 2 [ 306.54285143   69.6907259   541.66666667  190.05402762]\n",
      "9 3 [  670.70096529   435.68643468   415.73323816  1083.33333333]\n",
      "8 2 [ 306.54285143   69.6907259   541.66666667  190.05402762]\n",
      "9 3 [  670.70096529   435.68643468   415.73323816  1083.33333333]\n",
      "8 2 [ 306.54285143   69.6907259   541.66666667  190.05402762]\n",
      "9 3 [  670.70096529   435.68643468   415.73323816  1083.33333333]\n",
      "8 2 [ 306.54285143   69.6907259   541.66666667  190.05402762]\n",
      "9 3 [  670.70096529   435.68643468   415.73323816  1083.33333333]\n",
      "8 2 [ 306.54285143   69.6907259   541.66666667  190.05402762]\n",
      "9 3 [  670.70096529   435.68643468   415.73323816  1083.33333333]\n",
      "8 2 [ 306.54285143   69.6907259   541.66666667  190.05402762]\n",
      "9 3 [  670.70096529   435.68643468   415.73323816  1083.33333333]\n",
      "8 2 [ 306.54285143   69.6907259   541.66666667  190.05402762]\n",
      "9 3 [  670.70096529   435.68643468   415.73323816  1083.33333333]\n",
      "8 2 [ 306.54285143   69.6907259   541.66666667  190.05402762]\n",
      "9 3 [  670.70096529   435.68643468   415.73323816  1083.33333333]\n"
     ]
    },
    {
     "name": "stderr",
     "output_type": "stream",
     "text": [
      "100%|██████████| 100/100 [00:13<00:00,  7.90it/s]\n"
     ]
    },
    {
     "name": "stdout",
     "output_type": "stream",
     "text": [
      "[ 11.6712  11.8695  38.076   38.3833]\n"
     ]
    },
    {
     "data": {
      "image/png": "[encoded data removed]",
      "text/plain": [
       "<matplotlib.figure.Figure at 0x1195e4fd0>"
      ]
     },
     "metadata": {},
     "output_type": "display_data"
    }
   ],
   "source": [
    "def crawling_simulation(reward_table, training_iteration = 10000, num_simulation = 100):\n",
    "    \n",
    "    state_vector = np.zeros(49)\n",
    "    action_vector = np.zeros(4)\n",
    "    \n",
    "    for simulation in tqdm(xrange(num_simulation)):\n",
    "        \n",
    "        learner = QLearner(servo_num_states=7,\n",
    "                           num_actions=4,\n",
    "                           alpha=0.2,\n",
    "                           gamma=.8,\n",
    "                           random_action_rate=1,\n",
    "                           random_action_decay_rate=.999)\n",
    "\n",
    "        learner.set_initial_state(action=0)\n",
    "\n",
    "        stop = False\n",
    "    \n",
    "        for iteration_step in xrange(training_iteration):\n",
    "            \n",
    "#             if learner.num_iteration == 1000:\n",
    "#                 print learner.qtable[0]\n",
    "\n",
    "            \n",
    "            state_vector[learner.state] += 1\n",
    "            action_vector[learner.action] += 1 \n",
    "            \n",
    "            if iteration_step >= 9980 and simulation == 9:\n",
    "                print learner.state, learner.action, learner.qtable[learner.state]\n",
    "\n",
    "            reward = reward_table[learner.state][learner.action]\n",
    "            next_state = learner.get_next_state()\n",
    "            \n",
    "#             dup = False\n",
    "#             if next_state == learner.state:\n",
    "#                 dup = True\n",
    "#                 print iteration_step, next_state, learner.action, reward, \n",
    "\n",
    "            learner.move(next_state, reward)\n",
    "            learner.num_iteration += 1 \n",
    "#             if dup:\n",
    "#                 print next_state\n",
    "#                 print learner.qtable[next_state]\n",
    "#                 print '----'\n",
    "\n",
    "        \n",
    "    normalize_state_vector = (state_vector/np.sum(state_vector)) * 100.\n",
    "    state_map = pd.DataFrame(normalize_state_vector.reshape(learner.servo_num_states, -1))\n",
    "    sns.heatmap(state_map, linewidths=1, annot=True)\n",
    "    plt.title('State map after {} simulations in %'.format(num_simulation))\n",
    "    \n",
    "    normalize_action_vector = (action_vector/np.sum(action_vector)) * 100.\n",
    "    \n",
    "    print normalize_action_vector\n",
    "    \n",
    "    return learner\n",
    "\n",
    "learner = crawling_simulation(reward_table)"
   ]
  },
  {
   "cell_type": "code",
   "execution_count": null,
   "metadata": {
    "collapsed": true
   },
   "outputs": [],
   "source": []
  },
  {
   "cell_type": "code",
   "execution_count": null,
   "metadata": {
    "collapsed": true
   },
   "outputs": [],
   "source": []
  },
  {
   "cell_type": "code",
   "execution_count": null,
   "metadata": {
    "collapsed": true
   },
   "outputs": [],
   "source": []
  },
  {
   "cell_type": "code",
   "execution_count": null,
   "metadata": {
    "collapsed": true
   },
   "outputs": [],
   "source": []
  },
  {
   "cell_type": "code",
   "execution_count": null,
   "metadata": {
    "collapsed": true
   },
   "outputs": [],
   "source": []
  },
  {
   "cell_type": "code",
   "execution_count": null,
   "metadata": {
    "collapsed": true
   },
   "outputs": [],
   "source": []
  },
  {
   "cell_type": "code",
   "execution_count": null,
   "metadata": {
    "collapsed": true
   },
   "outputs": [],
   "source": []
  },
  {
   "cell_type": "code",
   "execution_count": null,
   "metadata": {
    "collapsed": true
   },
   "outputs": [],
   "source": []
  },
  {
   "cell_type": "code",
   "execution_count": null,
   "metadata": {
    "collapsed": true
   },
   "outputs": [],
   "source": []
  },
  {
   "cell_type": "code",
   "execution_count": null,
   "metadata": {
    "collapsed": true
   },
   "outputs": [],
   "source": []
  }
 ],
 "metadata": {
  "kernelspec": {
   "display_name": "Python [Root]",
   "language": "python",
   "name": "Python [Root]"
  },
  "language_info": {
   "codemirror_mode": {
    "name": "ipython",
    "version": 2
   },
   "file_extension": ".py",
   "mimetype": "text/x-python",
   "name": "python",
   "nbconvert_exporter": "python",
   "pygments_lexer": "ipython2",
   "version": "2.7.12"
  }
 },
 "nbformat": 4,
 "nbformat_minor": 0
}
