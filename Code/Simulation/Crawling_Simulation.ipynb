{
 "cells": [
  {
   "cell_type": "markdown",
   "metadata": {},
   "source": [
    "# Learning motor primitives on a small crawling robot using Q-Learning.\n"
   ]
  },
  {
   "cell_type": "markdown",
   "metadata": {},
   "source": [
    "***"
   ]
  },
  {
   "cell_type": "markdown",
   "metadata": {},
   "source": [
    "## Table of content:\n",
    "\n",
    "* [Review of Q-learning](#1)\n",
    "    * Algorithm\n",
    "    * Behavior policy\n",
    "* [Simulation](#2)\n",
    "* [Heuristic improvement](#3)\n",
    "    * Reward scaling\n",
    "    * Action penalty\n",
    "    * Q-value scaling\n",
    "    * Warm-up period\n",
    "\n",
    "* [Parameter optimisation](#4)\n",
    "    * Bayesian optimisation\n",
    "    * Result\n",
    "    * Parameter performance\n",
    "        * Greedy vs Boltzmann\n",
    "        * Gamma\n",
    "        * Alpha\n",
    "    * Noise\n",
    "    \n",
    "* [Eligility traces](#5)\n",
    "    * Overview\n",
    "    * TD($\\lambda$) and Naive Q($\\lambda$)\n",
    "    * Result"
   ]
  },
  {
   "cell_type": "markdown",
   "metadata": {},
   "source": [
    "***"
   ]
  },
  {
   "cell_type": "markdown",
   "metadata": {},
   "source": [
    "## Review of Q-learning <a id='1'></a>"
   ]
  },
  {
   "cell_type": "markdown",
   "metadata": {},
   "source": [
    "### 1. Algorithm:\n",
    "The main algorithm is define as:\n",
    "\n",
    "$            Q(S_t,A_t) \\leftarrow Q(S_t, A_t) + \\alpha \\left [ R_{t+1} + \\gamma \\max_a Q(S_{t+1},a) - Q(S_t,A_t) \\right ]\n",
    "$\n",
    "\n",
    "The algorithm can be then implemented as follows: \n",
    "<img src=\"img/q-learning.png\" width=\"600\" height=\"600\" />\n",
    "(Source: Reinforcement Learning - An Introduction.)"
   ]
  },
  {
   "cell_type": "markdown",
   "metadata": {},
   "source": [
    "### 2. Behavior policy\n",
    "\n",
    "As we have mentioned above, Q-learning is an **off-policy** learning method. The algorithm has 2 policies: one used to choose the next action in each time step, called *behavior policy*, and one whose value function we seek to learn, called the *target policy*. The choice of behavior policy is important as it is the main way to cope with the exploitation-exploration dilemma.\n",
    "        \n",
    "In this project, we have considered 2 types of behavior policy: $\\epsilon$-greedy and the Boltzmann selection."
   ]
  },
  {
   "cell_type": "markdown",
   "metadata": {},
   "source": [
    "#### 2.1 $\\epsilon$-greedy selection\n",
    "When employing this strategy, the agent will usually follow the greedy rule, which means that it will chose the best action according to the state-action values. However, there is a small probability $\\epsilon$ that, rather than take the best action, the agent will uniformly select an action from the remaining actions. "
   ]
  },
  {
   "cell_type": "markdown",
   "metadata": {},
   "source": [
    "#### 2.2 Boltzmann selection\n",
    "\n",
    "With Boltzmann selection, the relative value of the state-action values is taken into account. By using a Softmax function, we \"squash\" the vector of state-action values into a vector of \"probability\", i.e it sums to 1. The action will be sampled from this vector with the corresponding probability.\n",
    "            \n",
    "Concretely, at a state **s**, an action **a** is selected with probability: \n",
    "            \n",
    "$\n",
    "                p = \\frac{\\exp(\\frac{Q(s,a) - max_bQ(s,b)}{T})}{ \\sum_{a} \\exp(\\frac{Q(s,a) - max_bQ(s,b)}{T})}\n",
    "$            \n",
    "\n",
    "**T** is called the temperature, and increases the exploration rate as it increases.\n",
    "            \n",
    "Later, in the parameter optimisation section, we will examine the difference in performance between these 2 policies."
   ]
  },
  {
   "cell_type": "markdown",
   "metadata": {},
   "source": [
    "***"
   ]
  },
  {
   "cell_type": "markdown",
   "metadata": {},
   "source": [
    "## Simulation <a id='2'></a>"
   ]
  },
  {
   "cell_type": "markdown",
   "metadata": {},
   "source": [
    "To analyse the performance of the algorithm, we have created a crawling robot simulation. The most important thing in this simulation is the reward table. The latter was created by observing and recording the wheel encoder data through many times. The reason that we had to give several try is because the data is quite noisy (this turned out to be a major problem when Q-learning was run on the robot).\n",
    "    \n",
    "In addition, we have made one important hypothesis: **the reward of an action between 2 states is reciprocal**: if the reward of an action going from state A to B is $x$, the reward of the action going from state B to A is $-x$. Theoretically, on a flat ground, this is logic: the inverse of the action which helps the robot move forward will make it move backward. However, in practice, we observed that this is not the case because of many factors, especially when the floor is slippery. The hypothesis is completely wrong when the robot is on a football field, where the grass leans in 1 direction.\n",
    "\n",
    "Some modifications has been applied to the recorded reward table to satisfy this hypothesis."
   ]
  },
  {
   "cell_type": "code",
   "execution_count": 2,
   "metadata": {
    "collapsed": true
   },
   "outputs": [],
   "source": [
    "# -*- coding: utf-8 -*-\n",
    "import re\n",
    "import time\n",
    "import datetime \n",
    "import operator\n",
    "import numpy as np\n",
    "import pandas as pd \n",
    "import collections\n",
    "import unicodedata\n",
    "import collections\n",
    "import seaborn as sns\n",
    "import collections\n",
    "import matplotlib.pylab as pylab\n",
    "import matplotlib.pyplot as plt\n",
    "\n",
    "from tqdm import tqdm\n",
    "from collections import Counter\n",
    "from datetime import datetime, date, timedelta\n",
    "from IPython.display import Image\n",
    "\n",
    "\n",
    "%matplotlib inline\n",
    "\n",
    "pylab.rcParams['figure.figsize'] = 11,8\n",
    "\n",
    "plt.style.use('bmh')\n",
    "colors = ['#348ABD', '#A60628', '#7A68A6', '#467821', '#D55E00', \n",
    "          '#CC79A7', '#56B4E9', '#009E73', '#F0E442', '#0072B2']"
   ]
  },
  {
   "cell_type": "code",
   "execution_count": 3,
   "metadata": {
    "collapsed": false
   },
   "outputs": [],
   "source": [
    "ideal_reward_table = [\n",
    "    [ -250 , -15000, -405 , -15000],\n",
    "    [-309 , -15000, -400 , 405  ],\n",
    "    [-262 , -15000, -255 , 400  ],\n",
    "    [-231 , -15000, -77  , 255  ],\n",
    "    [-61  , -15000, 0    , 77   ],\n",
    "    [0    , -15000, 0    , 0    ],\n",
    "    [0    , -15000, -15000, 0    ],\n",
    "    [-325 , 250  , -452 , -15000],\n",
    "    [-270 , 309  , -325 , 452  ],\n",
    "    [-200 , 262  , -190 , 325  ],\n",
    "    [-125 , 231  , -10  , 190  ],\n",
    "    [-2   , 61   , 0    , 10   ],\n",
    "    [0    , 0    , 0    , 0    ],\n",
    "    [0    , 0    , -15000, 0    ],\n",
    "    [-192 , 325  , -390 , -15000],\n",
    "    [-169 , 270  , -285 , -390 ],\n",
    "    [-105 , 200  , -132 , 285  ],\n",
    "    [-10  , 125  , -5   , 132  ],\n",
    "    [0    , 2    , 0    , 5    ],\n",
    "    [0    , 0    , 0    , 0    ],\n",
    "    [0    , 0    , -15000, 0    ],\n",
    "    [-117 , 192  , -350 , -15000],\n",
    "    [-67  , 169  , -235 , 350  ],\n",
    "    [-8   , 105  , -26  , 235  ],\n",
    "    [0    , 10   , 0    , 26   ],\n",
    "    [0    , 0    , 0    , 0    ],\n",
    "    [0    , 0    , 0    , 0    ],\n",
    "    [0    , 0    , -15000, 0    ],\n",
    "    [-38  , 117  , -250 , -15000],\n",
    "    [0    , 67   , -148 , 250  ],\n",
    "    [0    , 8    , -3   , 148  ],\n",
    "    [0    , 0    , 0    , 3    ],\n",
    "    [0    , 0    , 0    , 0    ],\n",
    "    [0    , 0    , 0    , 0    ],\n",
    "    [0    , 0    , -15000, 0    ],\n",
    "    [0    , 38   , -195 , -15000],\n",
    "    [0    , 0    , -193 , 195  ],\n",
    "    [0    , 0    , -5   , 193  ],\n",
    "    [0    , 0    , 0    , 5    ],\n",
    "    [0    , 0    , 0    , 0    ],\n",
    "    [0    , 0    , 0    , 0    ],\n",
    "    [0    , 0    , -15000, 0    ],\n",
    "    [-15000, 0    , -255 , -15000],\n",
    "    [-15000, 0    , -190 , 255  ],\n",
    "    [-15000, 0    , -8   , 190  ],\n",
    "    [-15000, 0    , 0    , 8   ],\n",
    "    [-15000, 0    , 0    , 0    ],\n",
    "    [-15000, 0    , 0    , 0    ],\n",
    "    [-15000, 0    , -15000, 0    ]\n",
    "]; "
   ]
  },
  {
   "cell_type": "code",
   "execution_count": 4,
   "metadata": {
    "collapsed": true
   },
   "outputs": [],
   "source": [
    "real_reward_table = [\n",
    "[2.23, -3500, -34.63, -3500],\n",
    " [-96.24, -3500, -170.29, 21.15],\n",
    " [-96.83, -3500, -84.52, 10.52],\n",
    " [-56.45, -3500, -155.32, 12.35],\n",
    " [-48.75, -3500, -88.44, -23.19],\n",
    " [0.64, -3500, 1.06, 1.37],\n",
    " [0.48, -3500, -3500, 0.44],\n",
    " [-47.35, -6.12, -134.48, -3500],\n",
    " [-108.4, -35.56, -179.94, 54.25],\n",
    " [-58.97, 17.74, -136.75, -23.34],\n",
    " [-135.78, 18.82, -62.87, -9.65],\n",
    " [0.12, 13.75, 0.91, 1.27],\n",
    " [1.37, 1.0, 0.52, 0.44],\n",
    " [1.06, 1.55, -3500, 0.79],\n",
    " [-118.62, -12.28, -221.75, -3500],\n",
    " [-138.0, 46.19, -197.95, -58.12], # 15\n",
    " [-101.0, 53.34, -45.42, -0.19],\n",
    " [-12.38, 6.59, -3.75, 13.11],\n",
    " [1.14, 1.97, 1.91, 6.75],\n",
    " [0.41, 0.23, 1.87, 0.14],\n",
    " [0.53, 0.25, -3500, 1.37],\n",
    " [-7.21, -86.5, -198.25, -3500],\n",
    " [-104.0, 11.31, -85.5, -29.5],\n",
    " [1.22, 26.44, -10.16, 23.0],\n",
    " [0.62, 6.62, 1.3, 5.42],\n",
    " [0.17, 1.31, 0.91, 0.95],\n",
    " [1.28, 1.02, 1.87, 0.83],\n",
    " [2.56, 1.22, -3500, 1.56],\n",
    " [-43.25, 8.83, -68.21, -3500],\n",
    " [-26.0, 4.12, -53.25, 48.38],\n",
    " [-3.5, -0.47, -24.81, 41.0],\n",
    " [1.31, 0.73, 0.4, 1.19],\n",
    " [1.55, 1.09, 0.39, 1.67],\n",
    " [0.52, 1.09, 1.11, 1.5],\n",
    " [1.0, 0.5, -3500, 1.03],\n",
    " [-9.47, 2.5, -44.91, -3500],\n",
    " [-37.5, -10.0, -105.89, 27.0],\n",
    " [-9.13, -15.44, 1.45, 36.62],\n",
    " [0.82, -0.4, 0.7, 1.0],\n",
    " [0.72, 0.86, 0.22, 1.72],\n",
    " [1.84, 0.87, 0.91, 0.81],\n",
    " [1.22, 0.84, -3500, 0.94],\n",
    " [-3500, -2.42, -54.56, -3500],\n",
    " [-3500, -16.28, -147.9, 55.0],\n",
    " [-3500, -20.75, -13.91, 55.31],\n",
    " [-3500, 1.66, 0.02, 0.12],\n",
    " [-3500, 0.75, 2.03, 0.66],\n",
    " [-3500, 0.94, 1.26, 0.69],\n",
    " [-3500, -0.33, -3500, -0.44]]"
   ]
  },
  {
   "cell_type": "code",
   "execution_count": 5,
   "metadata": {
    "collapsed": true
   },
   "outputs": [],
   "source": [
    "def Boltzmann_selection(learner, state):\n",
    "    \n",
    "    greedy_action = learner.qtable[state].argsort()[-1]\n",
    "\n",
    "    numerator = np.exp((learner.qtable[state] - learner.qtable[state, greedy_action])/learner.T)\n",
    "    \n",
    "    action_proba_vector = numerator/np.sum(numerator)\n",
    "    \n",
    "    return action_proba_vector\n",
    "\n",
    "def action_is_allowed(learner, state, action):\n",
    "\n",
    "    if (action == 0 and not(state > learner.num_states - learner.servo_num_states - 1)):\n",
    "        return True\n",
    "    elif (action == 1 and not(state < learner.servo_num_states)):\n",
    "        return True\n",
    "    elif (action == 2 and not((state%learner.servo_num_states) == (learner.servo_num_states-1))):\n",
    "        return True\n",
    "    elif (action == 3 and not(state%learner.servo_num_states==0)):\n",
    "        return True\n",
    "    else:\n",
    "        return False"
   ]
  },
  {
   "cell_type": "code",
   "execution_count": 6,
   "metadata": {
    "collapsed": false
   },
   "outputs": [],
   "source": [
    "class QLearner_zero(object):\n",
    "    def __init__(self, \n",
    "                 servo_num_states, \n",
    "                 num_actions, \n",
    "                 alpha, \n",
    "                 gamma, \n",
    "                 random_action_rate,\n",
    "                 random_action_decay_rate, \n",
    "                 warm_up_period, \n",
    "                 action_penalty,\n",
    "                 initial_state,\n",
    "                 scaling_point, \n",
    "                 scaling_factor,\n",
    "                 T,\n",
    "                 policy):\n",
    "        \n",
    "        self.servo_num_states = servo_num_states\n",
    "        self.num_states = servo_num_states**2\n",
    "        self.num_actions = num_actions\n",
    "        self.alpha = alpha\n",
    "        self.gamma = gamma\n",
    "        self.random_action_rate = random_action_rate\n",
    "        self.random_action_decay_rate = random_action_decay_rate\n",
    "        self.warm_up_period = warm_up_period\n",
    "        self.state = initial_state\n",
    "        self.action = 0\n",
    "        self.action_penalty = action_penalty\n",
    "        self.qtable = np.zeros((self.num_states, self.num_actions))\n",
    "        self.num_iteration = 0\n",
    "        self.last_reward = 0\n",
    "        self.scaling_point = scaling_point\n",
    "        self.scaling_factor = scaling_factor\n",
    "        self.T = T \n",
    "        self.policy = policy\n",
    "        \n",
    "        \n",
    "    def get_next_state(self):\n",
    "        \n",
    "        next_state = None\n",
    "        \n",
    "        if (self.action == 0 and action_is_allowed(self, self.state, self.action)): \n",
    "            next_state = self.state + self.servo_num_states\n",
    "        elif (self.action == 1 and action_is_allowed(self, self.state, self.action)):\n",
    "            next_state = self.state - self.servo_num_states\n",
    "        elif (self.action == 2 and action_is_allowed(self, self.state, self.action)):\n",
    "            next_state = self.state + 1\n",
    "        elif (self.action == 3 and action_is_allowed(self, self.state, self.action)):\n",
    "            next_state = self.state - 1 \n",
    "        else:\n",
    "            next_state = self.state;\n",
    "            \n",
    "        return next_state\n",
    "    \n",
    "        \n",
    "    def move(self, state_prime, reward):\n",
    "        \"\"\"\n",
    "        @summary: Moves to the given state with given reward and returns action\n",
    "        @param state_prime: The new state\n",
    "        @param reward: The reward\n",
    "        @returns: The selected action\n",
    "        \"\"\"\n",
    "        alpha = self.alpha\n",
    "        gamma = self.gamma\n",
    "        state = self.state\n",
    "        action = self.action\n",
    "        qtable = self.qtable\n",
    "        action_prime = -1\n",
    "\n",
    "        greedy_action = self.qtable[state_prime].argsort()[-1]\n",
    "    \n",
    "        if self.policy == 'greedy': \n",
    "        \n",
    "            choose_random_action = (1 - self.random_action_rate) <= np.random.uniform(0, 1)\n",
    "\n",
    "            if choose_random_action:\n",
    "                action_prime = np.random.randint(0, self.num_actions)\n",
    "            else:\n",
    "                action_prime = greedy_action\n",
    "                \n",
    "            if self.num_iteration > self.warm_up_period: # warm up period is over\n",
    "                self.random_action_rate *= self.random_action_decay_rate\n",
    "        \n",
    "        elif self.policy == 'boltzmann': \n",
    "            \n",
    "            action_proba_vector = Boltzmann_selection(self, state_prime)\n",
    "        \n",
    "            action_prime = np.random.choice(a=4, p=action_proba_vector)\n",
    "            \n",
    "\n",
    "        qtable[state, action] = qtable[state, action] + alpha * (reward + gamma * qtable[state_prime, greedy_action] - qtable[state, action])\n",
    "\n",
    "        self.state = state_prime\n",
    "        self.action = action_prime    \n",
    "        self.qtable = qtable"
   ]
  },
  {
   "cell_type": "code",
   "execution_count": 7,
   "metadata": {
    "collapsed": false
   },
   "outputs": [],
   "source": [
    "def get_final_reward(learner, reward_table, training_iteration):\n",
    "    \n",
    "    reward_list = []\n",
    "            \n",
    "    for iteration_step in xrange(training_iteration):      \n",
    "            \n",
    "        reward = reward_table[learner.state][learner.action] - learner.action_penalty\n",
    "\n",
    "        next_state = learner.get_next_state()\n",
    "\n",
    "        learner.move(next_state, reward)\n",
    "\n",
    "        learner.num_iteration += 1 \n",
    "\n",
    "        if learner.num_iteration % learner.scaling_point == 0: learner.qtable *= learner.scaling_factor\n",
    "\n",
    "        reward_list.append(reward)\n",
    "        \n",
    "        \n",
    "    return np.mean(reward_list)"
   ]
  },
  {
   "cell_type": "markdown",
   "metadata": {},
   "source": [
    "***"
   ]
  },
  {
   "cell_type": "markdown",
   "metadata": {
    "collapsed": true
   },
   "source": [
    "## Heuristic improvement  <a id='3'></a>"
   ]
  },
  {
   "cell_type": "markdown",
   "metadata": {},
   "source": [
    "During our project, this step was not actually planned before hand. We went straight to the optimisation process. However, the results were disappointing, either the agent took a lot of time to converge to the best sequences or it could not find it at all. \n",
    "    \n",
    "It turned out that the scale and value of the reward is critical. We will now elaborate on the 4 \"heuristics\" that helped us accelerate the process."
   ]
  },
  {
   "cell_type": "markdown",
   "metadata": {},
   "source": [
    "### 1. Reward scaling \n",
    "\n",
    "We have an impression that when the agent does not receive enough positive reward, it struggles to find the best sequence. We tried many different approach to scale up/down the positive/negative rewards. Later we found out that it was not really necessary to do that, there is a much simpler solution: in the reward table, for the impossible pairs of state-action (like the one we mentioned above), instead of give them 0 reward, we assign them with a big negative number to prevent the robot from getting stuck there. After many trial and error, the \"magical\" number is -15000 for our case."
   ]
  },
  {
   "cell_type": "markdown",
   "metadata": {},
   "source": [
    "### 2. Action penalty\n",
    "This is quite subtle as well, we want to encourage the robot to find the shortest, most beneficial sequence of action. In order to do that, a logical option is to impose a penalty for each action taken. The best value that we find is 50. \n",
    "\n",
    "<img src=\"img/before_penal.png\" width=\"500\" height=\"500\" />\n",
    "(Action penalty = 10, 5000 iterations, no convergence.)\n",
    "<img src=\"img/after_penal.png\" width=\"500\" height=\"500\" />\n",
    "(Action penalty = 50, 5000 iterations, the best sequence is found.)"
   ]
  },
  {
   "cell_type": "markdown",
   "metadata": {},
   "source": [
    "### 3. Q-value scaling"
   ]
  },
  {
   "cell_type": "markdown",
   "metadata": {},
   "source": [
    "This heuristic is from an article by Soumi Ray and Tim Oates ([Locking in Returns: Speeding Up Q-Learning by Scaling](https://ewrl.files.wordpress.com/2011/08/ewrl2011_submission_7.pdf)). Their idea is simple: scaling the values in the Q-table after small amounts of learning. This method has shown some remarkable improvements in the convergence speed of our algorithm. It presents 2 additional parameters: the number of steps required before scaling and the scaling factor. They will go into the optimisation process along with other Q-learning parameters. \n",
    "\n",
    "<img src=\"img/before_scale.png\" width=\"500\" height=\"500\" />\n",
    "(Before Q-value scaling, 10000 iterations, stuck in a local minima.)\n",
    "<img src=\"img/after_scale.png\" width=\"500\" height=\"500\" />\n",
    "(After Q-value scaling, 10000 iterations, the best sequence is found.)"
   ]
  },
  {
   "cell_type": "markdown",
   "metadata": {},
   "source": [
    "### 4. Warm-up period\n",
    "\n",
    "This was mainly aimed to solve the mechanical problem: we want to reduce the \"moving\" time of the robot as much as possible because it is costly. Our strategy is to begin the Q-learning process with a \"warm up\" period with high random action rate where the robot's main mission is to explore the reward space and the action space. After this period, the random action rate will begin to decay and Q-learning will kick in.\n",
    "\n",
    "The warm up period will also go into the optimisation process. "
   ]
  },
  {
   "cell_type": "markdown",
   "metadata": {},
   "source": [
    "***"
   ]
  },
  {
   "cell_type": "markdown",
   "metadata": {
    "collapsed": true
   },
   "source": [
    "## Parameter optimisation <a id='4'></a>"
   ]
  },
  {
   "cell_type": "markdown",
   "metadata": {},
   "source": [
    "### 1. Bayesian optimisation\n",
    "\n",
    "Parameter optimisation is usually considered as a \"black art\" in machine learning, especially when dealing with complex models as Deep Learning or Gradient Boosting. The classical approaches are grid search or random search: we hand pick some interval for our parameters, try different combinations and then choose the best one. The task is mundane and require some good intuitions in order to know where to look for. \n",
    "    \n",
    "Recently, people begin to prefer the automatic optimisation method. The idea can be explained as below: imagine having an unknown, blackbox function $f$ that takes the machine learning parameters (for example a vector $x[x1,x2]$) as its parameters and returns a loss value. The goal is thus to find the $x$ where $f(x)$ is minimized.\n",
    "    \n",
    "One approach is to sample $x$ from its distribution, compute $f(x)$ and look for the minimum zone. The important constraint here is that we want to sample as efficiently as possible. In other words, we want to focus the searching process in the promising zone of the high dimensional parameters space and ignore the rest. This problem is classically known as the multi-armed bandit problem. It is the foundation of Bayesian optimisation with many important applications [(Google uses this for its A/B tests)](https://support.google.com/analytics/answer/2844870?hl=en).\n",
    "\n",
    "<img src=\"img/gp.jpg\" width=\"600\" height=\"600\" />\n",
    "\n",
    "(Gaussian Process, a popular Bayesian Optimisation method. We determine the next point to sample by using an acquisation function that model the probability of the zone containing the maxima.)\n",
    "\n",
    "In this project we use [Hyperopt](http://hyperopt.github.io/hyperopt/) for the optimisation task. This package use a Bayesian technique called TPE (tree of Parzen estimators) to find the best parameter combination in order to minimize a pre-defined loss function (negative long-term reward in our case).\n",
    "    \n",
    "Depending on the behavior policy ($\\epsilon$-greedy or Boltzmann), we have around 5-8 parameters to tune (alpha, gamma, random action rate, random action decay rate, temperature, scaling factor, ...) "
   ]
  },
  {
   "cell_type": "code",
   "execution_count": 13,
   "metadata": {
    "collapsed": false
   },
   "outputs": [],
   "source": [
    "from hyperopt import hp, fmin, tpe, hp, STATUS_OK, Trials\n",
    "import datetime\n",
    "\n",
    "best_score = np.inf\n",
    "\n",
    "def score_Q_zero_boltzmann(params):\n",
    "    \n",
    "    global best_score    \n",
    "    \n",
    "    num_iteration = 3\n",
    "    \n",
    "    loss_vector = []\n",
    "    \n",
    "    for i in xrange(num_iteration):\n",
    "        \n",
    "        learner = QLearner_zero(servo_num_states = 7,\n",
    "               num_actions=4,\n",
    "               alpha=float(params['alpha']),\n",
    "               gamma=float(params['gamma']),\n",
    "               random_action_rate=1,#float(params['random_action_rate']),\n",
    "               random_action_decay_rate=1,#float(params['random_action_decay_rate']),\n",
    "               warm_up_period=1,#int(params['warm_up_period']),\n",
    "               action_penalty=50,\n",
    "               initial_state=24,\n",
    "               scaling_point = int(params['scaling_point']),\n",
    "               scaling_factor = float(params['scaling_factor']),\n",
    "               T = float(params['T']),\n",
    "               policy = 'boltzmann') \n",
    "        \n",
    "        temp_loss = - get_final_reward(learner, ideal_reward_table, training_iteration = 50000) # negative because we want to minimize loss\n",
    "        loss_vector.append(temp_loss)\n",
    "        \n",
    "    loss = np.mean(loss_vector)\n",
    "    \n",
    "    if loss < best_score: \n",
    "        print \"Searching...\", \n",
    "        print \"New best score: {0:.6f}\".format(-loss), \n",
    "        print params \n",
    "        print datetime.datetime.now().time()\n",
    "        print\n",
    "        best_score = loss\n",
    "\n",
    "    return {'loss': loss, 'status': STATUS_OK}\n",
    "    \n",
    "def optimize_Q_zero_boltzmann(trials):\n",
    "        \n",
    "    space = {\n",
    "             'alpha': hp.uniform('alpha', 0.1, 1),\n",
    "             'gamma': hp.uniform('gamma', 0.1, 1),\n",
    "             'scaling_point': hp.choice('scaling_point', np.arange(5,300, 5)),\n",
    "             'scaling_factor': hp.uniform('scaling_factor', 1., 2.),\n",
    "             'T': hp.uniform('T', 0.1, 10)\n",
    "            }\n",
    "\n",
    "    best = fmin(score_Q_zero_boltzmann, space, algo=tpe.suggest, trials=trials, max_evals=150)\n",
    "\n",
    "    print '------------------------' \n",
    "    print \"Done.\"\n",
    "    print \"Best parameter setting:\", best\n",
    "    return best"
   ]
  },
  {
   "cell_type": "code",
   "execution_count": 14,
   "metadata": {
    "collapsed": false
   },
   "outputs": [],
   "source": [
    "from hyperopt import hp, fmin, tpe, hp, STATUS_OK, Trials\n",
    "import datetime\n",
    "\n",
    "best_score = np.inf\n",
    "\n",
    "def score_Q_zero_greedy(params):\n",
    "    \n",
    "    global best_score    \n",
    "    \n",
    "    num_iteration = 3\n",
    "    \n",
    "    loss_vector = []\n",
    "    \n",
    "    for i in xrange(num_iteration):\n",
    "        \n",
    "        learner = QLearner_zero(servo_num_states = 7,\n",
    "                               num_actions=4,\n",
    "                               alpha=float(params['alpha']),\n",
    "                               gamma=float(params['gamma']),\n",
    "                               random_action_rate=float(params['random_action_rate']),\n",
    "                               random_action_decay_rate=float(params['random_action_decay_rate']),\n",
    "                               warm_up_period=int(params['warm_up_period']),\n",
    "                               action_penalty=50,\n",
    "                               initial_state=24,\n",
    "                               scaling_point = int(params['scaling_point']),\n",
    "                               scaling_factor = float(params['scaling_factor']),\n",
    "                               T =1,\n",
    "                               policy = 'greedy') \n",
    "        \n",
    "\n",
    "        temp_loss = - get_final_reward(learner, ideal_reward_table, training_iteration = 50000) # negative because we want to minimize loss\n",
    "        loss_vector.append(temp_loss)\n",
    "        \n",
    "    loss = np.mean(loss_vector)\n",
    "    \n",
    "    if loss < best_score: \n",
    "        print \"Searching...\", \n",
    "        print \"New best score: {0:.6f}\".format(-loss), \n",
    "        print params \n",
    "        print datetime.datetime.now().time()\n",
    "        print\n",
    "        best_score = loss\n",
    "\n",
    "    return {'loss': loss, 'status': STATUS_OK}\n",
    "    \n",
    "def optimize_Q_zero_greedy(trials):\n",
    "        \n",
    "    space = {\n",
    "             'alpha': hp.uniform('alpha', 0.1, 1),\n",
    "             'gamma': hp.uniform('gamma', 0.1, 1),\n",
    "             'random_action_rate': hp.uniform('random_action_rate', 0.8,1), \n",
    "             'random_action_decay_rate': hp.uniform('random_action_decay_rate', 0.1, 1),\n",
    "             'warm_up_period': hp.choice('warm_up_period', np.arange(0, 300,25)),\n",
    "             'scaling_point': hp.choice('scaling_point', np.arange(5, 250, 5)),\n",
    "             'scaling_factor': hp.uniform('scaling_factor', 1., 2.),\n",
    "            }\n",
    "\n",
    "    best = fmin(score_Q_zero_greedy, space, algo=tpe.suggest, trials=trials, max_evals=150)\n",
    "\n",
    "    print '------------------------' \n",
    "    print \"Done.\"\n",
    "    print \"Best parameter setting:\", best\n",
    "    return best"
   ]
  },
  {
   "cell_type": "code",
   "execution_count": 15,
   "metadata": {
    "collapsed": false,
    "scrolled": false
   },
   "outputs": [
    {
     "name": "stdout",
     "output_type": "stream",
     "text": [
      "Searching... New best score: -54.983740 {'warm_up_period': 50, 'random_action_decay_rate': 0.33518678817539516, 'scaling_factor': 1.0534977711841584, 'alpha': 0.9661455251788577, 'scaling_point': 110, 'gamma': 0.6912286690925842, 'random_action_rate': 0.8629831546562271}\n",
      "11:32:12.970574\n",
      "\n",
      "Searching... New best score: -53.989513 {'warm_up_period': 0, 'random_action_decay_rate': 0.27207745728530053, 'scaling_factor': 1.1086361558747713, 'alpha': 0.6869057812762359, 'scaling_point': 130, 'gamma': 0.6265334609114307, 'random_action_rate': 0.8497945262441063}\n",
      "11:32:18.471589\n",
      "\n",
      "Searching... New best score: -37.014907 {'warm_up_period': 150, 'random_action_decay_rate': 0.3831614344937051, 'scaling_factor': 1.1491802093407208, 'alpha': 0.21888480145596825, 'scaling_point': 150, 'gamma': 0.9348256672128448, 'random_action_rate': 0.888170720927459}\n",
      "11:32:22.072040\n",
      "\n",
      "Searching... New best score: -31.791087 {'warm_up_period': 50, 'random_action_decay_rate': 0.24509662544899605, 'scaling_factor': 1.4478882034221254, 'alpha': 0.752623743648082, 'scaling_point': 210, 'gamma': 0.951833601330456, 'random_action_rate': 0.9064248127193241}\n",
      "11:33:38.063690\n",
      "\n",
      "Searching... New best score: -30.073007 {'warm_up_period': 50, 'random_action_decay_rate': 0.22951340684174254, 'scaling_factor': 1.1953597585196845, 'alpha': 0.9934667179018308, 'scaling_point': 175, 'gamma': 0.9644575876889343, 'random_action_rate': 0.8717392508093752}\n",
      "11:33:39.948996\n",
      "\n",
      "------------------------\n",
      "Done.\n",
      "Best parameter setting: {'warm_up_period': 2, 'scaling_factor': 1.1953597585196845, 'random_action_decay_rate': 0.22951340684174254, 'random_action_rate': 0.8717392508093752, 'alpha': 0.9934667179018308, 'scaling_point': 34, 'gamma': 0.9644575876889343}\n",
      "CPU times: user 4min 36s, sys: 1.42 s, total: 4min 37s\n",
      "Wall time: 4min 39s\n"
     ]
    }
   ],
   "source": [
    "%%time\n",
    "\n",
    "#Trials object where the history of search will be stored\n",
    "trials_greedy = Trials()\n",
    "\n",
    "best_params_greedy = optimize_Q_zero_greedy(trials_greedy)"
   ]
  },
  {
   "cell_type": "code",
   "execution_count": 16,
   "metadata": {
    "collapsed": false,
    "scrolled": false
   },
   "outputs": [
    {
     "name": "stdout",
     "output_type": "stream",
     "text": [
      "Searching... New best score: -28.246167 {'scaling_factor': 1.0013799574336468, 'alpha': 0.7858087932521516, 'scaling_point': 10, 'gamma': 0.9842733060978685, 'T': 4.14318362111746}\n",
      "11:40:40.780605\n",
      "\n",
      "Searching... New best score: -27.126533 {'scaling_factor': 1.1430998660930012, 'alpha': 0.9015677289527378, 'scaling_point': 200, 'gamma': 0.9630982242078951, 'T': 0.9460769353403498}\n",
      "11:46:01.148530\n",
      "\n",
      "Searching... New best score: -26.125553 {'scaling_factor': 1.0898388892246555, 'alpha': 0.9193406864019542, 'scaling_point': 105, 'gamma': 0.9788815772133558, 'T': 3.754564673164202}\n",
      "11:49:00.436509\n",
      "\n",
      "------------------------\n",
      "Done.\n",
      "Best parameter setting: {'scaling_factor': 1.0898388892246555, 'alpha': 0.9193406864019542, 'scaling_point': 20, 'gamma': 0.9788815772133558, 'T': 3.754564673164202}\n",
      "CPU times: user 25min 56s, sys: 9.02 s, total: 26min 5s\n",
      "Wall time: 26min 13s\n"
     ]
    }
   ],
   "source": [
    "%%time\n",
    "\n",
    "#Trials object where the history of search will be stored\n",
    "trials_boltzmann = Trials()\n",
    "\n",
    "best_params_boltzmann = optimize_Q_zero_boltzmann(trials_boltzmann)"
   ]
  },
  {
   "cell_type": "markdown",
   "metadata": {},
   "source": [
    "### 2. Result\n",
    "\n",
    "\n",
    "After carefully calibrating every details in our algorithm, the simulation begins to converge at the best sequences after around 1500-2000 iterations. This is a huge improvement in comparison with the naive approach in the beginning, when we needed 50000 iterations to reach the same results. \n",
    "    \n",
    "The biggest reason that made the convergence so slow was that at some point, the learning process was stuck in a local minimum, and it took a lot of time for the Q-table to accumulate enough reward to get it out of there."
   ]
  },
  {
   "cell_type": "code",
   "execution_count": 23,
   "metadata": {
    "collapsed": true
   },
   "outputs": [],
   "source": [
    "def test_crawling(policy, params, reward_table, training_iteration = 50000, draw=False, verbalise=False):\n",
    "    \n",
    "    state_vector = np.zeros(49)\n",
    "    action_vector = np.zeros(4)\n",
    "    reward_vector = []\n",
    "    \n",
    "    reward_list = []\n",
    "    mean_reward_list = []\n",
    "    \n",
    "    learner = None\n",
    "    \n",
    "    if policy == 'greedy': \n",
    "        \n",
    "        learner = QLearner_zero(servo_num_states = 7,\n",
    "               num_actions=4,\n",
    "               alpha=float(params['alpha']),\n",
    "               gamma=float(params['gamma']),\n",
    "               random_action_rate=float(params['random_action_rate']),\n",
    "               random_action_decay_rate=float(params['random_action_decay_rate']),\n",
    "               warm_up_period=int(params['warm_up_period']),\n",
    "               action_penalty=50,\n",
    "               initial_state=24,\n",
    "               scaling_point = int(params['scaling_point']),\n",
    "               scaling_factor = float(params['scaling_factor']),\n",
    "               T =1,\n",
    "               policy = 'greedy') \n",
    "        \n",
    "    elif policy == 'boltzmann': \n",
    "        \n",
    "        learner = QLearner_zero(servo_num_states = 7,\n",
    "                   num_actions=4,\n",
    "                   alpha=float(params['alpha']),\n",
    "                   gamma=float(params['gamma']),\n",
    "                   random_action_rate=1,\n",
    "                   random_action_decay_rate=1, \n",
    "                   warm_up_period=1, \n",
    "                   action_penalty=50,\n",
    "                   initial_state=24,\n",
    "                   scaling_point = int(params['scaling_point']),\n",
    "                   scaling_factor = float(params['scaling_factor']),\n",
    "                   T = float(params['T']),\n",
    "                   policy = 'boltzmann') \n",
    "    \n",
    "    for iteration_step in xrange(training_iteration):\n",
    "    \n",
    "        state_vector[learner.state] += 1\n",
    "        action_vector[learner.action] += 1 \n",
    "    \n",
    "        reward = reward_table[learner.state][learner.action] - learner.action_penalty\n",
    "        \n",
    "        reward_list.append(reward)\n",
    "        mean_reward_list.append(np.mean(reward_list))\n",
    "        \n",
    "        \n",
    "        next_state = learner.get_next_state()\n",
    "        learner.move(next_state, reward)\n",
    "        learner.num_iteration += 1 \n",
    "\n",
    "        if learner.num_iteration % learner.scaling_point == 0: \n",
    "            learner.qtable *= learner.scaling_factor\n",
    "\n",
    "        if verbalise: \n",
    "            if iteration_step > training_iteration-30:\n",
    "                print learner.state, \n",
    " \n",
    "    if verbalise: \n",
    "        print \"\\nReward per action: \",np.mean(reward_list)\n",
    "\n",
    "    if draw: \n",
    "        normalize_state_vector = (state_vector/np.sum(state_vector)) * 100.\n",
    "        state_map = pd.DataFrame(normalize_state_vector.reshape(learner.servo_num_states, -1))\n",
    "        sns.heatmap(state_map, linewidths=1, annot=True)\n",
    "        plt.title('State map')\n",
    "    \n",
    "    normalize_action_vector = (action_vector/np.sum(action_vector)) * 100.\n",
    "    \n",
    "    return reward_list, mean_reward_list"
   ]
  },
  {
   "cell_type": "code",
   "execution_count": 42,
   "metadata": {
    "collapsed": false
   },
   "outputs": [
    {
     "name": "stdout",
     "output_type": "stream",
     "text": [
      "10 3 4 11 18 17 10 3 4 11 18 17 10 3 4 11 18 17 10 3 4 11 18 17 10 3 4 11 18 \n",
      "Reward per action:  -354.9875\n"
     ]
    },
    {
     "data": {
      "image/png": "[encoded data removed]",
      "text/plain": [
       "<matplotlib.figure.Figure at 0x11a4fac10>"
      ]
     },
     "metadata": {},
     "output_type": "display_data"
    }
   ],
   "source": [
    "best_params_boltzmann = {'scaling_factor': 1.0898388892246555, \n",
    "                         'alpha': 0.9193406864019542, \n",
    "                         'scaling_point': 105, \n",
    "                         'gamma': 0.9788815772133558, \n",
    "                         'T': 3.754564673164202} # boltzmann \n",
    "\n",
    "reward_list_boltzmann, mean_reward_list_boltzmann = test_crawling(policy = 'boltzmann', \n",
    "                                                                  params = best_params_boltzmann, \n",
    "                                                                  reward_table = ideal_reward_table,\n",
    "                                                                  training_iteration = 2000,\n",
    "                                                                  draw = True,\n",
    "                                                                  verbalise = True)"
   ]
  },
  {
   "cell_type": "markdown",
   "metadata": {},
   "source": [
    "In the following section, we will analyse the effect of some primary parameter for the Q-learning algorithms. "
   ]
  },
  {
   "cell_type": "markdown",
   "metadata": {},
   "source": [
    "### 3. Parameter performance\n",
    "\n",
    "#### 3.1 Greedy vs Boltzmann\n",
    "\n",
    "In each mode, we run the optimisation process to find the optimal combination that maximize the mean reward per action after 50000 time steps.\n",
    "        \n",
    "The graph below shows the evolution of this value through time. We notice a sudden drop at the beginning of the learning process which correspond to the exploration phase then the algorithm begins to converge.\n",
    "     "
   ]
  },
  {
   "cell_type": "code",
   "execution_count": 48,
   "metadata": {
    "collapsed": false
   },
   "outputs": [],
   "source": [
    "best_params_boltzmann = {'scaling_factor': 1.0898388892246555, \n",
    "                         'alpha': 0.9193406864019542, \n",
    "                         'scaling_point': 105, \n",
    "                         'gamma': 0.9788815772133558, \n",
    "                         'T': 3.754564673164202} # boltzmann \n",
    "\n",
    "\n",
    "best_params_greedy = {'warm_up_period': 75, \n",
    "                      'random_action_decay_rate': 0.6525737816885049, \n",
    "                      'scaling_factor': 1.0396254591439154, \n",
    "                      'alpha': 0.9909711092745332, \n",
    "                      'scaling_point': 150, \n",
    "                      'gamma': 0.9775990295203298, \n",
    "                      'random_action_rate': 0.8786583854998927} # lambda-greedy\n",
    "\n",
    "\n",
    "\n",
    "reward_list_boltzmann, mean_reward_list_boltzmann = test_crawling(policy = 'boltzmann', \n",
    "                                                                  params = best_params_boltzmann,\n",
    "                                                                  training_iteration = 10000,\n",
    "                                                                  reward_table = ideal_reward_table)\n",
    "\n",
    "reward_list_greedy, mean_reward_list_greedy = test_crawling(policy = 'greedy',\n",
    "                                                            params = best_params_greedy, \n",
    "                                                            training_iteration = 10000,\n",
    "                                                            reward_table = ideal_reward_table)"
   ]
  },
  {
   "cell_type": "code",
   "execution_count": 49,
   "metadata": {
    "collapsed": false
   },
   "outputs": [
    {
     "data": {
      "text/html": [
       "<div>\n",
       "<table border=\"1\" class=\"dataframe\">\n",
       "  <thead>\n",
       "    <tr style=\"text-align: right;\">\n",
       "      <th></th>\n",
       "      <th>boltzmann</th>\n",
       "      <th>greedy</th>\n",
       "    </tr>\n",
       "  </thead>\n",
       "  <tbody>\n",
       "    <tr>\n",
       "      <th>0</th>\n",
       "      <td>-50.0</td>\n",
       "      <td>-50.0</td>\n",
       "    </tr>\n",
       "    <tr>\n",
       "      <th>1</th>\n",
       "      <td>-48.5</td>\n",
       "      <td>-50.0</td>\n",
       "    </tr>\n",
       "    <tr>\n",
       "      <th>2</th>\n",
       "      <td>-49.0</td>\n",
       "      <td>-50.0</td>\n",
       "    </tr>\n",
       "    <tr>\n",
       "      <th>3</th>\n",
       "      <td>-50.5</td>\n",
       "      <td>-50.0</td>\n",
       "    </tr>\n",
       "    <tr>\n",
       "      <th>4</th>\n",
       "      <td>-50.4</td>\n",
       "      <td>-50.0</td>\n",
       "    </tr>\n",
       "  </tbody>\n",
       "</table>\n",
       "</div>"
      ],
      "text/plain": [
       "   boltzmann  greedy\n",
       "0      -50.0   -50.0\n",
       "1      -48.5   -50.0\n",
       "2      -49.0   -50.0\n",
       "3      -50.5   -50.0\n",
       "4      -50.4   -50.0"
      ]
     },
     "execution_count": 49,
     "metadata": {},
     "output_type": "execute_result"
    }
   ],
   "source": [
    "df_policy = pd.DataFrame({'greedy': mean_reward_list_greedy,\n",
    "                          'boltzmann': mean_reward_list_boltzmann})\n",
    "df_policy.head()"
   ]
  },
  {
   "cell_type": "code",
   "execution_count": 50,
   "metadata": {
    "collapsed": false
   },
   "outputs": [
    {
     "data": {
      "image/png": "[encoded data removed]",
      "text/plain": [
       "<matplotlib.figure.Figure at 0x1198c1250>"
      ]
     },
     "metadata": {},
     "output_type": "display_data"
    }
   ],
   "source": [
    "plt.plot(np.arange(len(mean_reward_list_greedy)), mean_reward_list_greedy, label='greedy')\n",
    "plt.plot(np.arange(len(mean_reward_list_boltzmann)), mean_reward_list_boltzmann, label='boltzmann')\n",
    "plt.legend(loc=2)\n",
    "plt.title('$\\epsilon$-greedy policy vs Boltzmann policy')\n",
    "plt.xlabel('Time step')\n",
    "plt.ylabel('Mean reward per action')\n",
    "plt.show()"
   ]
  },
  {
   "cell_type": "markdown",
   "metadata": {},
   "source": [
    "Boltzmann selection seems to be a better option here as its convergence speed is significantly higher than that of the $\\epsilon$-greedy method.\n",
    "        \n",
    "For that reason, the experiments in the following sections are all made with agent using the Boltzmann policy."
   ]
  },
  {
   "cell_type": "markdown",
   "metadata": {},
   "source": [
    "#### 3.2 Gamma  \n",
    "\n",
    "As we already know, Gamma $\\gamma$ is a parameter that define the \"patience\", or \"vision\" of our robot. If $\\gamma$ is closer to 0, the agent will tend to consider only immediate rewards.  If $\\gamma$ is closer to 1, the agent will consider future rewards with greater weight, willing to delay the reward.    \n",
    "        \n",
    "In our case, the ideal $\\gamma$ is 0.987, so we will examine the interval around this value, from 0.9 to 1 with a step size of 0.002."
   ]
  },
  {
   "cell_type": "code",
   "execution_count": 53,
   "metadata": {
    "collapsed": false
   },
   "outputs": [],
   "source": [
    "def test_crawling_param_gamma(policy, params, gamma_list, reward_table, training_iteration = 50000):\n",
    "    \n",
    "    state_vector = np.zeros(49)\n",
    "    action_vector = np.zeros(4)\n",
    "    reward_vector = []\n",
    "    \n",
    "    reward_list = []\n",
    "    \n",
    "    learner = None\n",
    "    \n",
    "    for gamma in gamma_list:\n",
    "        \n",
    "        temp_reward = []\n",
    "    \n",
    "        if policy == 'greedy': \n",
    "\n",
    "            learner = QLearner_zero(servo_num_states = 7,\n",
    "                   num_actions=4,\n",
    "                   alpha=float(params['alpha']),\n",
    "                   gamma=gamma,\n",
    "                   random_action_rate=float(params['random_action_rate']),\n",
    "                   random_action_decay_rate=float(params['random_action_decay_rate']),\n",
    "                   warm_up_period=int(params['warm_up_period']),\n",
    "                   action_penalty=50,\n",
    "                   initial_state=24,\n",
    "                   scaling_point = int(params['scaling_point']),\n",
    "                   scaling_factor = float(params['scaling_factor']),\n",
    "                   T =1,\n",
    "                   policy = 'greedy') \n",
    "\n",
    "        elif policy == 'boltzmann': \n",
    "\n",
    "            learner = QLearner_zero(servo_num_states = 7,\n",
    "                       num_actions=4,\n",
    "                       alpha=float(params['alpha']),\n",
    "                       gamma=gamma,\n",
    "                       random_action_rate=1,\n",
    "                       random_action_decay_rate=1,\n",
    "                       warm_up_period=1,\n",
    "                       action_penalty=50,\n",
    "                       initial_state=24,\n",
    "                       scaling_point = int(params['scaling_point']),\n",
    "                       scaling_factor = float(params['scaling_factor']),\n",
    "                       T = float(params['T']),\n",
    "                       policy = 'boltzmann') \n",
    "\n",
    "        for iteration_step in xrange(training_iteration):\n",
    "\n",
    "            state_vector[learner.state] += 1\n",
    "            action_vector[learner.action] += 1 \n",
    "\n",
    "            reward = reward_table[learner.state][learner.action] - learner.action_penalty\n",
    "\n",
    "            temp_reward.append(reward)\n",
    "\n",
    "            next_state = learner.get_next_state()\n",
    "            learner.move(next_state, reward)\n",
    "            learner.num_iteration += 1 \n",
    "\n",
    "            if learner.num_iteration % learner.scaling_point == 0: \n",
    "                learner.qtable *= learner.scaling_factor\n",
    "\n",
    "        reward_list.append(np.mean(temp_reward))\n",
    "\n",
    "    \n",
    "    return reward_list\n",
    "\n",
    "\n",
    "\n",
    "best_params_boltzmann = {'scaling_factor': 1.2060122582747672, \n",
    "                         'alpha': 0.8035644279155065, \n",
    "                         'scaling_point': 235, \n",
    "                         'gamma': 0.9877568274011427, \n",
    "                         'T': 3.656564591173974} # boltzmann\n",
    "\n",
    "\n",
    "gamma_list = np.arange(0.9,1.002,0.002)\n",
    "\n",
    "reward_list_gamma = test_crawling_param_gamma(policy = 'boltzmann', \n",
    "                                              params = best_params_boltzmann, \n",
    "                                              gamma_list = gamma_list,\n",
    "                                              reward_table = ideal_reward_table)\n"
   ]
  },
  {
   "cell_type": "code",
   "execution_count": 54,
   "metadata": {
    "collapsed": false,
    "scrolled": false
   },
   "outputs": [
    {
     "name": "stderr",
     "output_type": "stream",
     "text": [
      "/Users/admin/anaconda/lib/python2.7/site-packages/matplotlib/axes/_axes.py:531: UserWarning: No labelled objects found. Use label='...' kwarg on individual plots.\n",
      "  warnings.warn(\"No labelled objects found. \"\n"
     ]
    },
    {
     "data": {
      "image/png": "[encoded data removed]",
      "text/plain": [
       "<matplotlib.figure.Figure at 0x1192fd210>"
      ]
     },
     "metadata": {},
     "output_type": "display_data"
    }
   ],
   "source": [
    "plt.plot(np.arange(0.9,1.002,0.002), reward_list_gamma)\n",
    "plt.legend(loc=2)\n",
    "plt.title('Mean reward per action vs Gamma')\n",
    "plt.xlabel('Gamma')\n",
    "plt.ylabel('Mean reward per action')\n",
    "plt.show()"
   ]
  },
  {
   "cell_type": "markdown",
   "metadata": {},
   "source": [
    "We observe that there is a small stable interval (from 0.958 to 0.996) in which the agent was able to converge to the best solution. "
   ]
  },
  {
   "cell_type": "markdown",
   "metadata": {},
   "source": [
    "#### 3.3 Alpha\n",
    "\n",
    "Alpha $\\alpha$ in the algorithm is a learning rate that controls how much of the difference between previous Q-value and newly proposed Q-value is taken into account. \n",
    "        \n",
    "As before, we examine the interval surrounding the best $\\alpha$ (0.919): "
   ]
  },
  {
   "cell_type": "code",
   "execution_count": 57,
   "metadata": {
    "collapsed": false
   },
   "outputs": [],
   "source": [
    "def test_crawling_param_alpha(policy, params, alpha_list, reward_table, training_iteration = 50000):\n",
    "    \n",
    "    state_vector = np.zeros(49)\n",
    "    action_vector = np.zeros(4)\n",
    "    reward_vector = []\n",
    "    \n",
    "    reward_list = []\n",
    "    \n",
    "    learner = None\n",
    "    \n",
    "    for alpha in alpha_list:\n",
    "        \n",
    "        temp_reward = []\n",
    "    \n",
    "        if policy == 'greedy': \n",
    "\n",
    "            learner = QLearner_zero(servo_num_states = 7,\n",
    "                   num_actions=4,\n",
    "                   alpha=alpha,\n",
    "                   gamma=float(params['gamma']),\n",
    "                   random_action_rate=float(params['random_action_rate']),\n",
    "                   random_action_decay_rate=float(params['random_action_decay_rate']),\n",
    "                   warm_up_period=int(params['warm_up_period']),\n",
    "                   action_penalty=50,\n",
    "                   initial_state=24,\n",
    "                   scaling_point = int(params['scaling_point']),\n",
    "                   scaling_factor = float(params['scaling_factor']),\n",
    "                   T =1,\n",
    "                   policy = 'greedy') \n",
    "\n",
    "        elif policy == 'boltzmann': \n",
    "\n",
    "            learner = QLearner_zero(servo_num_states = 7,\n",
    "                       num_actions=4,\n",
    "                       alpha=alpha,\n",
    "                       gamma=float(params['alpha']),\n",
    "                       random_action_rate=1,\n",
    "                       random_action_decay_rate=1,\n",
    "                       warm_up_period=1,\n",
    "                       action_penalty=50,\n",
    "                       initial_state=24,\n",
    "                       scaling_point = int(params['scaling_point']),\n",
    "                       scaling_factor = float(params['scaling_factor']),\n",
    "                       T = float(params['T']),\n",
    "                       policy = 'boltzmann') \n",
    "\n",
    "        for iteration_step in xrange(training_iteration):\n",
    "\n",
    "            state_vector[learner.state] += 1\n",
    "            action_vector[learner.action] += 1 \n",
    "\n",
    "            reward = reward_table[learner.state][learner.action] - learner.action_penalty\n",
    "\n",
    "            temp_reward.append(reward)\n",
    "\n",
    "            next_state = learner.get_next_state()\n",
    "            learner.move(next_state, reward)\n",
    "            learner.num_iteration += 1 \n",
    "\n",
    "            if learner.num_iteration % learner.scaling_point == 0: \n",
    "                learner.qtable *= learner.scaling_factor\n",
    "\n",
    "        reward_list.append(np.mean(temp_reward))\n",
    "\n",
    "    \n",
    "    return reward_list\n",
    "\n",
    "\n",
    "\n",
    "best_params_boltzmann = {'scaling_factor': 1.2060122582747672, \n",
    "                         'alpha': 0.8035644279155065, \n",
    "                         'scaling_point': 235, \n",
    "                         'gamma': 0.9877568274011427, \n",
    "                         'T': 3.656564591173974} # boltzmann\n",
    "\n",
    "\n",
    "alpha_list = np.arange(0.85, 1.005,0.004)\n",
    "\n",
    "reward_list_alpha = test_crawling_param_alpha(policy = 'boltzmann', \n",
    "                                              params = best_params_boltzmann, \n",
    "                                              alpha_list = alpha_list,\n",
    "                                              reward_table = ideal_reward_table)\n"
   ]
  },
  {
   "cell_type": "code",
   "execution_count": 59,
   "metadata": {
    "collapsed": false
   },
   "outputs": [
    {
     "data": {
      "image/png": "[encoded data removed]",
      "text/plain": [
       "<matplotlib.figure.Figure at 0x119278650>"
      ]
     },
     "metadata": {},
     "output_type": "display_data"
    }
   ],
   "source": [
    "plt.plot(np.arange(0.85, 1.005,0.004), reward_list_alpha)\n",
    "plt.legend(loc=2)\n",
    "plt.title('Mean reward per action vs Alpha')\n",
    "plt.xlabel('Alpha')\n",
    "plt.ylabel('Mean reward per action')\n",
    "plt.show()"
   ]
  },
  {
   "cell_type": "markdown",
   "metadata": {},
   "source": [
    "In contrast to $\\gamma$, here with $\\alpha$ it does not seem to have any stable interval, the fluctuation is quite random and noisy."
   ]
  },
  {
   "cell_type": "markdown",
   "metadata": {},
   "source": [
    "***"
   ]
  },
  {
   "cell_type": "markdown",
   "metadata": {
    "collapsed": true
   },
   "source": [
    "## Eligiblity traces <a id='5'></a>"
   ]
  },
  {
   "cell_type": "markdown",
   "metadata": {},
   "source": [
    "### 1. Overview\n",
    "\n",
    "In Q-learning, the update in each time step is based on just the one next reward, using the values of the state one step later as a proxy for the remaining rewards. Monte Carlo, on the other hand, use an entire sequence of observed rewards from that state to the final state. It turns out that these 2 techniques are the 2 extremity of a more general family Temporal Difference method called $TD(\\lambda)$ (Q-learning is $TD(0)$ and Monte Carlo is, as you can guess, $TD(1)$).\n",
    "\n",
    "<img src=\"img/TD_lambda.png\" width=\"450\" height=\"450\" />\n",
    "(The spectrum ranging from the one-step backups of simple TD methods to the up-until-termination backups of Monte Carlo methods. In between are the n-step back- ups, based on n steps of real rewards and the estimated value of the nth next state, all appropriately discounted. Source: *Reinforcement Learning - An Introduction*.)\n",
    "\n",
    "This techniques allows us to update multiple states-actions that lead to the current reward, and thus accelerate the learning process."
   ]
  },
  {
   "cell_type": "markdown",
   "metadata": {},
   "source": [
    "### 2. TD($\\lambda$) and naive Q($\\lambda$)\n",
    "\n",
    "For each state-action pair, a new value, the \\textit{\\textbf{eligibility trace}} is stored. This value increases whenever the state-action pair is seen, and decrements slowly at every other time step. The eligibility trace determines to what extend the state-action value is updated: states with high eligibility traces tend more towards the new information, whereas states with lower eligibility traces hardly change at all.\n",
    "<img src=\"img/traces.png\" width=\"600\" height=\"600\" />\n",
    "(The three different kinds of traces. Accumulating traces add up each time a state is visited, whereas replacing traces are reset to one, and dutch traces do something in-between. Source: *Reinforcement Learning - An Introduction*.)\n",
    "\n",
    " The first version of eligibility traces Q-learning was also proposed by Chris Watkins, the father of Q-learning. One problem with Q-learning is that it has 2 policies, and we want to keep track of the target policy. In Watkin's approach, the traces will be reset whenever it chooses a random action instead of the greedy one. \n",
    " <img src=\"img/watkin.png\" width=\"600\" height=\"600\" />\n",
    "(Source: *Reinforcement Learning - An Introduction*.)\n",
    "\n",
    "However, cutting of traces every time an exploratory action is taken loses much of the advantage of using eligibility traces. If exploratory actions are frequent, as they often are early in learning, then only one or two steps are backup. \n",
    "    \n",
    "McGovern and Sutton proposed an \"naive\" approach where instead of reset the traces, they also backup the exploratory actions. This approach seems to work well in preliminary empirical studies. \n",
    "    \n",
    "In practice, the implementation of $TD(\\lambda)$ has 1 issue: TD($\\lambda$) is much more computational costly than the plain-vanilla Q-learning because at each time step we will update all the state-action values with their respective eligibility traces. One way to reduce computing time is to keep track of and update only the few states with nonzero traces. \n",
    "    \n",
    "On the theoretical side, none of the methods are proven to converge."
   ]
  },
  {
   "cell_type": "markdown",
   "metadata": {},
   "source": [
    "### 3. Implementation and Result"
   ]
  },
  {
   "cell_type": "code",
   "execution_count": 60,
   "metadata": {
    "collapsed": false
   },
   "outputs": [],
   "source": [
    "class QLearner_lambda(object):\n",
    "    def __init__(self, \n",
    "                 servo_num_states, \n",
    "                 num_actions, \n",
    "                 alpha, \n",
    "                 gamma, \n",
    "                 random_action_rate,\n",
    "                 random_action_decay_rate, \n",
    "                 warm_up_period, \n",
    "                 action_penalty,\n",
    "                 initial_state,\n",
    "                 scaling_point, \n",
    "                 scaling_factor,\n",
    "                 eligibility_lambda,\n",
    "                 policy,\n",
    "                 T):\n",
    "        \n",
    "        self.servo_num_states = servo_num_states\n",
    "        self.num_states = servo_num_states**2\n",
    "        self.num_actions = num_actions\n",
    "        self.alpha = alpha\n",
    "        self.gamma = gamma\n",
    "        self.random_action_rate = random_action_rate\n",
    "        self.random_action_decay_rate = random_action_decay_rate\n",
    "        self.warm_up_period = warm_up_period\n",
    "        self.state = initial_state\n",
    "        self.action = 0\n",
    "        self.action_penalty = action_penalty\n",
    "        self.qtable = np.zeros((self.num_states, self.num_actions))\n",
    "        self.num_iteration = 0\n",
    "        self.last_reward = 0\n",
    "        self.scaling_point = scaling_point\n",
    "        self.scaling_factor = scaling_factor\n",
    "        self.traces_table = np.zeros((self.num_states, self.num_actions))\n",
    "        self.eligibility_lambda = eligibility_lambda\n",
    "        self.T = T \n",
    "        self.policy = policy\n",
    "        \n",
    "        \n",
    "    def get_next_state(self):\n",
    "        \n",
    "        next_state = None\n",
    "        \n",
    "        if (self.action == 0 and action_is_allowed(self, self.state, self.action)): \n",
    "            next_state = self.state + self.servo_num_states\n",
    "        elif (self.action == 1 and action_is_allowed(self, self.state, self.action)):\n",
    "            next_state = self.state - self.servo_num_states\n",
    "        elif (self.action == 2 and action_is_allowed(self, self.state, self.action)):\n",
    "            next_state = self.state + 1\n",
    "        elif (self.action == 3 and action_is_allowed(self, self.state, self.action)):\n",
    "            next_state = self.state - 1 \n",
    "        else:\n",
    "            next_state = self.state;\n",
    "            \n",
    "        return next_state\n",
    "        \n",
    "    def move(self, state_prime, reward):\n",
    "        \"\"\"\n",
    "        @summary: Moves to the given state with given reward and returns action\n",
    "        @param state_prime: The new state\n",
    "        @param reward: The reward\n",
    "        @returns: The selected action\n",
    "        \"\"\"\n",
    "        alpha = self.alpha\n",
    "        gamma = self.gamma\n",
    "        eligibility_lambda = self.eligibility_lambda\n",
    "        state = self.state\n",
    "        action = self.action\n",
    "        qtable = self.qtable\n",
    "        traces_table = self.traces_table\n",
    "        \n",
    "            \n",
    "        greedy_action = self.qtable[state_prime].argsort()[-1]\n",
    "        \n",
    "        action_prime = greedy_action\n",
    "        \n",
    "        if self.policy == 'greedy': \n",
    "        \n",
    "            choose_random_action = (1 - self.random_action_rate) <= np.random.uniform(0, 1)\n",
    "\n",
    "            if choose_random_action:\n",
    "                while action_prime == greedy_action: \n",
    "                    action_prime = np.random.randint(0, self.num_actions)\n",
    "            \n",
    "            else:\n",
    "                action_prime = greedy_action # this is redundant, but we still left it here to be clear\n",
    "                \n",
    "            if self.num_iteration > self.warm_up_period: # warm up period is over\n",
    "                self.random_action_rate *= self.random_action_decay_rate\n",
    "        \n",
    "        elif self.policy == 'boltzmann': \n",
    "            \n",
    "            action_proba_vector = Boltzmann_selection(self, state_prime)\n",
    "        \n",
    "            action_prime = np.random.choice(a=4, p=action_proba_vector)\n",
    "\n",
    "            \n",
    "        theta = reward + gamma * qtable[state_prime, greedy_action] - qtable[state, action]\n",
    "        traces_table[state, action] = 1 \n",
    "        \n",
    "        for s in xrange(self.num_states):\n",
    "            for a in xrange(self.num_actions):\n",
    "                if traces_table[s,a] != 0:\n",
    "                    qtable[s, a] = qtable[state, action] + alpha * theta * traces_table[s, a]\n",
    "                    traces_table[s, a] = gamma * eligibility_lambda * traces_table[s, a]\n",
    "\n",
    "        self.state = state_prime\n",
    "        self.action = action_prime    \n",
    "        self.qtable = qtable\n",
    "        self.traces_table = traces_table"
   ]
  },
  {
   "cell_type": "code",
   "execution_count": 61,
   "metadata": {
    "collapsed": false
   },
   "outputs": [],
   "source": [
    "from hyperopt import hp, fmin, tpe, hp, STATUS_OK, Trials\n",
    "import datetime\n",
    "\n",
    "best_score = np.inf\n",
    "\n",
    "def score_Q_lambda(params):\n",
    "    \n",
    "    global best_score    \n",
    "    \n",
    "    num_iteration = 3\n",
    "    \n",
    "    loss_vector = []\n",
    "    \n",
    "    for i in xrange(num_iteration):\n",
    "    \n",
    "        learner = QLearner_lambda(servo_num_states = 7,\n",
    "                               num_actions=4,\n",
    "                               alpha=float(params['alpha']),\n",
    "                               gamma=float(params['gamma']),\n",
    "                               random_action_rate=1,\n",
    "                               random_action_decay_rate=1,\n",
    "                               warm_up_period=1,\n",
    "                               action_penalty=50,\n",
    "                               initial_state=24,\n",
    "                               scaling_point = int(params['scaling_point']),\n",
    "                               scaling_factor = float(params['scaling_factor']),\n",
    "                               eligibility_lambda = float(params['eligibility_lambda']),\n",
    "                               policy = 'boltzmann', \n",
    "                               T = float(params['T']))\n",
    "    \n",
    "        \n",
    "        temp_loss = - get_final_reward(learner, reward_table, training_iteration = 50000) # negative because we want to minimize loss\n",
    "        loss_vector.append(temp_loss)\n",
    "        \n",
    "    loss = np.mean(loss_vector)\n",
    "    \n",
    "    if loss < best_score: \n",
    "        print \"Searching...\", \n",
    "        print \"New best score: {0:.6f}\".format(-loss), \n",
    "        print params \n",
    "        print datetime.datetime.now().time()\n",
    "        print\n",
    "        best_score = loss\n",
    "\n",
    "    return {'loss': loss, 'status': STATUS_OK}\n",
    "    \n",
    "def optimize_Q_lambda(trials):\n",
    "        \n",
    "    space = {\n",
    "             'alpha': hp.uniform('alpha', 0.1, 1),\n",
    "             'gamma': hp.uniform('gamma', 0.1, 1),\n",
    "             'scaling_point': hp.choice('scaling_point', np.arange(5,300, 5)),\n",
    "             'scaling_factor': hp.uniform('scaling_factor', 1., 2.),\n",
    "             'eligibility_lambda': hp.choice('eligibility_lambda', np.arange(0.1,1,0.05)),\n",
    "             'T': hp.choice('T', np.arange(0.1, 10, 0.1))\n",
    "            }\n",
    "\n",
    "    best = fmin(score_Q_lambda, space, algo=tpe.suggest, trials=trials, max_evals=150)\n",
    "\n",
    "    print '------------------------' \n",
    "    print \"Done.\"\n",
    "    print \"Best parameter setting:\", best\n",
    "    return best"
   ]
  },
  {
   "cell_type": "code",
   "execution_count": null,
   "metadata": {
    "collapsed": false
   },
   "outputs": [],
   "source": [
    "%%time\n",
    "\n",
    "#Trials object where the history of search will be stored\n",
    "trials_lambda = Trials()\n",
    "\n",
    "best_params_lambda = optimize_Q_lambda(trials_lambda)"
   ]
  },
  {
   "cell_type": "code",
   "execution_count": 67,
   "metadata": {
    "collapsed": false
   },
   "outputs": [
    {
     "name": "stdout",
     "output_type": "stream",
     "text": [
      "0 1 0 1 0 7 14 15 16 17 10 3 4 3 4 3 2 1 8 9 10 3 2 1 0 1 0 7 14 \n",
      "Reward per action:  -750.90453\n"
     ]
    },
    {
     "data": {
      "image/png": "[encoded data removed]",
      "text/plain": [
       "<matplotlib.figure.Figure at 0x119d1d610>"
      ]
     },
     "metadata": {},
     "output_type": "display_data"
    }
   ],
   "source": [
    "def test_crawling_Q_lambda(params, reward_table, training_iteration = 100000):\n",
    "    \n",
    "    state_vector = np.zeros(49)\n",
    "    action_vector = np.zeros(4)\n",
    "    reward_vector = []\n",
    "    \n",
    "    temp_reward = []\n",
    "\n",
    "    learner = QLearner_lambda(servo_num_states = 7,\n",
    "                               num_actions=4,\n",
    "                               alpha=float(params['alpha']),\n",
    "                               gamma=float(params['gamma']),\n",
    "                               random_action_rate=1,\n",
    "                               random_action_decay_rate=1,\n",
    "                               warm_up_period=1,\n",
    "                               action_penalty=50,\n",
    "                               initial_state=24,\n",
    "                               scaling_point = int(params['scaling_point']),\n",
    "                               scaling_factor = float(params['scaling_factor']),\n",
    "                               eligibility_lambda = float(params['eligibility_lambda']),\n",
    "                               policy = 'boltzmann', \n",
    "                               T = float(params['T']))\n",
    "\n",
    "        \n",
    "    for iteration_step in xrange(training_iteration):\n",
    "    \n",
    "        state_vector[learner.state] += 1\n",
    "        action_vector[learner.action] += 1 \n",
    "    \n",
    "        reward = reward_table[learner.state][learner.action] - learner.action_penalty\n",
    "        temp_reward.append(reward)\n",
    "\n",
    "        next_state = learner.get_next_state()\n",
    "        learner.move(next_state, reward)\n",
    "        learner.num_iteration += 1 \n",
    "\n",
    "        if learner.num_iteration % learner.scaling_point == 0: \n",
    "            learner.qtable *= learner.scaling_factor\n",
    "\n",
    "        if iteration_step > training_iteration-30:\n",
    "            print learner.state,\n",
    " \n",
    "    \n",
    "    print \"\\nReward per action: \",np.mean(temp_reward)\n",
    "\n",
    "    \n",
    "    normalize_state_vector = (state_vector/np.sum(state_vector)) * 100.\n",
    "    state_map = pd.DataFrame(normalize_state_vector.reshape(learner.servo_num_states, -1))\n",
    "    sns.heatmap(state_map, linewidths=1, annot=True)\n",
    "    plt.title('State map')\n",
    "    \n",
    "    normalize_action_vector = (action_vector/np.sum(action_vector)) * 100.\n",
    "\n",
    "\n",
    "best_params_lambda = {'eligibility_lambda': 0.40000000000000013, \n",
    "                      'T': 1.7000000000000002, \n",
    "                      'alpha': 0.517563113379945, \n",
    "                      'scaling_point': 25, \n",
    "                      'gamma': 0.2755235750455155, \n",
    "                      'scaling_factor': 1.523866043929635}\n",
    " \n",
    "\n",
    "test_crawling_Q_lambda(best_params_lambda, ideal_reward_table)"
   ]
  },
  {
   "cell_type": "markdown",
   "metadata": {
    "collapsed": true
   },
   "source": [
    "Unfortunately, we still cannot get the Naive $Q(\\lambda)$ to work properly. $\\lambda$ was chosen from the optimisation process, along with other parameters. The algorithm doesn't seem to converge, even after 100000 iterations.\n",
    "    \n",
    "We are confident that our implementation is correct, so the problem might come from the scale of the reward/penalty and the parameters.\n",
    "    \n",
    "On a side note, in the Sutton's book, at the end of the chapter about Eligibility Traces, he said:\n",
    "> By adjusting $\\lambda$, we can place eligibility trace methods anywhere along a continuum from Monte Carlo to one-step TD methods. Where shall we place them? We do not yet have a good theoretical answer to this question, but a clear empirical answer appears to be emerging. On tasks with many steps per episode, or many steps within the half-life of discounting, it appears significantly better to use eligibility traces than not to. On the other hand, if the traces are so long as to produce a pure Monte Carlo method, or nearly so, then performance degrades sharply. Eligibility traces should be used to bring us toward Monte Carlo methods, but not all the way there. In the future it may be possible to vary the trade of between TD and Monte Carlo methods more finely by using variable  , but at present it is not clear how this can be done reliably and usefully."
   ]
  }
 ],
 "metadata": {
  "anaconda-cloud": {},
  "kernelspec": {
   "display_name": "Python [Root]",
   "language": "python",
   "name": "Python [Root]"
  },
  "language_info": {
   "codemirror_mode": {
    "name": "ipython",
    "version": 2
   },
   "file_extension": ".py",
   "mimetype": "text/x-python",
   "name": "python",
   "nbconvert_exporter": "python",
   "pygments_lexer": "ipython2",
   "version": "2.7.12"
  }
 },
 "nbformat": 4,
 "nbformat_minor": 0
}
